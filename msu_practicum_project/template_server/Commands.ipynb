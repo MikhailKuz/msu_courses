{
 "cells": [
  {
   "cell_type": "markdown",
   "metadata": {
    "heading_collapsed": true
   },
   "source": [
    "### SSH"
   ]
  },
  {
   "cell_type": "code",
   "execution_count": null,
   "metadata": {
    "hidden": true
   },
   "outputs": [],
   "source": [
    "# Создаём пару публичный-приватный ключ с шифрованием rsa длинной ключа 2048 бит и комментарием \"new key\"\n",
    "ssh-keygen -t rsa -b 2048 -C \"new key\""
   ]
  },
  {
   "cell_type": "code",
   "execution_count": null,
   "metadata": {
    "hidden": true
   },
   "outputs": [],
   "source": [
    "# Подключаемся к удалённому хосту 40.121.147.122 логинясь под пользователем username, используя в качестве аутентификации \n",
    "# приватный ключ id_rsa, и пробрасываем порт \"удалённый\" порт 5000 в \"локальный\" порт 1234 для всех доступных с удалённого\n",
    "# хоста адресов (т.к. указана маска 0.0.0.0)\n",
    "ssh username@40.121.147.122 -L 1234:0.0.0.0:5000 -I \"~/.ssh/id_rsa\""
   ]
  },
  {
   "cell_type": "code",
   "execution_count": null,
   "metadata": {
    "hidden": true
   },
   "outputs": [],
   "source": [
    "# запускаем jupyter notebook с отключённой аутентификацией на порту 1234\n",
    "jupyter notebook --no-browser --port 1234 --ip='*' --NotebookApp.token='' --NotebookApp.password=''"
   ]
  },
  {
   "cell_type": "markdown",
   "metadata": {
    "heading_collapsed": true
   },
   "source": [
    "### SFTP"
   ]
  },
  {
   "cell_type": "code",
   "execution_count": null,
   "metadata": {
    "hidden": true
   },
   "outputs": [],
   "source": [
    "# Подключаемся к удалённому хосту 40.121.147.122 логинясь под пользователем username, используя в качестве аутентификации \n",
    "# приватный ключ id_rsa\n",
    "sftp -i \"~/.ssh/id_rsa\" username@40.121.147.122\n",
    "\n",
    "# В результате запускается интерактивная консоль в которой доступны следующие команды (выписаны не все, только основные)\n",
    "cd path                            Изменить рабочую директорию на удалённом хосте на path\n",
    "lcd path                           Изменить рабочую директорию на локальной машине path\n",
    "\n",
    "get remote [local]                 Скачать файл remote в файл local\n",
    "put [-afPpRr] local [remote]       Загрузить файл local в файл remote\n",
    "\n",
    "ls [-1afhlnrSt] [path]             Вывести содержимое рабочей директории на удалённом хосте\n",
    "lls [ls-options [path]]            Вывести содержимое рабочей директории на локальной машине\n",
    "\n",
    "mkdir path                         Создать директорию на удалённом хосте\n",
    "lmkdir path                        Создать директорию на локальной машине\n",
    "\n",
    "pwd                                Вывести путь до рабочей директории на удалённом хосте\n",
    "lpwd                               Вывести путь до рабочей директории на локальной машине\n",
    "\n",
    "rm path                            Удалить файл на удалённой машине"
   ]
  },
  {
   "cell_type": "markdown",
   "metadata": {
    "heading_collapsed": true
   },
   "source": [
    "### tmux"
   ]
  },
  {
   "cell_type": "code",
   "execution_count": null,
   "metadata": {
    "hidden": true
   },
   "outputs": [],
   "source": [
    "# Создаём сессию с именем name\n",
    "tmux new -s name\n",
    "\n",
    "# Чтобы отключиться от сессии нужно нажать Ctrl+b d. При этом сессия продолжает работать в фоне\n",
    "# Чтобы завершить сессию можно или нажать Ctrl+b x или Ctrl+d."
   ]
  },
  {
   "cell_type": "code",
   "execution_count": null,
   "metadata": {
    "hidden": true
   },
   "outputs": [],
   "source": [
    "# Посмотреть список работающих сессий\n",
    "tmux ls"
   ]
  },
  {
   "cell_type": "code",
   "execution_count": null,
   "metadata": {
    "hidden": true
   },
   "outputs": [],
   "source": [
    "# Переподключиться к сессии (нет необходимомсти набирать полное имя сессии. Достаточно уникального префикса)\n",
    "tmux a -t name\n",
    "# или\n",
    "tmux attach -t name"
   ]
  },
  {
   "cell_type": "code",
   "execution_count": null,
   "metadata": {
    "hidden": true
   },
   "outputs": [],
   "source": [
    "# Убить сессию\n",
    "tmux kill-session -t name"
   ]
  },
  {
   "cell_type": "markdown",
   "metadata": {
    "heading_collapsed": true
   },
   "source": [
    "### docker"
   ]
  },
  {
   "cell_type": "code",
   "execution_count": null,
   "metadata": {
    "hidden": true
   },
   "outputs": [],
   "source": [
    "# Скачать контейнер из репозитория\n",
    "docker pull container_name"
   ]
  },
  {
   "cell_type": "code",
   "execution_count": null,
   "metadata": {
    "hidden": true
   },
   "outputs": [],
   "source": [
    "# Запустить контейнер\n",
    "docker run [-d] [-i] [-t] [-p 1234:5000] [-v local_path:container_path] [-w container_working_path] container_name [COMMAND]\n",
    "# Здесь\n",
    "# -d -- запуск в фоновом режиме\n",
    "# -i -- запуск в интерактивном режиме, т.е. даёт возможность взаимодействовать с контейнером через ввод\n",
    "# -t -- создать псевдокоммандную строку\n",
    "# -p -- пробросить порт контейнера 5000 на локальный порт 1234\n",
    "# -v -- примонтировать локальный файл/папку local_path внутрь контейнера по пути container_path\n",
    "# -w -- установить рабочую директорию внутри контейнера\n",
    "# container_name -- имя контейнера\n",
    "# COMMAND -- команда, которую нужно запустить внутри контейнера\n",
    "\n",
    "# Например:\n",
    "# docker run hello-world       # запускает команду по умолчанию внутри контейнера hello-world\n",
    "# docker -i -t ubuntu bash     # запускает командную строку bash внутри контейнера ubuntu выполняя её связывание\n",
    "#                                с \"локальной\" командой строкой (-t) и позволяя ввод в командную строку (-i) "
   ]
  },
  {
   "cell_type": "code",
   "execution_count": null,
   "metadata": {
    "hidden": true
   },
   "outputs": [],
   "source": [
    "# Посмотреть список запущенных [или бывших запущенными] контейнеров\n",
    "docker ps [-a]\n",
    "\n",
    "# Посмотреть список процессов внутри работающего контейнера\n",
    "docker top CONTAINER_ID\n",
    "\n",
    "# Остановить контейнер (т.е. отправить ему SIGTERM и дать время завершиться корректно)\n",
    "docker stop CONTAINER_ID\n",
    "\n",
    "# Убить контейнер (т.е. отправить ему SIGKILL и завершить сразу)\n",
    "docker kill CONTAINER_ID\n",
    "\n",
    "# Удалить контейнер (-f удалить работающий)\n",
    "docker rm [-f] CONTAINER_ID\n",
    "\n",
    "# Остановить все контейнеры и удалить их\n",
    "docker stop $(docker ps -a -q) && docker rm $(docker ps -a -q)"
   ]
  },
  {
   "cell_type": "code",
   "execution_count": null,
   "metadata": {
    "hidden": true
   },
   "outputs": [],
   "source": [
    "# Создать образ в репозитории repo_name c названием image_name и тегом image_tag (обычно latest)\n",
    "docker commit -m \"message\" CONTAINER_ID repo_name/image_name:image_tag"
   ]
  },
  {
   "cell_type": "code",
   "execution_count": null,
   "metadata": {
    "hidden": true
   },
   "outputs": [],
   "source": [
    "# Посмотреть список образов [включая промежуточные образы]\n",
    "docker images [-a]"
   ]
  },
  {
   "cell_type": "code",
   "execution_count": null,
   "metadata": {
    "hidden": true
   },
   "outputs": [],
   "source": [
    "# Удалить образ\n",
    "docker image rm IMAGE_ID"
   ]
  },
  {
   "cell_type": "code",
   "execution_count": null,
   "metadata": {
    "hidden": true
   },
   "outputs": [],
   "source": [
    "# Собрать образ из докерфайла (если в локальной директории лежит Dockerfile)\n",
    "docker build [--no-cache] -t repo_name/image_name:image_tag ."
   ]
  },
  {
   "cell_type": "code",
   "execution_count": null,
   "metadata": {
    "hidden": true
   },
   "outputs": [],
   "source": [
    "# Залить в публичный репозиторий hub.docker.com образ (repo_name должно совпадать с названием вашего репозитория)\n",
    "docker push repo_name/image_name:image_tag"
   ]
  },
  {
   "cell_type": "markdown",
   "metadata": {
    "heading_collapsed": true
   },
   "source": [
    "### Cuda on Microsort Azure"
   ]
  },
  {
   "cell_type": "code",
   "execution_count": null,
   "metadata": {
    "hidden": true
   },
   "outputs": [],
   "source": [
    "VERSION_WITH_DOT=$(lsb_release -rs)\n",
    "VERSION=\"${VERSION_WITH_DOT//./}\"\n",
    "\n",
    "CUDA_REPO_PKG=cuda-repo-ubuntu${VERSION}_10.0.130-1_amd64.deb\n",
    "\n",
    "wget -O /tmp/${CUDA_REPO_PKG http://developer.download.nvidia.com/compute/cuda/repos/ubuntu${VERSION}/x86_64/${CUDA_REPO_PKG} \n",
    "\n",
    "sudo dpkg -i /tmp/${CUDA_REPO_PKG}\n",
    "\n",
    "sudo apt-key adv --fetch-keys https://developer.download.nvidia.com/compute/cuda/repos/ubuntu${VERSION}/x86_64/7fa2af80.pub \n",
    "\n",
    "rm -f /tmp/${CUDA_REPO_PKG}\n",
    "\n",
    "sudo apt-get update\n",
    "\n",
    "sudo apt-get install cuda-drivers\n",
    "sudo apt-get install cuda"
   ]
  },
  {
   "cell_type": "markdown",
   "metadata": {
    "heading_collapsed": true
   },
   "source": [
    "### Google Colab Connector"
   ]
  },
  {
   "cell_type": "markdown",
   "metadata": {
    "hidden": true
   },
   "source": [
    "1. Необходимо зарегистрироваться на сайте https://dashboard.ngrok.com/signup\n",
    "2. Скопировать токен https://dashboard.ngrok.com/auth\n",
    "3. Запустить ячейку ниже и ввести токен из п.2 (возможно придётся запустить ячейку пару раз)\n",
    "4. Подключиться с помощью полученной команды\n",
    "5. При необходимости примонтировать Google Drive "
   ]
  },
  {
   "cell_type": "code",
   "execution_count": null,
   "metadata": {
    "hidden": true
   },
   "outputs": [],
   "source": [
    "import random, string, urllib.request, json, getpass\n",
    "\n",
    "#Generate root password\n",
    "password = ''.join(random.choice(string.ascii_letters + string.digits) for i in range(20))\n",
    "\n",
    "#Download ngrok\n",
    "! wget -q -c -nc https://bin.equinox.io/c/4VmDzA7iaHb/ngrok-stable-linux-amd64.zip\n",
    "! unzip -qq -n ngrok-stable-linux-amd64.zip\n",
    "\n",
    "#Setup sshd\n",
    "! apt-get install -qq -o=Dpkg::Use-Pty=0 openssh-server pwgen > /dev/null\n",
    "\n",
    "#Set root password\n",
    "! echo root:$password | chpasswd\n",
    "! mkdir -p /var/run/sshd\n",
    "! echo \"PermitRootLogin yes\" >> /etc/ssh/sshd_config\n",
    "! echo \"PasswordAuthentication yes\" >> /etc/ssh/sshd_config\n",
    "! echo \"LD_LIBRARY_PATH=/usr/lib64-nvidia\" >> /root/.bashrc\n",
    "! echo \"export LD_LIBRARY_PATH\" >> /root/.bashrc\n",
    "\n",
    "#Run sshd\n",
    "get_ipython().system_raw('/usr/sbin/sshd -D &')\n",
    "\n",
    "#Ask token\n",
    "print(\"Copy authtoken from https://dashboard.ngrok.com/auth\")\n",
    "authtoken = getpass.getpass()\n",
    "\n",
    "#Create tunnel\n",
    "get_ipython().system_raw('./ngrok authtoken $authtoken && ./ngrok tcp 22 &')\n",
    "\n",
    "#Get public address and print connect command\n",
    "with urllib.request.urlopen('http://localhost:4040/api/tunnels') as response:\n",
    "    data = json.loads(response.read().decode())\n",
    "    (host, port) = data['tunnels'][0]['public_url'][6:].split(':')\n",
    "    print(f'SSH command: ssh -p{port} root@{host}')\n",
    "\n",
    "#Print root password\n",
    "print(f'Root password: {password}')"
   ]
  },
  {
   "cell_type": "code",
   "execution_count": null,
   "metadata": {
    "hidden": true
   },
   "outputs": [],
   "source": [
    "! mkdir ~/content/gdrive -p\n",
    "\n",
    "from google.colab import drive\n",
    "\n",
    "drive.mount('~/content/gdrive')\n",
    "\n",
    "! ls ~/content/gdrive/"
   ]
  },
  {
   "cell_type": "code",
   "execution_count": null,
   "metadata": {
    "hidden": true
   },
   "outputs": [],
   "source": [
    "! sudo apt update && unminimizes"
   ]
  }
 ],
 "metadata": {
  "kernelspec": {
   "display_name": "Python 3",
   "language": "python",
   "name": "python3"
  },
  "language_info": {
   "codemirror_mode": {
    "name": "ipython",
    "version": 3
   },
   "file_extension": ".py",
   "mimetype": "text/x-python",
   "name": "python",
   "nbconvert_exporter": "python",
   "pygments_lexer": "ipython3",
   "version": "3.7.0"
  },
  "pycharm": {
   "stem_cell": {
    "cell_type": "raw",
    "source": [],
    "metadata": {
     "collapsed": false
    }
   }
  }
 },
 "nbformat": 4,
 "nbformat_minor": 2
}