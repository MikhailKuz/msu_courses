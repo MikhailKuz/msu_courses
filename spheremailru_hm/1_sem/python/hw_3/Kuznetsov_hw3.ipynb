{
 "cells": [
  {
   "cell_type": "code",
   "execution_count": 1,
   "metadata": {
    "collapsed": true
   },
   "outputs": [],
   "source": [
    "from selenium import webdriver\n",
    "from urllib.parse import urlparse\n",
    "import html\n",
    "from time import sleep\n",
    "from multiprocessing import Pool, Lock, Value\n",
    "import requests\n",
    "import json\n",
    "from bs4 import BeautifulSoup\n",
    "import pandas as pd\n",
    "import time\n",
    "import threading\n",
    "from selenium.common.exceptions import NoSuchElementException"
   ]
  },
  {
   "cell_type": "code",
   "execution_count": 2,
   "metadata": {
    "collapsed": true
   },
   "outputs": [],
   "source": [
    "def books_id_ath(url_current, driver, DELAY = 0.5):\n",
    "    books_id = set()\n",
    "    driver.get(url_current)\n",
    "    prh = driver.execute_script(\"return document.body.scrollHeight\")\n",
    "    nth = prh\n",
    "    while True:\n",
    "        driver.execute_script(\"window.scrollTo(0, document.body.scrollHeight);\")\n",
    "        sleep(DELAY)\n",
    "        prh = nth\n",
    "        nth = driver.execute_script(\"return document.body.scrollHeight\")\n",
    "        if prh == nth:\n",
    "            try:\n",
    "                driver.execute_script(\"window.scrollTo(0, -40);\")\n",
    "                next_page = driver.find_element_by_class_name('ty').click()\n",
    "                sleep(DELAY)\n",
    "            except NoSuchElementException:\n",
    "                break\n",
    "    nwid = [i.get_attribute('data-book') for i in driver.find_elements_by_class_name('gf')]\n",
    "    books_id.update(set(nwid))\n",
    "    return books_id"
   ]
  },
  {
   "cell_type": "code",
   "execution_count": 3,
   "metadata": {
    "collapsed": true
   },
   "outputs": [],
   "source": [
    "author_id = {\n",
    "  \"Дарья Донцова\":  29369,\n",
    "  \"Джеймс Роллинс\": 29442,\n",
    "  \"Макс Фрай\":      102994,\n",
    "  \"Эрин Хантер\":    26149,\n",
    "  \"Дмитрий Емец\":   35952\n",
    "}\n",
    "\n",
    "url_format = \"https://www.bookvoed.ru/author/books?id={author_id}\"\n",
    "url_params = dict()\n",
    "ids_athrs = dict()\n",
    "\n",
    "with webdriver.Chrome() as driver:\n",
    "    for author, _id in author_id.items():\n",
    "        url_params['author_id'] = _id\n",
    "        url_current = url_format.format(**url_params)\n",
    "        ids_athrs[author] = books_id_ath(url_current, driver)"
   ]
  },
  {
   "cell_type": "code",
   "execution_count": 19,
   "metadata": {
    "collapsed": true
   },
   "outputs": [],
   "source": [
    "url_format = \"https://www.bookvoed.ru/book?id={book_id}\"\n",
    "AGE_MAP = { 'ov': '0+', 'pv': '6+', 'qv': '12+', 'rv': '16+', 'sv': '18+'}\n",
    "\n",
    "def extract_book_info(id_book):\n",
    "    url_params['book_id'] =id_book\n",
    "    url_current = url_format.format(**url_params)\n",
    "    book_html = requests.get(url_current).text\n",
    "    soup = BeautifulSoup(book_html, 'html.parser')\n",
    "    book_info = {\n",
    "        \"ID\": id_book,\n",
    "        \"Обложка\": soup.find('img', class_ = 'tf').attrs['src'],\n",
    "        \"Рейтинг\": float(soup.find('div', class_ = 'af').attrs['style'].split(' ')[1][:-1]),\n",
    "    }\n",
    "    #\n",
    "    t = soup.find('div', class_ = \"He xe \")\n",
    "    if t is not None:\n",
    "        tt = t.find('a', class_ = 'Ke Me ')\n",
    "        if tt is not None:\n",
    "            ttt = tt.text[1:-1]\n",
    "            if ttt != '':\n",
    "                book_info[\"Понравилось\"] = int(ttt)\n",
    "        tt = t.find('a', class_ = 'Ke Le ff')\n",
    "        if tt is not None:\n",
    "            ttt = tt.text[1:-1]\n",
    "            if ttt != '':\n",
    "                book_info[\"В закладки\"] = int(ttt)\n",
    "        tt = t.find('a', class_ = 'Ke Oe ')\n",
    "        if tt is not None:\n",
    "            ttt = tt.text[1:-1]\n",
    "            if ttt != '':\n",
    "                book_info[\"Не понравилось\"] = int(ttt)\n",
    "    #\n",
    "    #Description\n",
    "    t = soup.find('div', class_ = 'lw')\n",
    "    if t is not None:\n",
    "        book_info[\"Описание\"] = t.text[:soup.find('div', class_ = 'lw').text.rfind('далее')][1:]\n",
    "    #\n",
    "    #Name\n",
    "    t = soup.find('div', class_ = 'lw')\n",
    "    if t is not None:\n",
    "        book_info['Название'] = t.text[:len(soup.find('h1', itemprop = 'name').find('span').text)]\n",
    "    #\n",
    "    #age\n",
    "    age = soup.find('div', class_='l aw').find('div', class_='nM')['class'][0]\n",
    "    book_info['Возраст'] = AGE_MAP[age]\n",
    "    #\n",
    "    #price\n",
    "    t = soup.find('div', class_ = 'Hu Wu')\n",
    "    if t is not None:\n",
    "        book_info[\"Цена\"] = float(t.text.split(' ')[0][1:])\n",
    "    #\n",
    "    #table\n",
    "    table = soup.find('table', class_='tw')\n",
    "    rows = table.find_all('tr')\n",
    "    data = [list(map(lambda x: x.text, row.find_all('td'))) for row in rows]\n",
    "    for i in data:\n",
    "        book_info[i[0][:-1]] = i[1]\n",
    "    #\n",
    "    return book_info\n",
    "    "
   ]
  },
  {
   "cell_type": "code",
   "execution_count": 20,
   "metadata": {},
   "outputs": [
    {
     "data": {
      "text/plain": [
       "{'ID': 9340993,\n",
       " 'ISBN': '978-5-04-100203-9',\n",
       " 'Автор': 'Донцова Дарья Аркадьевна',\n",
       " 'В базе': 'Э.ИД(м).Шоколадное пугало',\n",
       " 'В закладки': 30,\n",
       " 'Возраст': '16+',\n",
       " 'Год': '2019',\n",
       " 'Издательство': 'Эксмо',\n",
       " 'Код': '1524330',\n",
       " 'Название': '\\nЕсли вы заботитесь о св',\n",
       " 'Обложка': '/files/1836/59/23/24/6.jpeg',\n",
       " 'Описание': 'Если вы заботитесь о своем здоровье, не читайте до обеда книг по оккультизму и магии! Эх, да только некому было дать такой совет Владимиру Сиракузову, когда он начал увлекаться эзотерической литературой. Вот и снесло преуспевающему бизнесмену крышу – сам дьявол собственной персоной начал к нему являться. Татьяна Сергеева, начальница особой бригады, к которой он обратился за помощью, так и решила – напрочь снесло. \\nНо что это достает Сиракузов из портфеля? Что это за лист пергамента с печатью и бурым пятном! Да, подтверждает Владимир, это договор с дьяволом о продаже души. Скрепленный кровью. Экспертиза показала – его, Сиракузова, кровью. Вот это поворот! Но Танюше по плечу и нечистую силу на чистую воду вывести! ',\n",
       " 'Переплёт': 'мягкий',\n",
       " 'Понравилось': 3,\n",
       " 'Размеры': '10,40 см x 16,50 см x 2,10 см',\n",
       " 'Рейтинг': 66.67,\n",
       " 'Серия': 'Иронический детектив (обложка)',\n",
       " 'Страниц': '320',\n",
       " 'Тематика': 'Отечественные',\n",
       " 'Тираж': '40000',\n",
       " 'Формат': '70x90/32',\n",
       " 'Цена': 168.0}"
      ]
     },
     "execution_count": 20,
     "metadata": {},
     "output_type": "execute_result"
    }
   ],
   "source": [
    "extract_book_info(9340993)"
   ]
  },
  {
   "cell_type": "code",
   "execution_count": 8,
   "metadata": {},
   "outputs": [
    {
     "name": "stdout",
     "output_type": "stream",
     "text": [
      "1774\n"
     ]
    }
   ],
   "source": [
    "all_ids = set()\n",
    "for i,j in ids_athrs.items():\n",
    "    all_ids.update(j)\n",
    "print(len(all_ids))"
   ]
  },
  {
   "cell_type": "code",
   "execution_count": 21,
   "metadata": {},
   "outputs": [
    {
     "name": "stdout",
     "output_type": "stream",
     "text": [
      "1770 objects are processed...Wall time: 6min 12s\n"
     ]
    }
   ],
   "source": [
    "%%time\n",
    "\n",
    "n_processed = 0\n",
    "result = []\n",
    "lock = threading.Lock()\n",
    "\n",
    "def func_wrapper(uid):\n",
    "    res = extract_book_info(uid) \n",
    "    global n_processed\n",
    "    global result\n",
    "    with lock:\n",
    "        n_processed += 1\n",
    "        if n_processed % 10 == 0:\n",
    "            print(f\"\\r{n_processed} objects are processed...\", end='', flush=True)\n",
    "        result.append(res)\n",
    "    return res\n",
    "\n",
    "workerthreadlist=[]\n",
    "\n",
    "for i in all_ids:\n",
    "    my_thread = threading.Thread(target=func_wrapper, args=(i,))\n",
    "    workerthreadlist.append(my_thread)\n",
    "    my_thread.start()\n",
    "\n",
    "for x in range(0,len(all_ids)):\n",
    "    workerthreadlist[x].join()\n",
    "    \n",
    "df = pd.DataFrame(result)\n",
    "df.sort_values(by=['ID'], inplace=True)\n",
    "\n",
    "with open('hw_3.csv', mode='w', encoding='utf-8') as f_csv:\n",
    "    df.to_csv(f_csv, index=False)"
   ]
  },
  {
   "cell_type": "code",
   "execution_count": null,
   "metadata": {
    "collapsed": true
   },
   "outputs": [],
   "source": []
  }
 ],
 "metadata": {
  "kernelspec": {
   "display_name": "Python 3",
   "language": "python",
   "name": "python3"
  },
  "language_info": {
   "codemirror_mode": {
    "name": "ipython",
    "version": 3
   },
   "file_extension": ".py",
   "mimetype": "text/x-python",
   "name": "python",
   "nbconvert_exporter": "python",
   "pygments_lexer": "ipython3",
   "version": "3.6.3"
  }
 },
 "nbformat": 4,
 "nbformat_minor": 2
}
