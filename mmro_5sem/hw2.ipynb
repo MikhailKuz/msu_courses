{
 "cells": [
  {
   "cell_type": "markdown",
   "metadata": {
    "id": "QrDhvnHbQ0eh"
   },
   "source": [
    "## Машинное обучение, ВМК МГУ\n",
    "\n",
    "## Практическое задание 2\n",
    "\n",
    "### Общая информация\n",
    "Дата выдачи: 7 октября 2020\n",
    "\n",
    "Максимальная оценка: 10 баллов + 1 бонусный балл\n",
    "\n",
    "Мягкий дедлайн: 23:59MSK 20 октября\n",
    "\n",
    "Жесткий дедлайн: 23:59MSK 27 октября."
   ]
  },
  {
   "cell_type": "markdown",
   "metadata": {
    "id": "Pp3N_JvKQ0ei"
   },
   "source": [
    "### О задании\n",
    "\n",
    "В этом задании вы:\n",
    "- Познакомитесь с методом решения задачи регрессии на основе метода ближайших соседей.\n",
    "- Реализуете алгоритм kNN для задачи регрессии.\n",
    "- Изучите методы работы с категориальными и текстовыми переменными.\n",
    "\n",
    "\n",
    "### Оценивание и штрафы\n",
    "Каждая из задач имеет определенную «стоимость» (указана в скобках около задачи). Максимально допустимая оценка за работу — 10 баллов.\n",
    "\n",
    "Сдавать задание после указанного срока сдачи нельзя. При выставлении неполного балла за задание в связи с наличием ошибок на усмотрение проверяющего предусмотрена возможность исправить работу на указанных в ответном письме условиях.\n",
    "\n",
    "Задание выполняется самостоятельно. «Похожие» решения считаются плагиатом и все задействованные студенты (в том числе те, у кого списали) не могут получить за него больше 0 баллов (подробнее о плагиате см. на странице курса). Если вы нашли решение какого-то из заданий (или его часть) в открытом источнике, необходимо указать ссылку на этот источник в отдельном блоке в конце вашей работы (скорее всего вы будете не единственным, кто это нашел, поэтому чтобы исключить подозрение в плагиате, необходима ссылка на источник).\n",
    "\n",
    "Неэффективная реализация кода может негативно отразиться на оценке.\n",
    "\n",
    "\n",
    "### Формат сдачи\n",
    "Для сдачи задания переименуйте получившийся файл *.ipynb в соответствии со следующим форматом: homework-practice-02-Username.ipynb, где Username — ваша фамилия и имя на латинице именно в таком порядке (например, homework-practice-02-ivanov.ipynb).\n",
    "\n",
    "Далее отправьте этот файл на anytask в соответсвующий раздел."
   ]
  },
  {
   "cell_type": "code",
   "execution_count": null,
   "metadata": {
    "id": "2b1WFVe3Q0ej"
   },
   "outputs": [],
   "source": [
    "import numpy as np\n",
    "import pandas as pd"
   ]
  },
  {
   "cell_type": "markdown",
   "metadata": {
    "id": "8IGQLJSBQ0em"
   },
   "source": [
    "Все эксперименты в этой лабораторной работе предлагается проводить на данных соревнования New York City Airbnb Open Data: https://www.kaggle.com/dgomonov/new-york-city-airbnb-open-data#AB_NYC_2019.csv\n",
    "\n",
    "В данной задаче предлагается предсказать цену на съем квартиры в зависимости от её параметров."
   ]
  },
  {
   "cell_type": "code",
   "execution_count": null,
   "metadata": {
    "colab": {
     "base_uri": "https://localhost:8080/",
     "height": 412
    },
    "id": "eNXIRYkyQ0en",
    "outputId": "3170e67b-3298-4151-a7c8-3be8f8c8d1d7",
    "scrolled": true
   },
   "outputs": [
    {
     "data": {
      "text/html": [
       "<div>\n",
       "<style scoped>\n",
       "    .dataframe tbody tr th:only-of-type {\n",
       "        vertical-align: middle;\n",
       "    }\n",
       "\n",
       "    .dataframe tbody tr th {\n",
       "        vertical-align: top;\n",
       "    }\n",
       "\n",
       "    .dataframe thead th {\n",
       "        text-align: right;\n",
       "    }\n",
       "</style>\n",
       "<table border=\"1\" class=\"dataframe\">\n",
       "  <thead>\n",
       "    <tr style=\"text-align: right;\">\n",
       "      <th></th>\n",
       "      <th>id</th>\n",
       "      <th>name</th>\n",
       "      <th>host_id</th>\n",
       "      <th>host_name</th>\n",
       "      <th>neighbourhood_group</th>\n",
       "      <th>neighbourhood</th>\n",
       "      <th>latitude</th>\n",
       "      <th>longitude</th>\n",
       "      <th>room_type</th>\n",
       "      <th>price</th>\n",
       "      <th>minimum_nights</th>\n",
       "      <th>number_of_reviews</th>\n",
       "      <th>last_review</th>\n",
       "      <th>reviews_per_month</th>\n",
       "      <th>calculated_host_listings_count</th>\n",
       "      <th>availability_365</th>\n",
       "    </tr>\n",
       "  </thead>\n",
       "  <tbody>\n",
       "    <tr>\n",
       "      <th>0</th>\n",
       "      <td>2539</td>\n",
       "      <td>Clean &amp; quiet apt home by the park</td>\n",
       "      <td>2787</td>\n",
       "      <td>John</td>\n",
       "      <td>Brooklyn</td>\n",
       "      <td>Kensington</td>\n",
       "      <td>40.64749</td>\n",
       "      <td>-73.97237</td>\n",
       "      <td>Private room</td>\n",
       "      <td>149</td>\n",
       "      <td>1</td>\n",
       "      <td>9</td>\n",
       "      <td>2018-10-19</td>\n",
       "      <td>0.21</td>\n",
       "      <td>6</td>\n",
       "      <td>365</td>\n",
       "    </tr>\n",
       "    <tr>\n",
       "      <th>1</th>\n",
       "      <td>2595</td>\n",
       "      <td>Skylit Midtown Castle</td>\n",
       "      <td>2845</td>\n",
       "      <td>Jennifer</td>\n",
       "      <td>Manhattan</td>\n",
       "      <td>Midtown</td>\n",
       "      <td>40.75362</td>\n",
       "      <td>-73.98377</td>\n",
       "      <td>Entire home/apt</td>\n",
       "      <td>225</td>\n",
       "      <td>1</td>\n",
       "      <td>45</td>\n",
       "      <td>2019-05-21</td>\n",
       "      <td>0.38</td>\n",
       "      <td>2</td>\n",
       "      <td>355</td>\n",
       "    </tr>\n",
       "    <tr>\n",
       "      <th>2</th>\n",
       "      <td>3647</td>\n",
       "      <td>THE VILLAGE OF HARLEM....NEW YORK !</td>\n",
       "      <td>4632</td>\n",
       "      <td>Elisabeth</td>\n",
       "      <td>Manhattan</td>\n",
       "      <td>Harlem</td>\n",
       "      <td>40.80902</td>\n",
       "      <td>-73.94190</td>\n",
       "      <td>Private room</td>\n",
       "      <td>150</td>\n",
       "      <td>3</td>\n",
       "      <td>0</td>\n",
       "      <td>NaN</td>\n",
       "      <td>NaN</td>\n",
       "      <td>1</td>\n",
       "      <td>365</td>\n",
       "    </tr>\n",
       "    <tr>\n",
       "      <th>3</th>\n",
       "      <td>3831</td>\n",
       "      <td>Cozy Entire Floor of Brownstone</td>\n",
       "      <td>4869</td>\n",
       "      <td>LisaRoxanne</td>\n",
       "      <td>Brooklyn</td>\n",
       "      <td>Clinton Hill</td>\n",
       "      <td>40.68514</td>\n",
       "      <td>-73.95976</td>\n",
       "      <td>Entire home/apt</td>\n",
       "      <td>89</td>\n",
       "      <td>1</td>\n",
       "      <td>270</td>\n",
       "      <td>2019-07-05</td>\n",
       "      <td>4.64</td>\n",
       "      <td>1</td>\n",
       "      <td>194</td>\n",
       "    </tr>\n",
       "    <tr>\n",
       "      <th>4</th>\n",
       "      <td>5022</td>\n",
       "      <td>Entire Apt: Spacious Studio/Loft by central park</td>\n",
       "      <td>7192</td>\n",
       "      <td>Laura</td>\n",
       "      <td>Manhattan</td>\n",
       "      <td>East Harlem</td>\n",
       "      <td>40.79851</td>\n",
       "      <td>-73.94399</td>\n",
       "      <td>Entire home/apt</td>\n",
       "      <td>80</td>\n",
       "      <td>10</td>\n",
       "      <td>9</td>\n",
       "      <td>2018-11-19</td>\n",
       "      <td>0.10</td>\n",
       "      <td>1</td>\n",
       "      <td>0</td>\n",
       "    </tr>\n",
       "  </tbody>\n",
       "</table>\n",
       "</div>"
      ],
      "text/plain": [
       "     id  ... availability_365\n",
       "0  2539  ...              365\n",
       "1  2595  ...              355\n",
       "2  3647  ...              365\n",
       "3  3831  ...              194\n",
       "4  5022  ...                0\n",
       "\n",
       "[5 rows x 16 columns]"
      ]
     },
     "execution_count": 4,
     "metadata": {
      "tags": []
     },
     "output_type": "execute_result"
    }
   ],
   "source": [
    "data = pd.read_csv(path + 'AB_NYC_2019.csv')\n",
    "data.head()"
   ]
  },
  {
   "cell_type": "code",
   "execution_count": null,
   "metadata": {
    "colab": {
     "base_uri": "https://localhost:8080/",
     "height": 34
    },
    "id": "YtyNdk00Q0eq",
    "outputId": "e2a674fd-5f32-407d-931f-434862e9a40a"
   },
   "outputs": [
    {
     "data": {
      "text/plain": [
       "(48895, 16)"
      ]
     },
     "execution_count": 6,
     "metadata": {
      "tags": []
     },
     "output_type": "execute_result"
    }
   ],
   "source": [
    "data.shape"
   ]
  },
  {
   "cell_type": "code",
   "execution_count": null,
   "metadata": {
    "colab": {
     "base_uri": "https://localhost:8080/",
     "height": 294
    },
    "id": "61_-UO7yQ0et",
    "outputId": "812eea12-bde0-4701-a001-da95a9c7b4ed"
   },
   "outputs": [
    {
     "name": "stdout",
     "output_type": "stream",
     "text": [
      "id 48895\n",
      "name 47906\n",
      "host_id 37457\n",
      "host_name 11453\n",
      "neighbourhood_group 5\n",
      "neighbourhood 221\n",
      "latitude 19048\n",
      "longitude 14718\n",
      "room_type 3\n",
      "price 674\n",
      "minimum_nights 109\n",
      "number_of_reviews 394\n",
      "last_review 1765\n",
      "reviews_per_month 938\n",
      "calculated_host_listings_count 47\n",
      "availability_365 366\n"
     ]
    }
   ],
   "source": [
    "# число значений у признаков\n",
    "for col_name in data.columns:\n",
    "    print(col_name, len(data[col_name].unique()))"
   ]
  },
  {
   "cell_type": "code",
   "execution_count": null,
   "metadata": {
    "colab": {
     "base_uri": "https://localhost:8080/",
     "height": 311
    },
    "id": "oqkIee01Q0ew",
    "outputId": "be534725-dedf-4720-9a36-2af4cb45533c"
   },
   "outputs": [
    {
     "data": {
      "text/plain": [
       "id                                    0\n",
       "name                                 16\n",
       "host_id                               0\n",
       "host_name                            21\n",
       "neighbourhood_group                   0\n",
       "neighbourhood                         0\n",
       "latitude                              0\n",
       "longitude                             0\n",
       "room_type                             0\n",
       "price                                 0\n",
       "minimum_nights                        0\n",
       "number_of_reviews                     0\n",
       "last_review                       10052\n",
       "reviews_per_month                 10052\n",
       "calculated_host_listings_count        0\n",
       "availability_365                      0\n",
       "dtype: int64"
      ]
     },
     "execution_count": 8,
     "metadata": {
      "tags": []
     },
     "output_type": "execute_result"
    }
   ],
   "source": [
    "data.isna().sum()"
   ]
  },
  {
   "cell_type": "markdown",
   "metadata": {
    "id": "MXUbjkTSQ0e0"
   },
   "source": [
    "Как видите, в данных есть пропуски. Не забудьте обработать их"
   ]
  },
  {
   "cell_type": "code",
   "execution_count": null,
   "metadata": {
    "colab": {
     "base_uri": "https://localhost:8080/",
     "height": 103
    },
    "id": "_-LOJta5Q0e1",
    "outputId": "02570c65-bc62-46b9-fff5-c9e3e337e725"
   },
   "outputs": [
    {
     "name": "stderr",
     "output_type": "stream",
     "text": [
      "/usr/local/lib/python3.6/dist-packages/pandas/core/indexing.py:670: SettingWithCopyWarning: \n",
      "A value is trying to be set on a copy of a slice from a DataFrame\n",
      "\n",
      "See the caveats in the documentation: https://pandas.pydata.org/pandas-docs/stable/user_guide/indexing.html#returning-a-view-versus-a-copy\n",
      "  iloc._setitem_with_indexer(indexer, value)\n"
     ]
    }
   ],
   "source": [
    "columns = data.columns\n",
    "data.replace(np.nan, {columns[1]:'', columns[3]:'', columns[13]:0}, inplace=True)\n",
    "\n",
    "data['last_review'] = pd.to_datetime(data['last_review'])\n",
    "dates = pd.to_datetime(data['last_review']).dropna()\n",
    "min_date = dates.min()\n",
    "max_date = dates.max()\n",
    "\n",
    "pnull = data['last_review'].isnull()\n",
    "data['last_review'].fillna(min_date, inplace=True)\n",
    "data['last_review'] = data['last_review'].apply(lambda x: (max_date - x).days/(max_date - min_date).days)\n",
    "data['last_review'].loc[pnull] *= 10"
   ]
  },
  {
   "cell_type": "markdown",
   "metadata": {
    "id": "yo_q6ioGQ0fU"
   },
   "source": [
    "Значения в 'last_review' преобразовал в $\\large\\frac{кол-во\\;дней\\;от\\;max\\;даты\\;до\\; значения\\; в\\; датасете}{кол-во\\; дней\\; от\\; max\\; даты\\; до\\; min\\; в\\; датасете}$ и $10$, если значение Nan.  \n",
    "При поступлении новых данных, эту колонку придётся заново пересчитывать. Если её отбросить, то потеряем часть данных"
   ]
  },
  {
   "cell_type": "code",
   "execution_count": null,
   "metadata": {
    "id": "tEtUg8JRQ0fV",
    "outputId": "39614d3a-3a6a-45ba-c785-7e5c0d1b7344",
    "scrolled": false
   },
   "outputs": [
    {
     "data": {
      "text/plain": [
       "id                                0\n",
       "name                              0\n",
       "host_id                           0\n",
       "host_name                         0\n",
       "neighbourhood_group               0\n",
       "neighbourhood                     0\n",
       "latitude                          0\n",
       "longitude                         0\n",
       "room_type                         0\n",
       "price                             0\n",
       "minimum_nights                    0\n",
       "number_of_reviews                 0\n",
       "last_review                       0\n",
       "reviews_per_month                 0\n",
       "calculated_host_listings_count    0\n",
       "availability_365                  0\n",
       "dtype: int64"
      ]
     },
     "execution_count": 7,
     "metadata": {
      "tags": []
     },
     "output_type": "execute_result"
    }
   ],
   "source": [
    "data.isna().sum()"
   ]
  },
  {
   "cell_type": "markdown",
   "metadata": {
    "id": "BjmXGTYQQ0fa"
   },
   "source": [
    "Разобъем данные на обучение и контроль."
   ]
  },
  {
   "cell_type": "code",
   "execution_count": null,
   "metadata": {
    "id": "ruIqPBGXQ0fa",
    "scrolled": false
   },
   "outputs": [],
   "source": [
    "from sklearn.model_selection import train_test_split\n",
    "X_train, X_test, y_train, y_test = train_test_split(data.drop(columns=['price']), data[['price']],\n",
    "                                                    test_size=0.3, random_state=241)"
   ]
  },
  {
   "cell_type": "markdown",
   "metadata": {
    "id": "xrso2Z0nQ0fd"
   },
   "source": [
    "## Часть 1: Алгоритм kNN в задаче регрессии"
   ]
  },
  {
   "cell_type": "markdown",
   "metadata": {
    "id": "XTPq2m-bQ0fd"
   },
   "source": [
    "<b> 1.1 (1.5 балла) </b>\n",
    "Реализуйте класс `KNNRegressor`, который используя метод k ближайших соседей решает задачу регрессии. Для решение данной задачи, необходимо найти $N_k$ - k соседей, и после использовать значения их целевых переменных для предсказания:\n",
    "\\begin{align}\n",
    "y = \\frac{1}{k}\\sum_{n \\in N_k}w_n y_n,\n",
    "\\end{align}\n",
    "\n",
    "где $w_n$ - вес каждого соседа. \n",
    "\n",
    "При этом `KNNRegressor` может работать в 2 режимах:\n",
    " - $uniform$ - ближайшие соседи учитываются с одинаковыми весами.\n",
    " - $distance$ - вес ближайших соседей зависит от расстояния\n",
    " \n",
    "**Сигнатуру методов, классов, функции при желании можно менять.**"
   ]
  },
  {
   "cell_type": "code",
   "execution_count": null,
   "metadata": {
    "id": "awPeCJRlQ0fe"
   },
   "outputs": [],
   "source": [
    "from typing import Union, Callable, Iterable, Optional\n",
    "from sklearn.neighbors import NearestNeighbors\n",
    "\n",
    "\n",
    "class KNNRegressor():\n",
    "    def __init__(self, \n",
    "                 n_neighbors: int = 3, \n",
    "                 metric: Union[str, Callable] = 'euclidean', \n",
    "                 mode: str = 'uniform'):\n",
    "        \"\"\"\n",
    "        params:\n",
    "            n_neighbors: number of neighbors\n",
    "            metric: metric to use for distance computation\n",
    "            mode: 'uniform' or 'distance'\n",
    "            'uniform' - all points in each neighborhood are weighted equally\n",
    "            'distance' - weight points by the inverse of their distance\n",
    "        \"\"\"\n",
    "        self.__nn = NearestNeighbors(n_neighbors=n_neighbors,\n",
    "                                     metric=metric,\n",
    "                                     algorithm='brute')\n",
    "        self.__mode = mode\n",
    "        self.__n_neighbors = n_neighbors\n",
    "\n",
    "    def fit(self, X: np.array, y: np.array) -> None:\n",
    "        \"\"\"\n",
    "            X: data\n",
    "            y: labels\n",
    "        \"\"\"\n",
    "        self.train_y = y\n",
    "        self.__nn.fit(X)\n",
    "    \n",
    "    def get_kneighbors(self, X, n_neighbors, return_distance):\n",
    "        return self.__nn.kneighbors(X,\n",
    "                                  n_neighbors = n_neighbors,\n",
    "                                  return_distance=return_distance)\n",
    "    \n",
    "    def get_labels(self, x):\n",
    "        return self.train_y.values.ravel()[int(x)]\n",
    "\n",
    "    def calc_w_of_c(self, row_dist_id):\n",
    "\n",
    "        if self.__mode == 'distance':\n",
    "            border = row_dist_id.shape[0] // 2\n",
    "            labels = row_dist_id[border: 2 * border]\n",
    "            w = row_dist_id[:border]\n",
    "            ans = (w @ labels.T) / w.sum()\n",
    "            return ans\n",
    "        else:\n",
    "            return row_dist_id.mean()\n",
    "\n",
    "    def predict(self, \n",
    "                X: np.array, \n",
    "                n_neighbors: Optional[int] = None) -> np.array:\n",
    "        if n_neighbors is None:\n",
    "            n_neighbors = self.__n_neighbors\n",
    "        get_lab = np.vectorize(self.get_labels)\n",
    "        if self.__mode == 'distance':\n",
    "            features = self.get_kneighbors(X,\n",
    "                                           n_neighbors,\n",
    "                                           return_distance=True)\n",
    "            features1 = get_lab(features[1])\n",
    "            features = np.concatenate((1 / (features[0] + 1e-5),\n",
    "                                       features1), axis=1)\n",
    "        else:\n",
    "            features = self.get_kneighbors(X,\n",
    "                                           n_neighbors,\n",
    "                                           return_distance=False)\n",
    "            features = get_lab(features)\n",
    "\n",
    "        ans = np.apply_along_axis(self.calc_w_of_c,\n",
    "                                  1,\n",
    "                                  features)\n",
    "        return ans\n",
    "    \n",
    "    def get_params(self, deep = False):\n",
    "        return {'n_neighbors':self.__n_neighbors}\n",
    "    \n",
    "    def set_params(self, **params):\n",
    "        self.__n_neighbors = params['n_neighbors']\n",
    "        return self"
   ]
  },
  {
   "cell_type": "markdown",
   "metadata": {
    "id": "Kqgn_h7PQ0fj"
   },
   "source": [
    "## Часть 2: Категориальные признаки"
   ]
  },
  {
   "cell_type": "markdown",
   "metadata": {
    "id": "JmggXPxNdWEh"
   },
   "source": [
    "<b>2.1 (1 балл)</b>\n",
    "Реализуйте три функции расстояния на категориальных признаках _(в этом задании только на них!)_ , которые обсуждались на [втором семинаре](https://github.com/mmp-mmro-team/mmp_mmro_fall_2020/blob/master/seminars/sem02_knn.pdf). Не забудьте, что KNNRegressor должен уметь работать с этими функциями расстояния. Как вариант, можно реализовать метрики как [user-defined distance](http://scikit-learn.org/stable/modules/generated/sklearn.neighbors.DistanceMetric.html)."
   ]
  },
  {
   "cell_type": "code",
   "execution_count": null,
   "metadata": {
    "id": "K4gWgomGdgkV"
   },
   "outputs": [],
   "source": [
    "import sklearn\n",
    "from sklearn.preprocessing import LabelEncoder\n",
    "from sklearn.metrics import mean_squared_error\n",
    "\n",
    "\n",
    "cat_f = ['neighbourhood_group', 'neighbourhood', 'room_type']\n",
    "p = dict()\n",
    "p2 = dict()\n",
    "pre_comp_fl = dict()\n",
    "f = dict()\n",
    "encds = []\n",
    "\n",
    "for fn in range(len(cat_f)):\n",
    "    encd = LabelEncoder()\n",
    "    values = pd.Series(data=encd.fit_transform(data[cat_f][cat_f[fn]].values),\n",
    "                       index=data.index)\n",
    "    encds.append(encd)\n",
    "    vc = values.value_counts()\n",
    "    size = X_train.shape[0]\n",
    "    p[fn] = vc / size\n",
    "    p2[fn] = vc * (vc - 1) / (size * (size - 1))\n",
    "    f[fn] = vc\n",
    "\n",
    "    \n",
    "for i in range(len(cat_f)):\n",
    "    ans = dict()\n",
    "    for j in p[i].index:\n",
    "        ans[j] = p2[i].loc[p[i].index[(p[i] <= p[i].loc[j]).values]].sum()\n",
    "    pre_comp_fl[i] = ans\n",
    "\n",
    "\n",
    "def ap0(x):\n",
    "    global pre_comp_fl\n",
    "    return pre_comp_fl[0][x]\n",
    "\n",
    "\n",
    "def ap1(x):\n",
    "    global pre_comp_fl\n",
    "    return pre_comp_fl[1][x]\n",
    "\n",
    "\n",
    "def ap2(x):\n",
    "    global pre_comp_fl\n",
    "    return pre_comp_fl[2][x]\n",
    "\n",
    "\n",
    "def bp0(x):\n",
    "    global f\n",
    "    global raw_v\n",
    "    return f[0][x] * f[0][raw_v]\n",
    "\n",
    "\n",
    "def bp1(x):\n",
    "    global f\n",
    "    global raw_v\n",
    "    return f[1][x] * f[1][raw_v]\n",
    "\n",
    "\n",
    "def bp2(x):\n",
    "    global f\n",
    "    global raw_v\n",
    "    return f[2][x] * f[2][raw_v]\n",
    "\n",
    "\n",
    "vbrute = sklearn.neighbors.VALID_METRICS['brute']\n",
    "vmetrics = sklearn.metrics.pairwise._VALID_METRICS\n",
    "pairwise = sklearn.metrics.pairwise.PAIRWISE_DISTANCE_FUNCTIONS\n",
    "ap0f = np.vectorize(ap0)\n",
    "ap1f = np.vectorize(ap1)\n",
    "ap2f = np.vectorize(ap2)\n",
    "\n",
    "bp0f = np.vectorize(bp0)\n",
    "bp1f = np.vectorize(bp1)\n",
    "bp2f = np.vectorize(bp2)\n",
    "raw_v = 0\n",
    "\n",
    "def install_metric(f):\n",
    "    name = f.__name__\n",
    "    if name not in vbrute:\n",
    "        vbrute.append(name)\n",
    "    if name not in vmetrics:\n",
    "        vmetrics.append(name)\n",
    "\n",
    "    pairwise[name] = f\n",
    "    return f\n",
    "\n",
    "\n",
    "@install_metric\n",
    "def overlap(X, Z):\n",
    "    \"\"\"\n",
    "    params:\n",
    "        X: ndarray of shape {x_samples, features}\n",
    "        Z: ndarray of shape {z_samples, features}\n",
    "        **kwargs: keyword arguments, passed in the metric_params argument\n",
    "    returns: ndarray of shape {x_samples, z_samples}\n",
    "    \"\"\"\n",
    "    if X.shape[0] == X.size:\n",
    "        return np.sum(X != Z, axis=1)\n",
    "    \n",
    "    size2 = Z.shape[0]\n",
    "    if Z.shape[0] == Z.size:\n",
    "        size2 = 1\n",
    "    \n",
    "    res = np.empty((X.shape[0], Z.shape[0]))\n",
    "    ind = 0\n",
    "    for row in X:\n",
    "        res[ind, :] = np.sum(row != Z, axis=1)\n",
    "        ind += 1\n",
    "        \n",
    "    return res\n",
    "\n",
    "\n",
    "@install_metric\n",
    "def flattened_overlap(X, Z):\n",
    "    \"\"\"\n",
    "    params:\n",
    "        X: ndarray of shape {x_samples, features}\n",
    "        Z: ndarray of shape {z_samples, features}\n",
    "        **kwargs: keyword arguments, passed in the metric_params argument\n",
    "    returns: ndarray of shape {x_samples, z_samples}\n",
    "    \"\"\"\n",
    "    \n",
    "    if X.shape[0] == X.size:\n",
    "        indx = X != Z\n",
    "        p_r_ans = np.array(Z, dtype='float32')\n",
    "        p_r_ans[indx] = 1\n",
    "        indx = ~indx\n",
    "        \n",
    "        funcs = [ap0f, ap1f, ap2f]\n",
    "        for ci in range(3):\n",
    "            if indx[:, ci].sum() != 0:\n",
    "                p_r_ans[:, ci][indx[:, ci]] = funcs[ci](p_r_ans[:, ci][indx[:, ci]])\n",
    "            \n",
    "        return np.sum(p_r_ans, axis=1)\n",
    "    \n",
    "    size2 = Z.shape[0]\n",
    "    if Z.shape[0] == Z.size:\n",
    "        size2 = 1\n",
    "    \n",
    "    res = np.empty((X.shape[0], size2), dtype='float32')\n",
    "    ind = 0\n",
    "    for row in X:\n",
    "        indx = row != Z\n",
    "        p_r_ans = np.array(Z, dtype='float32')\n",
    "        p_r_ans[indx] = 1\n",
    "        indx = ~indx\n",
    "        \n",
    "        funcs = [ap0f, ap1f, ap2f]\n",
    "        for ci in range(3):\n",
    "            if indx[:, ci].sum() != 0:\n",
    "                p_r_ans[:, ci][indx[:, ci]] = funcs[ci](p_r_ans[:, ci][indx[:, ci]])\n",
    "        \n",
    "        res[ind, :] = np.sum(p_r_ans, axis=1)\n",
    "        ind += 1\n",
    "    \n",
    "    return res\n",
    "\n",
    "\n",
    "@install_metric\n",
    "def log_overlap(X, Z):\n",
    "    \"\"\"\n",
    "    params:\n",
    "        X: ndarray of shape {x_samples, features}\n",
    "        Z: ndarray of shape {z_samples, features}\n",
    "        **kwargs: keyword arguments, passed in the metric_params argument\n",
    "    returns: ndarray of shape {x_samples, z_samples}\n",
    "    \"\"\"\n",
    "    \n",
    "    if X.shape[0] == X.size:\n",
    "        indx = (X == Z)\n",
    "        p_r_ans = np.array(Z, dtype='float32')\n",
    "        p_r_ans[indx] = 0\n",
    "        indx = ~indx\n",
    "        \n",
    "        funcs = [bp0f, bp1f, bp2f]\n",
    "        for ci in range(3):\n",
    "            if indx[:, ci].sum() != 0:\n",
    "                raw_v = row[ci]\n",
    "                p_r_ans[:, ci][indx[:, ci]] = funcs[ci](p_r_ans[:, ci][indx[:, ci]])\n",
    "        \n",
    "        return np.sum(p_r_ans, axis=1)\n",
    "    \n",
    "    size2 = Z.shape[0]\n",
    "    if Z.shape[0] == Z.size:\n",
    "        size2 = 1\n",
    "    \n",
    "    res = np.empty((X.shape[0], size2), dtype='float32')\n",
    "    ind = 0\n",
    "    for row in X:\n",
    "        indx = (row == Z)\n",
    "        p_r_ans = np.array(Z, dtype='float32')\n",
    "        p_r_ans[indx] = 0\n",
    "        indx = ~indx\n",
    "        \n",
    "        funcs = [bp0f, bp1f, bp2f]\n",
    "        for ci in range(3):\n",
    "            if indx[:, ci].sum() != 0:\n",
    "                raw_v = row[ci]\n",
    "                p_r_ans[:, ci][indx[:, ci]] = funcs[ci](Z[:, ci][indx[:, ci]])\n",
    "        \n",
    "        res[ind, :] = np.sum(p_r_ans, axis=1)\n",
    "        ind += 1\n",
    "        \n",
    "    return res"
   ]
  },
  {
   "cell_type": "markdown",
   "metadata": {
    "id": "hXT7WXVXeSja"
   },
   "source": [
    "<b>2.2 (1 балл)</b> Найдите все категориальные признаки в данных. Подсчитайте для каждой из метрик качество на тестовой выборке `X_test` при числе соседей $k = 10$. Качество измеряйте с помощью RMSE.\n",
    "\n",
    "Какая функция расстояния оказалась лучшей? Почему?"
   ]
  },
  {
   "cell_type": "code",
   "execution_count": null,
   "metadata": {
    "id": "bELx_8GkeSjP"
   },
   "outputs": [],
   "source": [
    "cat_f = ['neighbourhood_group', 'neighbourhood', 'room_type']"
   ]
  },
  {
   "cell_type": "code",
   "execution_count": null,
   "metadata": {
    "id": "tbgQHqcyeSjd"
   },
   "outputs": [],
   "source": [
    "cX_train = np.concatenate(tuple(encds[i].transform(X_train[cat_f[i]].values).reshape(1, -1) for i in range(len(cat_f)))).T\n",
    "cX_test = np.concatenate(tuple(encds[i].transform(X_test[cat_f[i]].values).reshape(1, -1) for i in range(len(cat_f)))).T"
   ]
  },
  {
   "cell_type": "code",
   "execution_count": null,
   "metadata": {
    "colab": {
     "base_uri": "https://localhost:8080/",
     "height": 34
    },
    "id": "ruzqyVRCeSjf",
    "outputId": "8ff62784-2f20-486f-b305-62d1325ec3b7",
    "scrolled": true
   },
   "outputs": [
    {
     "name": "stdout",
     "output_type": "stream",
     "text": [
      "215.65806077170623\n"
     ]
    }
   ],
   "source": [
    "knn = KNNRegressor(n_neighbors=10, metric='overlap')\n",
    "knn.fit(cX_train, y_train)\n",
    "print(np.sqrt(mean_squared_error(y_test, knn.predict(cX_test))))"
   ]
  },
  {
   "cell_type": "code",
   "execution_count": null,
   "metadata": {
    "id": "mOLgQv9qQ0fy",
    "outputId": "4c8ff873-6deb-46dd-c64c-1dbcdd366cc6"
   },
   "outputs": [
    {
     "name": "stdout",
     "output_type": "stream",
     "text": [
      "212.02082478331135\n"
     ]
    }
   ],
   "source": [
    "knn = KNNRegressor(n_neighbors=10, metric='flattened_overlap')\n",
    "knn.fit(cX_train, y_train)\n",
    "print(np.sqrt(mean_squared_error(y_test, knn.predict(cX_test))))"
   ]
  },
  {
   "cell_type": "code",
   "execution_count": null,
   "metadata": {
    "colab": {
     "base_uri": "https://localhost:8080/",
     "height": 34
    },
    "id": "5AuGi73wZWeN",
    "outputId": "6defbac2-6a62-43b8-996b-84f33efb7d8f"
   },
   "outputs": [
    {
     "name": "stdout",
     "output_type": "stream",
     "text": [
      "210.39894729368754\n"
     ]
    }
   ],
   "source": [
    "knn = KNNRegressor(10, metric='log_overlap')\n",
    "knn.fit(cX_train, y_train)\n",
    "print(np.sqrt(mean_squared_error(y_test, knn.predict(cX_test))))"
   ]
  },
  {
   "cell_type": "markdown",
   "metadata": {
    "id": "GIclzVeyZjsm"
   },
   "source": [
    "'log_overlap' оказалась лучше, у неё есть следующие '+' относительно:  \n",
    "* 'overlap': учитывание распределения кат. признаков\n",
    "* 'flattened_overlap': если $x_i \\neq z_i$, то алгоритм никак не спользует информаци о степени неравенста (через распределения)"
   ]
  },
  {
   "cell_type": "markdown",
   "metadata": {
    "id": "muZ96eaEeSjo"
   },
   "source": [
    "<b>2.3 (1 балл) бонус</b> Подберите лучшее (на тестовой выборке) число соседей $k$ для каждой из функций расстояния. Какого удалось достичь уровня качества?"
   ]
  },
  {
   "cell_type": "code",
   "execution_count": null,
   "metadata": {
    "colab": {
     "base_uri": "https://localhost:8080/",
     "height": 51
    },
    "id": "4mzcv_RWyCXN",
    "outputId": "6c7e1718-8344-4c59-9f95-e4d99de58c0b"
   },
   "outputs": [
    {
     "name": "stdout",
     "output_type": "stream",
     "text": [
      "{10: 215.65806077170623, 11: 214.58746106431425, 12: 213.0033111405624, 13: 212.24097367373741, 14: 211.83326770192772, 15: 211.4340287461497, 16: 210.728533690469}\n",
      "{10: 212.02082478331135, 11: 211.436943066509, 12: 210.82864362683438, 13: 211.3826699000601, 14: 210.2760206911446, 15: 209.9020969300564, 16: 209.6119949634505}\n"
     ]
    }
   ],
   "source": [
    "parm_ov = dict()\n",
    "parm_fl = dict()\n",
    "\n",
    "for k in range(10, 17):\n",
    "    knno = KNNRegressor(k, metric='overlap')\n",
    "    knnf = KNNRegressor(k, metric='flattened_overlap')\n",
    "    knno.fit(cX_train, y_train)\n",
    "    knnf.fit(cX_train, y_train)\n",
    "    parm_ov[k] = np.sqrt(mean_squared_error(y_test, knno.predict(cX_test)))\n",
    "    parm_fl[k] = np.sqrt(mean_squared_error(y_test, knnf.predict(cX_test)))\n",
    "\n",
    "print(parm_ov)\n",
    "print(parm_fl)"
   ]
  },
  {
   "cell_type": "markdown",
   "metadata": {
    "id": "IgzZbFWDmMoS"
   },
   "source": [
    "Видно, что чем больше k, тем лучше. Для метрики кол-во оптимальных $k$:\n",
    "* 'overlap': 16  RMSE: 210.7\n",
    "* 'flattened_overlap': 16  RMSE: 209.6"
   ]
  },
  {
   "cell_type": "code",
   "execution_count": null,
   "metadata": {
    "colab": {
     "base_uri": "https://localhost:8080/",
     "height": 69
    },
    "id": "h1SxmKrrtmdV",
    "outputId": "2b9667b0-87b6-4ecf-ef47-82b9eac5e58b"
   },
   "outputs": [
    {
     "name": "stdout",
     "output_type": "stream",
     "text": [
      "6   213.77908964324098\n",
      "7   212.21655215265707\n",
      "8   211.7983679608487\n"
     ]
    }
   ],
   "source": [
    "parm_log = dict()\n",
    "\n",
    "for k in range(6, 10):\n",
    "    knnl = KNNRegressor(k, metric='log_overlap')\n",
    "    knnl.fit(cX_train, y_train)\n",
    "    parm_log[k] = np.sqrt(mean_squared_error(y_test, knnl.predict(cX_test)))\n",
    "    print(k, ' ', parm_log[k])\n",
    "\n",
    "print(parm_log)"
   ]
  },
  {
   "cell_type": "markdown",
   "metadata": {
    "id": "Vt9XQJIsmsqW"
   },
   "source": [
    "Аналогия с монотонностью прослеживается и у 'log_overlap'. Т.к. эта метрика считается значительно дольше, то лучшее $k$, среди испробованных:  \n",
    "10 RMSE: 210.3"
   ]
  },
  {
   "cell_type": "markdown",
   "metadata": {
    "id": "mlKPTWIBQ0gA"
   },
   "source": [
    "<b>2.4 (2.5 балла)</b> Отойдем ненадолго от задачи регрессии и перейдём к задаче классификации: будем определять, являеться ли квартира дорогой $(target = 1)$ или дешевой $(target = 0)$. Будем считать дорогими квариры, цена которых выше среднего."
   ]
  },
  {
   "cell_type": "markdown",
   "metadata": {
    "id": "LlXI7BpfQ0gA"
   },
   "source": [
    "Реализуйте счетчики, которые заменят категориальные признаки на вещественные.\n",
    "\n",
    "А именно, для каждого категориального признака $f_j(x)$ необходимо сделать следующее:\n",
    "1. Число `counts` объектов в обучающей выборке с таким же значением признака.\n",
    "\\begin{align}\n",
    "counts_j(c) = \\sum_{i=1}^l [f_j(x_i) = c]\n",
    "\\end{align}\n",
    "2. Число `successes` объектов первого класса ($y = 1$) в обучающей выборке с таким же значением признака.\n",
    "\\begin{align}\n",
    "successes_j(c) = \\sum_{i=1}^l[f_j(x_i) = c][y_i = +1].\n",
    "\\end{align}\n",
    "3. Сглаженное отношение двух предыдущих величин:\n",
    "\\begin{align}\n",
    "p_j(c) = \\frac{successes_j(c) + a}{counts_j(c) + b},\n",
    "\\end{align}\n",
    "\n",
    "где $a$ и $b$ - априорные счетчики (например, a = 1, b = 2)."
   ]
  },
  {
   "cell_type": "code",
   "execution_count": null,
   "metadata": {
    "id": "DYmIiOsOQ0gB"
   },
   "outputs": [],
   "source": [
    "y_mean = y_train.mean().values[0]"
   ]
  },
  {
   "cell_type": "code",
   "execution_count": null,
   "metadata": {
    "id": "HNv3YGJEQ0gD"
   },
   "outputs": [],
   "source": [
    "def counters(x, y):\n",
    "    \"\"\"\n",
    "    params:\n",
    "        x: value on categorical feature for N objects\n",
    "    returns: vector of length N\n",
    "    \"\"\"\n",
    "    a = 1\n",
    "    b = 2\n",
    "    global y_mean\n",
    "    counts = x.value_counts()\n",
    "    successes = x.iloc[(y > y_mean).values].value_counts()\n",
    "    successes = successes.append(pd.Series(data=0, \n",
    "                                            index=counts.index[~counts.index.isin(successes.index)]))\n",
    "    p = (successes + a) / (counts + b)\n",
    "    return counts, successes, p"
   ]
  },
  {
   "cell_type": "markdown",
   "metadata": {
    "id": "jyINw-qTQ0gG"
   },
   "source": [
    "Поскольку признаки, содержащие информацию о целевой переменной, могут привести к переобучению, может оказаться полезным сделать *фолдинг*: разбить обучающую выборку на $n$ частей, и для $i$-й части считать `counts` и `successes` по всем остальным частям. Для тестовой выборки используются счетчики, посчитанный по всей обучающей выборке. Реализуйте и такой вариант. Достаточно взять $n = 3$."
   ]
  },
  {
   "cell_type": "code",
   "execution_count": null,
   "metadata": {
    "id": "wVoOWYypQ0gG"
   },
   "outputs": [],
   "source": [
    "def kfold(n, n_folds=3):\n",
    "    first = n % n_folds\n",
    "    size1 = n // n_folds + 1\n",
    "    size2 = n // n_folds\n",
    "    ind = 0\n",
    "    result = []\n",
    "    \n",
    "    for nfold in range(1, n_folds + 1):\n",
    "        if nfold <= first:\n",
    "            size = size1\n",
    "            result.append((np.concatenate((np.arange(0, ind), np.arange(ind + size, n))),\n",
    "                         np.arange(ind, ind + size)))\n",
    "            ind += size1\n",
    "        else:\n",
    "            size = size2\n",
    "            result.append((np.concatenate((np.arange(0, ind), np.arange(ind + size, n))),\n",
    "                         np.arange(ind, ind + size)))\n",
    "            ind += size2\n",
    "    \n",
    "    return result\n",
    "\n",
    "def fold_counters(x, y):\n",
    "    \"\"\"\n",
    "    params:\n",
    "        x: value on categorical feature for N objects\n",
    "    returns: vector of length N\n",
    "    \"\"\"\n",
    "    result_tr = [pd.Series(dtype='float32'),\n",
    "                 pd.Series(dtype='float32'),\n",
    "                 pd.Series(dtype='float32')]\n",
    "    for train_ind, test_ind in kfold(x.shape[0], n_folds=3):\n",
    "        counts = counters(x.iloc[train_ind], y.iloc[train_ind])\n",
    "        result_tr[0] = result_tr[0].append(x.iloc[test_ind].map(counts[0]).fillna(0))\n",
    "        result_tr[1] = result_tr[1].append(x.iloc[test_ind].map(counts[1]).fillna(0))\n",
    "        result_tr[2] = result_tr[2].append(x.iloc[test_ind].map(counts[2]).fillna(0))\n",
    "    \n",
    "    return result_tr, counters(x, y)"
   ]
  },
  {
   "cell_type": "markdown",
   "metadata": {
    "id": "J7G96SfmQ0gJ"
   },
   "source": [
    "Посчитайте на тесте AUC-ROC метода $k$ ближайших соседей с евклидовой метрикой для выборки, где категориальные признаки заменены на счетчики. Сравните по AUC-ROC два варианта формирования выборки — с фолдингом и без. Не забудьте подобрать наилучшее число соседей $k$."
   ]
  },
  {
   "cell_type": "code",
   "execution_count": null,
   "metadata": {
    "id": "MNZyfr3yQ0gJ"
   },
   "outputs": [],
   "source": [
    "cy_train = (y_train > y_mean).astype(int)\n",
    "cy_test = (y_test > y_mean).astype(int)"
   ]
  },
  {
   "cell_type": "code",
   "execution_count": null,
   "metadata": {
    "id": "vLx9G59RQ0gM"
   },
   "outputs": [],
   "source": [
    "import warnings\n",
    "warnings.filterwarnings('ignore')\n",
    "import sklearn as skl\n",
    "from sklearn.metrics import roc_auc_score\n",
    "from copy import deepcopy\n",
    "\n",
    "fX_train = deepcopy(X_train)\n",
    "fX_test = deepcopy(X_test)\n",
    "\n",
    "nfX_train = deepcopy(X_train)\n",
    "nfX_test = deepcopy(X_test)\n",
    "\n",
    "for col in cat_f:\n",
    "    train_f, test_f = fold_counters(fX_train[col], y_train)\n",
    "    train_f = pd.concat(train_f, axis=1)\n",
    "    train_f.columns = [col + '_c' + str(i) for i in range(3)]\n",
    "    \n",
    "    allcounts = counters(nfX_train[col], cy_train)\n",
    "    train_nf = [nfX_train[col].map(allcounts[0]).fillna(0),\n",
    "                nfX_train[col].map(allcounts[1]).fillna(0),\n",
    "                nfX_train[col].map(allcounts[2]).fillna(0)]\n",
    "    train_nf = pd.concat(train_nf, axis=1)\n",
    "    train_nf.columns = [col + '_c' + str(i) for i in range(3)]\n",
    "    \n",
    "    test_f = [fX_test[col].map(test_f[0]).fillna(0),\n",
    "             fX_test[col].map(test_f[1]).fillna(0),\n",
    "             fX_test[col].map(test_f[2]).fillna(0)]\n",
    "    test_f = pd.concat(test_f, axis=1)\n",
    "    test_f.columns = [col + '_c' + str(i) for i in range(3)]\n",
    "    \n",
    "    test_nf = [nfX_test[col].map(allcounts[0]).fillna(0),\n",
    "                nfX_test[col].map(allcounts[1]).fillna(0),\n",
    "                nfX_test[col].map(allcounts[2]).fillna(0)]\n",
    "    test_nf = pd.concat(test_nf, axis=1)\n",
    "    test_nf.columns = [col + '_c' + str(i) for i in range(3)]\n",
    "    \n",
    "    fX_train = pd.concat([fX_train, train_f], axis=1)\n",
    "    fX_test = pd.concat([fX_test, test_f], axis=1)\n",
    "    \n",
    "    nfX_train = pd.concat([nfX_train, train_nf], axis=1)\n",
    "    nfX_test = pd.concat([nfX_test, test_nf], axis=1)\n",
    "\n",
    "fX_train.drop(columns=cat_f, inplace=True)\n",
    "fX_test.drop(columns=cat_f, inplace=True)\n",
    "\n",
    "nfX_train.drop(columns=cat_f, inplace=True)\n",
    "nfX_test.drop(columns=cat_f, inplace=True)"
   ]
  },
  {
   "cell_type": "code",
   "execution_count": null,
   "metadata": {
    "id": "FP_HygBqQ0gO"
   },
   "outputs": [],
   "source": [
    "fX_train.drop(columns=['id', 'name', 'host_name'], inplace=True)\n",
    "fX_test.drop(columns=['id', 'name', 'host_name'], inplace=True)\n",
    "nfX_train.drop(columns=['id', 'name', 'host_name'], inplace=True)\n",
    "nfX_test.drop(columns=['id', 'name', 'host_name'], inplace=True)"
   ]
  },
  {
   "cell_type": "code",
   "execution_count": null,
   "metadata": {
    "id": "UEsNW_rhQ0gQ",
    "outputId": "3c250835-3ff1-493f-f682-2b9ffe63d9d3"
   },
   "outputs": [
    {
     "name": "stdout",
     "output_type": "stream",
     "text": [
      "fold:  17   0.7613565598736103\n",
      "nfold:  7   0.7610479259758007\n"
     ]
    }
   ],
   "source": [
    "k_list = np.arange(3, 20)\n",
    "fold_sc = []\n",
    "nfold_sc = []\n",
    "\n",
    "for k in k_list:\n",
    "    knn = skl.neighbors.KNeighborsClassifier(k, n_jobs=-1,\n",
    "                                        metric='euclidean')\n",
    "    knn.fit(fX_train.iloc[:, 9:], cy_train)\n",
    "    fold_sc.append(roc_auc_score(cy_test, knn.predict(fX_test.iloc[:, 9:])))\n",
    "    knn = skl.neighbors.KNeighborsClassifier(k, n_jobs=-1,\n",
    "                                        metric='euclidean')\n",
    "    knn.fit(nfX_train.iloc[:, 9:], cy_train)\n",
    "    nfold_sc.append(roc_auc_score(cy_test, knn.predict(nfX_test.iloc[:, 9:])))\n",
    "\n",
    "print('fold: ', k_list[fold_sc.index(max(fold_sc))], ' ', max(fold_sc))\n",
    "print('nfold: ', k_list[nfold_sc.index(max(nfold_sc))], ' ', max(nfold_sc))"
   ]
  },
  {
   "cell_type": "markdown",
   "metadata": {
    "id": "k6x_T1uAQ0gS"
   },
   "source": [
    "<b>2.5 (1 балл)</b> Вернемся к задаче регрессии. Утверждается, что для задачи регрессии можно также сделать преобразование категориальных признаков в действительные числа. Для этого достаточно для каждого значения признака $f_j$ вычислить:\n",
    "\\begin{align}\n",
    "p_j(c) = g(T_i | f_j(x_i) = c),\n",
    "\\end{align}\n",
    "\n",
    "где $T_i$ - значения целевой переменной объекта $x_i$. Функция $g$ - среднее (mean) или среднеквадратичное отклонение (std).\n",
    "\n",
    "Закодируйте категориальные признаки обоими способами и найдите значение RMSE. Используйте евклидову метрику для поиска ближайших соседей. Для какой функции $g$ значение RMSE лучше? Почему?"
   ]
  },
  {
   "cell_type": "code",
   "execution_count": null,
   "metadata": {
    "id": "3xbWQ5DBQ0gT"
   },
   "outputs": [],
   "source": [
    "from copy import deepcopy\n",
    "tdata = pd.concat([X_train, y_train], axis=1)\n",
    "cX_train = deepcopy(X_train)\n",
    "cX_test = deepcopy(X_test)\n",
    "\n",
    "m_y = y_train.values.mean()\n",
    "std_y = y_train.values.std()\n",
    "\n",
    "for col in cat_f:\n",
    "    gr = tdata.groupby(col).agg(['std', 'mean'])\n",
    "    mean = gr[('price',  'mean')]\n",
    "    div = gr[('price',  'std')]\n",
    "    cX_train[col + '_m'] = cX_train[col].map(mean).fillna(m_y)\n",
    "    cX_train[col + '_d'] = cX_train[col].map(div).fillna(std_y)\n",
    "    cX_test[col + '_m'] = cX_test[col].map(mean).fillna(m_y)\n",
    "    cX_test[col + '_d'] = cX_test[col].map(div).fillna(std_y)\n",
    "\n",
    "cX_train.drop(columns=cat_f, inplace=True)\n",
    "cX_test.drop(columns=cat_f, inplace=True)\n",
    "\n",
    "mcX_train = cX_train[[col + '_m' for col in cat_f]]\n",
    "dcX_train = cX_train[[col + '_d' for col in cat_f]]\n",
    "mcX_test = cX_test[[col + '_m' for col in cat_f]]\n",
    "dcX_test = cX_test[[col + '_d' for col in cat_f]]"
   ]
  },
  {
   "cell_type": "code",
   "execution_count": null,
   "metadata": {
    "colab": {
     "base_uri": "https://localhost:8080/",
     "height": 51
    },
    "id": "uvldO7MaQ0gW",
    "outputId": "ceb685d9-f988-48d3-95b4-62dca52550b1"
   },
   "outputs": [
    {
     "name": "stdout",
     "output_type": "stream",
     "text": [
      "med:  16   227.06461516886299\n",
      "div:  15   209.70740006410384\n"
     ]
    }
   ],
   "source": [
    "k_list = np.arange(10, 17)\n",
    "med_sc = []\n",
    "div_sc = []\n",
    "\n",
    "for k in k_list:\n",
    "    knn = KNNRegressor(k, mode='distance', metric='euclidean')\n",
    "    knn.fit(mcX_train, y_train)\n",
    "    med_sc.append(np.sqrt(mean_squared_error(y_test, knn.predict(mcX_test))))\n",
    "    \n",
    "    knn = KNNRegressor(k, mode='distance', metric='euclidean')\n",
    "    knn.fit(dcX_train, y_train)\n",
    "    div_sc.append(np.sqrt(mean_squared_error(y_test, knn.predict(dcX_test))))\n",
    "\n",
    "print('med: ', k_list[med_sc.index(min(med_sc))], ' ', min(med_sc))\n",
    "print('div: ', k_list[div_sc.index(min(div_sc))], ' ', min(div_sc))"
   ]
  },
  {
   "cell_type": "markdown",
   "metadata": {
    "id": "FjRkarVjQ0gY"
   },
   "source": [
    "Видно, что алгоритм с дисперсией выигрывает. Если выиграло бы стреднее, то это могло быть обусловлено тем, что среднее несёт в себе больше релевантной инфор-ции чем дисперсия. Если два признака с дисперсией равны, то отсюда не следует что $y$-ки равны. А если два признака со средним равны -> ~ $y$-ки равны"
   ]
  },
  {
   "cell_type": "markdown",
   "metadata": {
    "id": "FEZctIQPQ0gY"
   },
   "source": [
    "## Часть 3: Текстовые признаки"
   ]
  },
  {
   "cell_type": "markdown",
   "metadata": {
    "id": "no3ZjQvPQ0gY"
   },
   "source": [
    "<b>3.1 (2 балла)</b> Перейдем от категориальным признаков к текстовым. Рассмотрим 2 способа преобразования текста в действительные числа:\n",
    "- Мешок слов (Bag of Words)\n",
    "- TF-IDF\n",
    "\n",
    "[Здесь](https://scikit-learn.org/stable/modules/feature_extraction.html) вы можете прочитать про их применение в Питоне.\n",
    "\n",
    "Сравните оба способа на задаче регресси. Какую лучше метрику использовать: евклидову или косинусную меру? Постройте графики зависимости качества решения задачи от способа преобразования, метрики и количества соседей. Мера качества - RMSE.\n",
    "\n",
    "Объясните полученные результаты.\n",
    "\n",
    "Перед преобразованием не забудьте уменьшить размер словаря. Например, это можно сделать за счет приведения всех слов к одному регистру и удаления [стопслов](https://en.wikipedia.org/wiki/Stop_words) (артиклей, предлогов, союзов). Можно использовать использовать, например, библиотеку nltk."
   ]
  },
  {
   "cell_type": "code",
   "execution_count": null,
   "metadata": {
    "colab": {
     "base_uri": "https://localhost:8080/",
     "height": 51
    },
    "id": "ohwOd54AQ0gZ",
    "outputId": "2e01037c-be30-48d6-86dc-55b20b37139e"
   },
   "outputs": [
    {
     "name": "stdout",
     "output_type": "stream",
     "text": [
      "[nltk_data] Downloading package stopwords to /root/nltk_data...\n",
      "[nltk_data]   Unzipping corpora/stopwords.zip.\n"
     ]
    }
   ],
   "source": [
    "import nltk\n",
    "from nltk.corpus import stopwords\n",
    "from pymystem3 import Mystem\n",
    "from string import punctuation\n",
    "nltk.download(\"stopwords\")\n",
    "\n",
    "def preprocess_text(text):\n",
    "    mystem = Mystem() \n",
    "    eng_stopwords = stopwords.words(\"english\")\n",
    "    tokens = text.lower()\n",
    "    tokens = [token.strip(punctuation).replace('.', '') for token in tokens.split(' ') if token not in eng_stopwords\\\n",
    "              and token != \" \" \\\n",
    "              and token.strip('()') not in punctuation]\n",
    "    \n",
    "    text = \" \".join(tokens)\n",
    "    \n",
    "    return text"
   ]
  },
  {
   "cell_type": "code",
   "execution_count": null,
   "metadata": {
    "colab": {
     "base_uri": "https://localhost:8080/",
     "height": 34
    },
    "id": "ZUYUNgR2Q0gb",
    "outputId": "05a90674-51e6-44a8-8fd9-ad3472228a5b"
   },
   "outputs": [
    {
     "name": "stderr",
     "output_type": "stream",
     "text": [
      "Installing mystem to /root/.local/bin/mystem from http://download.cdn.yandex.net/mystem/mystem-3.1-linux-64bit.tar.gz\n"
     ]
    }
   ],
   "source": [
    "text_f = ['name', 'host_name']\n",
    "docs = data['name'] + ' ' + data['host_name']\n",
    "docs = docs.apply(preprocess_text)"
   ]
  },
  {
   "cell_type": "code",
   "execution_count": null,
   "metadata": {
    "id": "1IwnakxVQ0gc"
   },
   "outputs": [],
   "source": [
    "import sklearn as skl\n",
    "vectorizer = skl.feature_extraction.text.TfidfVectorizer()\n",
    "tf_idfs = vectorizer.fit_transform(docs)\n",
    "\n",
    "countv = skl.feature_extraction.text.CountVectorizer()\n",
    "counts = countv.fit_transform(docs)"
   ]
  },
  {
   "cell_type": "code",
   "execution_count": null,
   "metadata": {
    "id": "-XtpxkZWnAta"
   },
   "outputs": [],
   "source": [
    "accuracy_table = np.zeros((2, 18))"
   ]
  },
  {
   "cell_type": "code",
   "execution_count": null,
   "metadata": {
    "id": "3tR8gXi5nAtd"
   },
   "outputs": [],
   "source": [
    "for k in range(2, 20):\n",
    "    knn = KNNRegressor(k, metric='euclidean', mode='distance')\n",
    "    knn.fit(tf_idfs[:X_train.shape[0], :], y_train)\n",
    "    accuracy_table[1, k-12] = np.sqrt(mean_squared_error(y_test, knn.predict(tf_idfs[X_train.shape[0]:, :])))\n",
    "    \n",
    "    knn = KNNRegressor(k, metric='euclidean', mode='distance')\n",
    "    knn.fit(counts[:X_train.shape[0], :], y_train)\n",
    "    accuracy_table[0, k-12] = np.sqrt(mean_squared_error(y_test, knn.predict(counts[X_train.shape[0]:, :])))"
   ]
  },
  {
   "cell_type": "code",
   "execution_count": null,
   "metadata": {
    "colab": {
     "base_uri": "https://localhost:8080/",
     "height": 362
    },
    "id": "01NrgDopnAtg",
    "outputId": "6478ddf7-d2d1-463d-caf2-a0fb41597457",
    "scrolled": true
   },
   "outputs": [
    {
     "data": {
      "image/png": "[encoded data removed]",
      "text/plain": [
       "<Figure size 720x360 with 1 Axes>"
      ]
     },
     "metadata": {
      "needs_background": "light",
      "tags": []
     },
     "output_type": "display_data"
    }
   ],
   "source": [
    "import matplotlib.pyplot as plt\n",
    "import matplotlib\n",
    "plt.rcParams.update({'font.size': 14})\n",
    "fig, ax = plt.subplots(figsize=(10, 5))\n",
    "\n",
    "p1 = ax.plot(np.arange(2, 20), accuracy_table[0], '-o')\n",
    "p2 = ax.plot(np.arange(2, 20), accuracy_table[1], '-v')\n",
    "\n",
    "ax.set_title('RMSE в зависимости от кол-ва ближайших соседей')\n",
    "ax.set_ylabel('RMSE')\n",
    "ax.set_xlabel('Количество ближайших соседей')\n",
    "ax.grid(True)\n",
    "\n",
    "ax.legend((p1[0], p2[0]), ('counts', 'tf-idf'))\n",
    "ax.autoscale_view()\n",
    "ax.xaxis.set_major_locator(matplotlib.ticker.MaxNLocator(integer=True))\n",
    "fig.savefig(\"RMSE_num_neigh.pdf\", bbox_inches='tight')\n",
    "\n",
    "plt.show()"
   ]
  },
  {
   "cell_type": "markdown",
   "metadata": {
    "id": "-dxmxAC7WgDa"
   },
   "source": [
    "'Tf-Idf' показал лучший результат. В отличии от стратегии 'bag of words' tf idf еще учитывает частоты слов в документах и коллекциях. Так, веса часто встречаемых слов во всех документах 'Tf-Idf' будет занулять, а 'bow' нет, что не совсем логично (про 'bow')."
   ]
  },
  {
   "cell_type": "code",
   "execution_count": null,
   "metadata": {
    "id": "9j9Ic5d4Q0gl"
   },
   "outputs": [],
   "source": [
    "accuracy_table2 = np.zeros((2, 10))"
   ]
  },
  {
   "cell_type": "code",
   "execution_count": null,
   "metadata": {
    "id": "gWWoMclVQ0gm"
   },
   "outputs": [],
   "source": [
    "for k in range(12, 22):\n",
    "    knn = KNNRegressor(k, metric='cosine', mode='distance')\n",
    "    knn.fit(tf_idfs[:X_train.shape[0], :], y_train)\n",
    "    accuracy_table2[1, k-12] = np.sqrt(mean_squared_error(y_test, knn.predict(tf_idfs[X_train.shape[0]:, :])))\n",
    "    \n",
    "    knn = KNNRegressor(k, metric='euclidean', mode='distance')\n",
    "    knn.fit(tf_idfs[:X_train.shape[0], :], y_train)\n",
    "    accuracy_table2[0, k-12] = np.sqrt(mean_squared_error(y_test, knn.predict(tf_idfs[X_train.shape[0]:, :])))"
   ]
  },
  {
   "cell_type": "code",
   "execution_count": null,
   "metadata": {
    "colab": {
     "base_uri": "https://localhost:8080/",
     "height": 362
    },
    "id": "-p8XvuHlQ0go",
    "outputId": "9deff9d4-719e-458e-80c0-de071e9887cd",
    "scrolled": true
   },
   "outputs": [
    {
     "data": {
      "image/png": "[encoded data removed]",
      "text/plain": [
       "<Figure size 720x360 with 1 Axes>"
      ]
     },
     "metadata": {
      "needs_background": "light",
      "tags": []
     },
     "output_type": "display_data"
    }
   ],
   "source": [
    "plt.rcParams.update({'font.size': 14})\n",
    "fig, ax = plt.subplots(figsize=(10, 5))\n",
    "\n",
    "p1 = ax.plot(np.arange(12, 22), accuracy_table2[0, :], '-o')\n",
    "p2 = ax.plot(np.arange(12, 22), accuracy_table2[1, :], '-v')\n",
    "\n",
    "ax.set_title('RMSE в зависимости от кол-ва ближайших соседей')\n",
    "ax.set_ylabel('RMSE')\n",
    "ax.set_xlabel('Количество ближайших соседей')\n",
    "ax.grid(True)\n",
    "\n",
    "ax.legend((p1[0], p2[0]), ('euclidean', 'cosine'))\n",
    "ax.autoscale_view()\n",
    "ax.xaxis.set_major_locator(matplotlib.ticker.MaxNLocator(integer=True))\n",
    "fig.savefig(\"RMSE_num_neigh2.pdf\", bbox_inches='tight')\n",
    "\n",
    "plt.show()"
   ]
  },
  {
   "cell_type": "markdown",
   "metadata": {
    "id": "b2Kze1-OYNC-"
   },
   "source": [
    "'Cosine' выиграл, т.к. имеет место 'проклятие размерностей'"
   ]
  },
  {
   "cell_type": "markdown",
   "metadata": {
    "id": "rbwf0BOAQ0gu"
   },
   "source": [
    "<b>3.2 (1 балл)</b> Используя все доступные признаки, решите задачу регрессии. Для категориальных и текстовых признаков выберите лучшие преобразования (из сделанных раннее заданий). Повлияло ли добавление количественного признака на метрику качества?"
   ]
  },
  {
   "cell_type": "code",
   "execution_count": null,
   "metadata": {
    "id": "Vw3acM4YtNug"
   },
   "outputs": [],
   "source": [
    "import scipy as sc"
   ]
  },
  {
   "cell_type": "code",
   "execution_count": null,
   "metadata": {
    "id": "MynwK9XaQ0gu"
   },
   "outputs": [],
   "source": [
    "nX_train = sc.sparse.hstack((cX_train, tf_idfs[:X_train.shape[0], :]))\n",
    "nX_test = sc.sparse.hstack((cX_test, tf_idfs[X_train.shape[0]:, :]))"
   ]
  },
  {
   "cell_type": "code",
   "execution_count": null,
   "metadata": {
    "id": "dXzdI07Y3B4O"
   },
   "outputs": [],
   "source": [
    "def flattened_overlap_ec_p(X, Z):\n",
    "    X_ec = X[:, 3:]\n",
    "    Z_ec = Z[:, 3:]\n",
    "\n",
    "    X_cat = X[:, :3].toarray()[0, :]\n",
    "    Z_cat = Z[:, :3].toarray()[0, :]\n",
    "\n",
    "    res_eq = sklearn.metrics.pairwise_distances(X_ec, Z_ec, metric='cosine', n_jobs=-1)\n",
    "    \n",
    "    indx = (X_cat != Z_cat)\n",
    "    p_r_ans = np.array(Z_cat, dtype='float32')\n",
    "    p_r_ans[indx] = 1\n",
    "    indx = ~indx\n",
    "        \n",
    "    funcs = [ap0f, ap1f, ap2f]\n",
    "    for ci in range(3):\n",
    "        if indx[ci] != 0:\n",
    "            p_r_ans[ci] = funcs[ci](p_r_ans[ci])\n",
    "            \n",
    "    res_cat = np.sum(p_r_ans)\n",
    "    \n",
    "    return res_eq[0, 0] + res_cat\n",
    "    "
   ]
  },
  {
   "cell_type": "markdown",
   "metadata": {
    "id": "k4BAi1S_8LnR"
   },
   "source": [
    "Т.к. расстояние по категориальному признаку <= 1  ->  маштабировать не надо (оно понадобилось бы если > 1, т.к. 'cosine' метрика от 0 до 1) "
   ]
  },
  {
   "cell_type": "code",
   "execution_count": null,
   "metadata": {
    "id": "Tw7a9Kq3uE5m"
   },
   "outputs": [],
   "source": [
    "knn = KNNRegressor(20, metric=flattened_overlap_ec_p, mode='distance')\n",
    "knn.fit(nX_train, y_train)\n",
    "print(np.sqrt(mean_squared_error(y_test, knn.predict(nX_test))))"
   ]
  },
  {
   "cell_type": "markdown",
   "metadata": {
    "id": "rLor-aaU-Yop"
   },
   "source": [
    "Поскольку использование расстояния для категориальных признаков 'flattened_overlap', а для остальных 'cosine' слишком долгое, пришлось использовать mean-target кодирование взамен"
   ]
  },
  {
   "cell_type": "code",
   "execution_count": null,
   "metadata": {
    "id": "f9wskW80Dz4g"
   },
   "outputs": [],
   "source": [
    "nX_train = sc.sparse.hstack((dcX_train, tf_idfs[:X_train.shape[0], :]))\n",
    "nX_test = sc.sparse.hstack((dcX_test, tf_idfs[X_train.shape[0]:, :]))"
   ]
  },
  {
   "cell_type": "code",
   "execution_count": null,
   "metadata": {
    "id": "M_SBreGHAUmI"
   },
   "outputs": [],
   "source": [
    "from sklearn.preprocessing import StandardScaler\n",
    "scaler = StandardScaler()\n",
    "\n",
    "tdcX_train = scaler.fit_transform(dcX_train)\n",
    "tdcX_test = scaler.transform(dcX_test)\n",
    "\n",
    "nX_train = sc.sparse.hstack((tdcX_train, tf_idfs[:X_train.shape[0], :]))\n",
    "nX_test = sc.sparse.hstack((tdcX_test, tf_idfs[X_train.shape[0]:, :]))"
   ]
  },
  {
   "cell_type": "code",
   "execution_count": null,
   "metadata": {
    "colab": {
     "base_uri": "https://localhost:8080/",
     "height": 34
    },
    "id": "NfsYtJs_BYll",
    "outputId": "8fcd5009-80d8-4775-fc92-61a34aca87fa"
   },
   "outputs": [
    {
     "name": "stdout",
     "output_type": "stream",
     "text": [
      "211.98432744775988\n"
     ]
    }
   ],
   "source": [
    "knn = KNNRegressor(20, metric='cosine', mode='distance')\n",
    "knn.fit(nX_train, y_train)\n",
    "print(np.sqrt(mean_squared_error(y_test, knn.predict(nX_test))))"
   ]
  },
  {
   "cell_type": "markdown",
   "metadata": {
    "id": "oRLa1cNFBwg4"
   },
   "source": [
    "Катег. + текст. признаки, итог:  RMSE 212"
   ]
  },
  {
   "cell_type": "code",
   "execution_count": null,
   "metadata": {
    "id": "1Jdc-OmVC8Q_"
   },
   "outputs": [],
   "source": [
    "other_f = ['latitude', 'longitude', 'minimum_nights', 'number_of_reviews', 'last_review', 'reviews_per_month', \n",
    "           'calculated_host_listings_count', 'availability_365']"
   ]
  },
  {
   "cell_type": "code",
   "execution_count": null,
   "metadata": {
    "id": "PS4OUXHuD2Ci"
   },
   "outputs": [],
   "source": [
    "from sklearn.preprocessing import StandardScaler\n",
    "scaler = StandardScaler()\n",
    "\n",
    "tdcX_train = scaler.fit_transform(X_train[other_f])\n",
    "tdcX_test = scaler.transform(X_test[other_f])\n",
    "\n",
    "nX_train = sc.sparse.hstack((tdcX_train, nX_train))\n",
    "nX_test = sc.sparse.hstack((tdcX_test, nX_test))"
   ]
  },
  {
   "cell_type": "code",
   "execution_count": null,
   "metadata": {
    "colab": {
     "base_uri": "https://localhost:8080/",
     "height": 34
    },
    "id": "Joa_nLoJDUHh",
    "outputId": "44ad8866-436a-4893-eb72-61b2a6983005"
   },
   "outputs": [
    {
     "name": "stdout",
     "output_type": "stream",
     "text": [
      "205.9699017091521\n"
     ]
    }
   ],
   "source": [
    "knn = KNNRegressor(20, metric='cosine', mode='distance')\n",
    "knn.fit(nX_train, y_train)\n",
    "print(np.sqrt(mean_squared_error(y_test, knn.predict(nX_test))))"
   ]
  },
  {
   "cell_type": "markdown",
   "metadata": {
    "id": "wGtH2ZZFEO23"
   },
   "source": [
    "Добавление отмаштабированных остальных признаков улучшило скор на ~ 3%"
   ]
  },
  {
   "cell_type": "markdown",
   "metadata": {
    "id": "vsi3Ug4rQ0gz"
   },
   "source": [
    "## Часть 4: Выводы\n"
   ]
  },
  {
   "cell_type": "markdown",
   "metadata": {
    "id": "DEvlQBHnEra5"
   },
   "source": [
    "* среди категориальных признаков:\n",
    "  * *overlap*: самый быстрй\n",
    "  * *log_overlap*: самый точный\n",
    "  * *flattened_overlap*: посередине\n",
    "* при \"проклятии размерностей\" помогет 'cosine' метрика\n",
    "* tf-idf лучше counter"
   ]
  }
 ],
 "metadata": {
  "colab": {
   "collapsed_sections": [],
   "name": "homework-practice-02-kuznetsovmikhail___.ipynb",
   "provenance": [],
   "toc_visible": true
  },
  "kernelspec": {
   "display_name": "Python 2",
   "language": "python",
   "name": "python2"
  },
  "language_info": {
   "codemirror_mode": {
    "name": "ipython",
    "version": 2
   },
   "file_extension": ".py",
   "mimetype": "text/x-python",
   "name": "python",
   "nbconvert_exporter": "python",
   "pygments_lexer": "ipython2",
   "version": "2.7.6"
  }
 },
 "nbformat": 4,
 "nbformat_minor": 1
}
