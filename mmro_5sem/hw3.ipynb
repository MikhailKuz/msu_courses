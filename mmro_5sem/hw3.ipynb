{
 "cells": [
  {
   "cell_type": "markdown",
   "metadata": {
    "id": "YypzD6XAUuZw"
   },
   "source": [
    "# Машинное обучение, ВМК МГУ\n",
    "\n",
    "# Практическое задание 3\n",
    "\n",
    "### Общая информация\n",
    "\n",
    "Дата выдачи: 2 ноября 2020\n",
    "\n",
    "Мягкий дедлайн: 01:00MSK 16 ноября 2020 (за каждый день просрочки снимается 1 балл, отсчет дней ведите от 01:00 2 ноября)\n",
    "\n",
    "Жесткий дедлайн: 01:00MSK 23 ноября 2020."
   ]
  },
  {
   "cell_type": "markdown",
   "metadata": {
    "id": "zdNCvsgNUuZy"
   },
   "source": [
    "### О задании\n",
    "\n",
    "В этом задании вы:\n",
    "- настроите метод опорных векторов, визуализируете опорные вектора\n",
    "- познакомитесь с калибровочными кривыми и сравните вероятности, выдаваемые логистической регрессией и методом опорных векторов\n",
    "- изучите методы работы с категориальными переменными\n",
    "- в качестве бонуса попробуете библиотеку vowpal wabbit.\n",
    "\n",
    "\n",
    "### Оценивание и штрафы\n",
    "Каждая из задач имеет определенную «стоимость» (указана в скобках около задачи). Максимально допустимая оценка за работу — 10 баллов.\n",
    "\n",
    "Сдавать задание после указанного срока сдачи нельзя. При выставлении неполного балла за задание в связи с наличием ошибок на усмотрение проверяющего предусмотрена возможность исправить работу на указанных в ответном письме условиях.\n",
    "\n",
    "Задание выполняется самостоятельно. «Похожие» решения считаются плагиатом и все задействованные студенты (в том числе те, у кого списали) не могут получить за него больше 0 баллов (подробнее о плагиате см. на странице курса). Если вы нашли решение какого-то из заданий (или его часть) в открытом источнике, необходимо указать ссылку на этот источник в отдельном блоке в конце вашей работы (скорее всего вы будете не единственным, кто это нашел, поэтому чтобы исключить подозрение в плагиате, необходима ссылка на источник).\n",
    "\n",
    "Неэффективная реализация кода может негативно отразиться на оценке.\n",
    "\n",
    "\n",
    "### Формат сдачи\n",
    "Для сдачи задания переименуйте получившийся файл *.ipynb в соответствии со следующим форматом: homework-practice-3-Username.ipynb, где Username — ваша фамилия и имя на латинице именно в таком порядке (например, homework-practice-3-IvanovIvan.ipynb).\n",
    "\n",
    "Для удобства проверки самостоятельно посчитайте свою максимальную оценку (исходя из набора решенных задач) и укажите ниже."
   ]
  },
  {
   "cell_type": "markdown",
   "metadata": {
    "id": "uA7pv1JbUuZy"
   },
   "source": [
    "**Оценка:** 13"
   ]
  },
  {
   "cell_type": "markdown",
   "metadata": {
    "id": "jNdeTbnnUuZz"
   },
   "source": [
    "**Напоминание:**\n",
    "    \n",
    "* Все ваши графики должны быть **\"красивыми\"** --- подробнее о том, как их оформлять, можно найти в первом практическом задании. При несоответствии какиму-то из критериев вам могут снять баллы.\n",
    "* Пишите в текстовых ячейках/print в коде ответы на **все вопросы из заданий/просьбы сделать выводы** --- при их отсутствии мы не можем понять, сделали ли вы задание и понимаете, что происходит, и поэтому будем снижать баллы"
   ]
  },
  {
   "cell_type": "code",
   "execution_count": 1,
   "metadata": {
    "ExecuteTime": {
     "end_time": "2019-10-16T18:11:48.202066Z",
     "start_time": "2019-10-16T18:11:46.362572Z"
    },
    "colab": {
     "base_uri": "https://localhost:8080/"
    },
    "id": "GSdJGaFMUuZz",
    "outputId": "77fa6e3f-dd84-43b4-b857-fcf7c0677d2d"
   },
   "outputs": [
    {
     "name": "stdout",
     "output_type": "stream",
     "text": [
      "Populating the interactive namespace from numpy and matplotlib\n",
      "Mounted at /content/drive\n"
     ]
    }
   ],
   "source": [
    "%pylab inline\n",
    "import pandas as pd\n",
    "from sklearn.model_selection import train_test_split\n",
    "from sklearn.linear_model import Ridge, Lasso\n",
    "import warnings\n",
    "from sklearn.metrics import mean_squared_error, mean_absolute_error, r2_score\n",
    "from sklearn.model_selection import GridSearchCV\n",
    "from sklearn.model_selection import cross_val_predict, KFold\n",
    "from sklearn.svm import LinearSVC, LinearSVR\n",
    "from sklearn.metrics import roc_auc_score, precision_recall_curve, roc_curve, plot_precision_recall_curve, auc\n",
    "import seaborn as sns\n",
    "from sklearn.svm import SVC\n",
    "from sklearn.datasets import load_diabetes, make_classification\n",
    "from scipy.special import expit\n",
    "from sklearn.calibration import CalibratedClassifierCV\n",
    "from sklearn.linear_model import SGDClassifier\n",
    "from sklearn.metrics import log_loss\n",
    "from sklearn.linear_model import LogisticRegression\n",
    "from copy import deepcopy\n",
    "from timeit import default_timer as timer\n",
    "from google.colab import drive\n",
    "\n",
    "warnings.simplefilter(\"ignore\")\n",
    "sns.set(style=\"darkgrid\")\n",
    "drive.mount('/content/drive')\n",
    "path = '/content/drive/My Drive/Colab Notebooks/mmp/mmro_report/hw3/'"
   ]
  },
  {
   "cell_type": "markdown",
   "metadata": {
    "id": "5yvqohGZUuZ4"
   },
   "source": [
    "## Часть 1. Линейная регрессия"
   ]
  },
  {
   "cell_type": "markdown",
   "metadata": {
    "id": "H4XMzQZbUuZ4"
   },
   "source": [
    "В этой части мы кратко познакомимся с линейной регрессией.\n",
    "\n",
    "Для начала загрузим данные и разделим их на обучающую и тестовую выборки в соотношении 7 к 3."
   ]
  },
  {
   "cell_type": "code",
   "execution_count": 27,
   "metadata": {
    "id": "Zz8stN9gUuZ5"
   },
   "outputs": [],
   "source": [
    "data = load_diabetes()\n",
    "X_train, X_test, y_train, y_test = train_test_split(data.data, data.target, train_size=0.7, random_state=241)"
   ]
  },
  {
   "cell_type": "markdown",
   "metadata": {
    "id": "taOQ1WI8UuZ8"
   },
   "source": [
    "__Задание 1.__ Обучение линейной регрессии.\n",
    "\n",
    "**(1 балл)**\n",
    "\n",
    "Обучите линейную регрессию с $L_1$ (Lasso) и $L_2$ (Ridge) регуляризаторами (используйте параметры по умолчанию). Посмотрите, какое количество коэффициентов (веса, они же составляют вектор w) близко к 0 (степень близости к 0 определите сами из разумных пределов). Постройте график зависимости числа **ненулевых коэффициентов от коэффицента регуляризации** (перебирайте значения по _логарифмической сетке_ от $10^{-3}$ до $10^3$). Согласуются ли результаты с вашими ожиданиями? \n",
    "\n",
    "**Замечания:**\n",
    "* Используйте модели из sklearn\n",
    "* Можно строить графики с учетом $w_0$ (bias), можно без **(обязательно поясните, как в итоге строили),**  однако стоит учитывать, что $w_0 \\approx 0$ несет другой смысл, нежели чем $w_i \\approx 0$.\n",
    "* Перебор по логарифмической сетке от $10^{-3}$ до $10^{3}$ подразумевает **равномерный перебор по степеням:** $10^{-3}, 10^{-2}, 10^{-1}, 10^{0}$ итд. Однако ничего не мешает (и не будет лишним) сделать и более частую равномерную сетку, если позволяет время вычислений. Менее частую сетку лучше делать в тех случаях, когда вычисления совсем запредельные по времени, однако помните, что делание выводов о какой-либо зависимости по 3-4 точкам может привести к ошибочным результатам **(и такое будет засчитываться как ошибка, если не пояснено, почему нельзя было сделать больше точек)**"
   ]
  },
  {
   "cell_type": "markdown",
   "metadata": {
    "id": "WjKMgKEzzCdV"
   },
   "source": [
    "Строил графики и смотрел кол-во близких к 0 коэфф. без учёта bias"
   ]
  },
  {
   "cell_type": "code",
   "execution_count": null,
   "metadata": {
    "colab": {
     "base_uri": "https://localhost:8080/",
     "height": 437
    },
    "id": "s7ModyK7UuZ9",
    "outputId": "7cbb6c1e-202d-4296-99f0-09ad945d059f"
   },
   "outputs": [
    {
     "data": {
      "image/png": "[encoded data removed]",
      "text/plain": [
       "<Figure size 720x432 with 2 Axes>"
      ]
     },
     "metadata": {
      "tags": []
     },
     "output_type": "display_data"
    }
   ],
   "source": [
    "def show_weights(features, weightsL, weightR):\n",
    "    fig, axs = plt.subplots(figsize=(10, 6), ncols=2)\n",
    "    sorted_weights = sorted(zip(weightsL, features), reverse=True)\n",
    "    weightsL = [x[0] for x in sorted_weights]\n",
    "    weightsR = [weightR[features.index(x[1])] for x in sorted_weights]\n",
    "    features = [x[1] for x in sorted_weights]\n",
    "\n",
    "    sns.barplot(y=features, x=weightsL, ax=axs[0])\n",
    "    axs[0].set_title('Зависимость коэффициентов от признаков для Lasso')\n",
    "    axs[0].set_ylabel('Признак')\n",
    "    axs[0].set_xlabel('Коэффициент')\n",
    "\n",
    "    sns.barplot(y=features, x=weightsR, ax=axs[1])\n",
    "    axs[1].set_title('Зависимость суммы покупок от дней для Ridge')\n",
    "    axs[1].set_yticks([])\n",
    "    axs[1].set_xlabel('Коэффициент')\n",
    "\n",
    "    plt.tight_layout()\n",
    "\n",
    "modelR = Ridge()\n",
    "modelL = Lasso()\n",
    "\n",
    "modelR.fit(X_train, y_train)\n",
    "modelL.fit(X_train, y_train)\n",
    "\n",
    "show_weights(data['feature_names'], modelL.coef_, modelR.coef_)"
   ]
  },
  {
   "cell_type": "code",
   "execution_count": null,
   "metadata": {
    "colab": {
     "base_uri": "https://localhost:8080/"
    },
    "id": "7HuvNLZ5AZ9g",
    "outputId": "b1ef67d9-56df-4554-9a89-bd5a2abc2e9f"
   },
   "outputs": [
    {
     "name": "stdout",
     "output_type": "stream",
     "text": [
      "Кол-во близких к 0 коэффициентов:\n",
      " для Lasso: 7\n",
      " для Ridge: 2\n"
     ]
    }
   ],
   "source": [
    "border = 30\n",
    "print('Кол-во близких к 0 коэффициентов:\\n для Lasso: {0}\\n для Ridge: {1}'.format((np.abs(modelL.coef_) < border).sum(),\n",
    "                                                                                   (np.abs(modelR.coef_) < border).sum()))"
   ]
  },
  {
   "cell_type": "code",
   "execution_count": null,
   "metadata": {
    "id": "Z61OPkGGCtlj"
   },
   "outputs": [],
   "source": [
    "alphas = np.logspace(-3, 3, 30)\n",
    "count_nnul_L = []\n",
    "count_nnul_R = []\n",
    "\n",
    "for alpha in alphas:\n",
    "    modelL = Lasso(alpha=alpha)\n",
    "    modelR = Ridge(alpha=alpha)\n",
    "    \n",
    "    modelL.fit(X_train, y_train)\n",
    "    modelR.fit(X_train, y_train)\n",
    "\n",
    "    count_nnul_L.append((np.abs(modelL.coef_) > 0).sum())\n",
    "    count_nnul_R.append((np.abs(modelR.coef_) > 0).sum())"
   ]
  },
  {
   "cell_type": "code",
   "execution_count": null,
   "metadata": {
    "colab": {
     "base_uri": "https://localhost:8080/",
     "height": 362
    },
    "id": "2SvBDvx-Tm1R",
    "outputId": "2f22d6e7-066f-4cb4-cbce-ad06d623f3ca"
   },
   "outputs": [
    {
     "data": {
      "image/png": "[encoded data removed]",
      "text/plain": [
       "<Figure size 720x360 with 1 Axes>"
      ]
     },
     "metadata": {
      "tags": []
     },
     "output_type": "display_data"
    }
   ],
   "source": [
    "fig, ax = plt.subplots(figsize=(10, 5))\n",
    "\n",
    "p1 = ax.plot(alphas, count_nnul_L, '-o')\n",
    "p2 = ax.plot(alphas, count_nnul_R, '-s')\n",
    "\n",
    "ax.set_title('Зависимость числа ненулевых весов признаков от  коэффицента регуляризации')\n",
    "ax.set_ylabel('Число ненулевых весов признаков')\n",
    "ax.set_xlabel('Коэффицент регуляризации')\n",
    "ax.legend((p1[0], p2[0]), ('Lasso', 'Ridge'))\n",
    "plt.xscale(\"log\")\n",
    "\n",
    "plt.show()"
   ]
  },
  {
   "cell_type": "markdown",
   "metadata": {
    "id": "TMqks1oNX_Pa"
   },
   "source": [
    "Результаты согласуются с моими ожиданиями, т.к. в l2 сила регуляризатора падает с уменьшением весов, а в l1 вес зануляется если модуль производной станет меньше коэффициента регуляризации"
   ]
  },
  {
   "cell_type": "markdown",
   "metadata": {
    "id": "gnGzdy1GUuZ_"
   },
   "source": [
    "Посчитайте для Ridge-регрессии следующие метрики: $RMSE$, $MAE$, $R^2$."
   ]
  },
  {
   "cell_type": "code",
   "execution_count": null,
   "metadata": {
    "colab": {
     "base_uri": "https://localhost:8080/"
    },
    "id": "dcezRExTUuaA",
    "outputId": "3a65cf0d-b2a2-4977-aeed-52a0ce190575"
   },
   "outputs": [
    {
     "name": "stdout",
     "output_type": "stream",
     "text": [
      "RMSE: 72.8\n",
      "MAE: 59.93\n",
      "R^2: 0.00195\n"
     ]
    }
   ],
   "source": [
    "preds = modelR.predict(X_test)\n",
    "print('RMSE: {0}\\nMAE: {1}\\nR^2: {2}'.format(np.around(np.sqrt(mean_squared_error(y_test, preds)), 2), \n",
    "                                             np.around(mean_absolute_error(y_test, preds), 2),\n",
    "                                             np.around(r2_score(y_test, preds), 5)))"
   ]
  },
  {
   "cell_type": "markdown",
   "metadata": {
    "id": "pP3AWCnUUuaC"
   },
   "source": [
    "Подберите на обучающей выборке для Ridge-регрессии коэффициент регуляризации (перебирайте значения по логарифмической сетке от $10^{-3}$ до $10^3$) для каждой из метрик. Для этого воспользуйтесь GridSearchCV и KFold из sklearn. Постройте графики зависимости фукнции потерь от коэффициента регуляризации. Посчитайте те же метрики снова. Заметно ли изменилось качество?\n",
    "\n",
    "**Замечание:** функцию потерь на выборке (X, y) можно, например, посчитать вручную, вытащив коэффициенты из модели (обычно это атрибут coef_) и учитывая коэффициент регуляризации $\\alpha$."
   ]
  },
  {
   "cell_type": "code",
   "execution_count": 28,
   "metadata": {
    "colab": {
     "base_uri": "https://localhost:8080/"
    },
    "id": "6vr8yybuhJJg",
    "outputId": "3748c0a9-c954-40ef-8f9c-907aae1cbe35"
   },
   "outputs": [
    {
     "name": "stdout",
     "output_type": "stream",
     "text": [
      "Best alpha\n",
      "RMSE: 0.0026\n",
      "MAE: 0.001\n",
      "R^2: 0.0026\n"
     ]
    }
   ],
   "source": [
    "alphas = np.logspace(-3, 3, 30)\n",
    "schR = GridSearchCV(Ridge(), [{\"alpha\": alphas}], scoring=\"neg_mean_squared_error\", cv=5)\n",
    "schM = GridSearchCV(Ridge(), [{\"alpha\": alphas}], scoring=\"neg_mean_absolute_error\", cv=5)\n",
    "schR2 = GridSearchCV(Ridge(), [{\"alpha\": alphas}], scoring=\"r2\", cv=5)\n",
    "\n",
    "schR.fit(X_train, y_train)\n",
    "schM.fit(X_train, y_train)\n",
    "schR2.fit(X_train, y_train)\n",
    "\n",
    "print(\"Best alpha\\nRMSE: {0}\\nMAE: {1}\\nR^2: {2}\".format(np.around(schR.best_params_[\"alpha\"], 4), \n",
    "                                             np.around(schM.best_params_[\"alpha\"], 4),\n",
    "                                             np.around(schR2.best_params_[\"alpha\"], 4)))"
   ]
  },
  {
   "cell_type": "code",
   "execution_count": 29,
   "metadata": {
    "colab": {
     "base_uri": "https://localhost:8080/",
     "height": 307
    },
    "id": "4SMsp1BCnrMc",
    "outputId": "008eed54-bab4-4cca-ba81-d1b668ed3d6f"
   },
   "outputs": [
    {
     "data": {
      "image/png": "[encoded data removed]",
      "text/plain": [
       "<Figure size 504x288 with 1 Axes>"
      ]
     },
     "metadata": {
      "needs_background": "light",
      "tags": []
     },
     "output_type": "display_data"
    }
   ],
   "source": [
    "fig, ax = plt.subplots(figsize=(7, 4))\n",
    "\n",
    "p1 = ax.plot(alphas, np.sqrt(-schR.cv_results_['mean_test_score']))\n",
    "\n",
    "ax.set_title('Зависимость RMSE от коэффициента регуляризации')\n",
    "ax.set_ylabel('RMSE')\n",
    "ax.set_xlabel('Коэффицент регуляризации')\n",
    "plt.xscale(\"log\")\n",
    "\n",
    "plt.show()"
   ]
  },
  {
   "cell_type": "code",
   "execution_count": 30,
   "metadata": {
    "colab": {
     "base_uri": "https://localhost:8080/",
     "height": 307
    },
    "id": "WcTdpbhGqgnc",
    "outputId": "d30a8965-25ce-434e-b800-1e524e2cc0d1"
   },
   "outputs": [
    {
     "data": {
      "image/png": "[encoded data removed]",
      "text/plain": [
       "<Figure size 504x288 with 1 Axes>"
      ]
     },
     "metadata": {
      "needs_background": "light",
      "tags": []
     },
     "output_type": "display_data"
    }
   ],
   "source": [
    "fig, ax = plt.subplots(figsize=(7, 4))\n",
    "\n",
    "p1 = ax.plot(alphas, -schM.cv_results_['mean_test_score'])\n",
    "\n",
    "ax.set_title('Зависимость MAE от коэффициента регуляризации')\n",
    "ax.set_ylabel('MAE')\n",
    "ax.set_xlabel('Коэффицент регуляризации')\n",
    "plt.xscale(\"log\")\n",
    "\n",
    "plt.show()"
   ]
  },
  {
   "cell_type": "code",
   "execution_count": 31,
   "metadata": {
    "colab": {
     "base_uri": "https://localhost:8080/",
     "height": 307
    },
    "id": "nNtH7bv7qsCD",
    "outputId": "5cc09126-244f-4ba6-a7bd-b8c68c965fef"
   },
   "outputs": [
    {
     "data": {
      "image/png": "[encoded data removed]",
      "text/plain": [
       "<Figure size 504x288 with 1 Axes>"
      ]
     },
     "metadata": {
      "needs_background": "light",
      "tags": []
     },
     "output_type": "display_data"
    }
   ],
   "source": [
    "fig, ax = plt.subplots(figsize=(7, 4))\n",
    "\n",
    "p1 = ax.plot(alphas, schR2.cv_results_['mean_test_score'])\n",
    "\n",
    "ax.set_title('Зависимость R^2 от коэффициента регуляризации')\n",
    "ax.set_ylabel('R^2')\n",
    "ax.set_xlabel('Коэффицент регуляризации')\n",
    "plt.xscale(\"log\")\n",
    "\n",
    "plt.show()"
   ]
  },
  {
   "cell_type": "code",
   "execution_count": 32,
   "metadata": {
    "colab": {
     "base_uri": "https://localhost:8080/"
    },
    "id": "KTda9m28rEEc",
    "outputId": "7abb3d73-cd56-4aee-e9e3-d32c9af04624"
   },
   "outputs": [
    {
     "name": "stdout",
     "output_type": "stream",
     "text": [
      "Ridge с лучшим alpha \\ default\n",
      "RMSE: 55.81 \\ 72.8\n",
      "MAE: 47.16 \\ 59.93\n",
      "R^2: 0.414 \\ 0.002\n"
     ]
    }
   ],
   "source": [
    "print('Ridge с лучшим alpha \\ default\\n'\n",
    "        'RMSE: {0} \\ 72.8\\n'\n",
    "        'MAE: {1} \\ 59.93\\n'\n",
    "        'R^2: {2} \\ 0.002'.format(np.around(np.sqrt(mean_squared_error(y_test, schR.predict(X_test))), 2),\n",
    "                                  np.around(mean_absolute_error(y_test, schM.predict(X_test)), 2),\n",
    "                                  np.around(r2_score(y_test, schR.predict(X_test)), 3)))"
   ]
  },
  {
   "cell_type": "markdown",
   "metadata": {
    "id": "jqwEgEe5sXJe"
   },
   "source": [
    "Качество выросло заметно"
   ]
  },
  {
   "cell_type": "markdown",
   "metadata": {
    "id": "tTDRsNquUuaG"
   },
   "source": [
    "__Задание 2.__ Поиск объектов-выбросов\n",
    "\n",
    "**(0.5 балла)**\n",
    "\n",
    "Как известно, MSE сильно штрафует за большие ошибки на объектах-выбросах. С помощью cross_val_predict сделайте Out-of-Fold предсказания для обучающей выборки. Посчитайте ошибки и посмотрите на их распределение (plt.hist). Что вы видите?"
   ]
  },
  {
   "cell_type": "code",
   "execution_count": 59,
   "metadata": {
    "id": "k17IU0DpUuaG"
   },
   "outputs": [],
   "source": [
    "oof_preds = cross_val_predict(Ridge(alpha=schR.best_params_['alpha']),\n",
    "                              X_train,\n",
    "                              y_train,\n",
    "                              cv=KFold(n_splits=X_train.shape[0]),\n",
    "                              n_jobs=-1)\n",
    "errors = (y_train - oof_preds) ** 2"
   ]
  },
  {
   "cell_type": "code",
   "execution_count": 60,
   "metadata": {
    "colab": {
     "base_uri": "https://localhost:8080/",
     "height": 301
    },
    "id": "JFCuDNtkxxxn",
    "outputId": "5ce0ab0d-15fb-4f94-80d8-2d7be3b8b436"
   },
   "outputs": [
    {
     "data": {
      "image/png": "[encoded data removed]",
      "text/plain": [
       "<Figure size 432x288 with 1 Axes>"
      ]
     },
     "metadata": {
      "needs_background": "light",
      "tags": []
     },
     "output_type": "display_data"
    }
   ],
   "source": [
    "fig, ax = plt.subplots()\n",
    "p1 = ax.hist(errors)\n",
    "ax.set_title('Зависимость кол-ва объектов от MSE ошибки')\n",
    "ax.set_ylabel('Кол-во объектов')\n",
    "ax.set_xlabel('MSE')\n",
    "plt.show()"
   ]
  },
  {
   "cell_type": "markdown",
   "metadata": {
    "id": "uIX4Xcyu07Cg"
   },
   "source": [
    "Видим, что есть выбросы, для которых MSE > 20k"
   ]
  },
  {
   "cell_type": "markdown",
   "metadata": {
    "id": "Gz2E-8fyUuaJ"
   },
   "source": [
    "Попробуйте удалить объекты-выбросы из обучающей выборки (что считать или не считать выбросами на ваше усмотрение). Обучите модель заново и посмотрите на качество на отложенной (или, называемой валидационной) (X_test, y_test) выборке (учитывайте, что там тоже могут быть выбросы, с которыми вы ничего не можете сделать). Стало ли лучше? Чем вы можете объяснить это?"
   ]
  },
  {
   "cell_type": "code",
   "execution_count": 61,
   "metadata": {
    "id": "No8H-HQd38If"
   },
   "outputs": [],
   "source": [
    "border = 20000\n",
    "ind_outliers = np.where(errors > border)[0]\n",
    "mask = np.isin(range(X_train.shape[0]), ind_outliers) == False\n",
    "Xm_train = X_train[mask]\n",
    "ym_train = y_train[mask]"
   ]
  },
  {
   "cell_type": "code",
   "execution_count": 62,
   "metadata": {
    "colab": {
     "base_uri": "https://localhost:8080/"
    },
    "id": "G5PnUeXw6Ycw",
    "outputId": "ab316388-e47a-4da6-dd4c-4d4b6a6e6883"
   },
   "outputs": [
    {
     "name": "stdout",
     "output_type": "stream",
     "text": [
      "Ridge без выбросов \\ с выбросами\n",
      "RMSE: 56.01 \\ 55.81\n",
      "MAE: 47.06 \\ 47.16\n",
      "R^2: 0.41 \\ 0.41\n"
     ]
    }
   ],
   "source": [
    "alphas = np.logspace(-3, 3, 30)\n",
    "schR = GridSearchCV(Ridge(), [{\"alpha\": alphas}], scoring=\"neg_mean_squared_error\", cv=5)\n",
    "schM = GridSearchCV(Ridge(), [{\"alpha\": alphas}], scoring=\"neg_mean_absolute_error\", cv=5)\n",
    "schR2 = GridSearchCV(Ridge(), [{\"alpha\": alphas}], scoring=\"r2\", cv=5)\n",
    "\n",
    "schR.fit(Xm_train, ym_train)\n",
    "schM.fit(Xm_train, ym_train)\n",
    "schR2.fit(Xm_train, ym_train)\n",
    "\n",
    "print('Ridge без выбросов \\ с выбросами\\n'\n",
    "        'RMSE: {0} \\ 55.81\\n'\n",
    "        'MAE: {1} \\ 47.16\\n'\n",
    "        'R^2: {2} \\ 0.41'.format(np.around(np.sqrt(mean_squared_error(y_test, schR.predict(X_test))), 2),\n",
    "                                 np.around(mean_absolute_error(y_test, schM.predict(X_test)), 2),\n",
    "                                 np.around(r2_score(y_test, schR.predict(X_test)), 2)))"
   ]
  },
  {
   "cell_type": "markdown",
   "metadata": {
    "id": "df-4b9k3UuaM"
   },
   "source": [
    "**Ответ:** Видим, что MAE уменьшилось, а RMSE увеличилось. По идее RMSE тоже должно было уменьшиться, т.к. Ridge оптимизирует MSE + l2."
   ]
  },
  {
   "cell_type": "markdown",
   "metadata": {
    "id": "ZLyha6jGUuaN"
   },
   "source": [
    "## Часть 2. Метод опорных векторов и калибровка вероятностней"
   ]
  },
  {
   "cell_type": "markdown",
   "metadata": {
    "ExecuteTime": {
     "end_time": "2018-10-12T07:36:04.765536Z",
     "start_time": "2018-10-12T07:35:57.814973Z"
    },
    "id": "GUAwWeffUuaO"
   },
   "source": [
    "Сгенерируем синтетические данные."
   ]
  },
  {
   "cell_type": "code",
   "execution_count": null,
   "metadata": {
    "ExecuteTime": {
     "end_time": "2019-10-16T18:11:50.932537Z",
     "start_time": "2019-10-16T18:11:50.752839Z"
    },
    "id": "G8eqOfmLUuaP"
   },
   "outputs": [],
   "source": [
    "X, y = make_classification(\n",
    "    n_samples=100000, n_features=20, n_informative=10, n_redundant=10,\n",
    "    random_state=42)\n",
    "\n",
    "X_train, X_test, y_train, y_test = train_test_split(\n",
    "    X, y, test_size=0.3, random_state=42)"
   ]
  },
  {
   "cell_type": "markdown",
   "metadata": {
    "id": "M_LuM3sWUuaS"
   },
   "source": [
    "__Задание 1.__ Обучение и применение метода опорных векторов.\n",
    "\n",
    "__(1 балл)__\n",
    "\n",
    "Обучите метод опорных векторов. На занятиях мы проходили обычный вариант, что соответствует линейному ядру (LinearSVC/LinearSVR в scikit-learn)."
   ]
  },
  {
   "cell_type": "code",
   "execution_count": null,
   "metadata": {
    "ExecuteTime": {
     "end_time": "2018-10-11T20:39:43.088969Z",
     "start_time": "2018-10-11T20:39:43.084985Z"
    },
    "colab": {
     "base_uri": "https://localhost:8080/"
    },
    "id": "5zID6LDrUuaT",
    "outputId": "c9eb5514-8008-442d-b734-339a5e57d208"
   },
   "outputs": [
    {
     "data": {
      "text/plain": [
       "LinearSVC(C=1.0, class_weight=None, dual=True, fit_intercept=True,\n",
       "          intercept_scaling=1, loss='squared_hinge', max_iter=1000,\n",
       "          multi_class='ovr', penalty='l2', random_state=None, tol=0.0001,\n",
       "          verbose=0)"
      ]
     },
     "execution_count": 35,
     "metadata": {
      "tags": []
     },
     "output_type": "execute_result"
    }
   ],
   "source": [
    "svc = LinearSVC()\n",
    "svc.fit(X_train, y_train)"
   ]
  },
  {
   "cell_type": "markdown",
   "metadata": {
    "id": "7bBoUQjNUuaV"
   },
   "source": [
    "На тестовой части посчитайте ROC-AUC, PR-AUC. Постройте ROC и PR кривые."
   ]
  },
  {
   "cell_type": "code",
   "execution_count": null,
   "metadata": {
    "colab": {
     "base_uri": "https://localhost:8080/",
     "height": 301
    },
    "id": "-hCCQjIQDj8A",
    "outputId": "6b1d4378-9f41-42d0-b9a7-9b14f2fac06d"
   },
   "outputs": [
    {
     "data": {
      "image/png": "[encoded data removed]",
      "text/plain": [
       "<Figure size 432x288 with 1 Axes>"
      ]
     },
     "metadata": {
      "tags": []
     },
     "output_type": "display_data"
    }
   ],
   "source": [
    "disp = plot_precision_recall_curve(svc, X_test, y_test)\n",
    "disp.ax_.set_title('PR curve')\n",
    "plt.show()"
   ]
  },
  {
   "cell_type": "code",
   "execution_count": null,
   "metadata": {
    "colab": {
     "base_uri": "https://localhost:8080/",
     "height": 301
    },
    "id": "12_aXNLMHCEF",
    "outputId": "7c9efef2-31fc-4d1f-dd16-a29727fc9c16"
   },
   "outputs": [
    {
     "data": {
      "image/png": "[encoded data removed]",
      "text/plain": [
       "<Figure size 432x288 with 1 Axes>"
      ]
     },
     "metadata": {
      "tags": []
     },
     "output_type": "display_data"
    }
   ],
   "source": [
    "preds = expit(svc.decision_function(X_test))\n",
    "rocp = roc_curve(y_test, preds)\n",
    "fig, ax = plt.subplots()\n",
    "p1 = ax.plot(rocp[0], rocp[1])\n",
    "ax.set_title('ROC curve')\n",
    "ax.set_ylabel('TPR')\n",
    "ax.set_xlabel('FPR')\n",
    "plt.show()"
   ]
  },
  {
   "cell_type": "code",
   "execution_count": null,
   "metadata": {
    "colab": {
     "base_uri": "https://localhost:8080/"
    },
    "id": "6_xWh0KFUuaV",
    "outputId": "36e1d493-45aa-4eda-ee99-1700e7670aaf"
   },
   "outputs": [
    {
     "name": "stdout",
     "output_type": "stream",
     "text": [
      "ROC-AUC: 0.93\n",
      "PR-AUC: 0.92\n"
     ]
    }
   ],
   "source": [
    "roc_sc = roc_auc_score(y_test, preds)\n",
    "pr_sc = auc(disp.recall, disp.precision)\n",
    "\n",
    "print('ROC-AUC: {0}\\nPR-AUC: {1}'.format(np.around(roc_sc, 2), np.around(pr_sc, 2)))"
   ]
  },
  {
   "cell_type": "markdown",
   "metadata": {
    "id": "7AMy_VZ4UuaZ"
   },
   "source": [
    "В названии метода присутствуют некоторые \"опорные векторы\". Сгенерируйте синтетический датасет с помощью make_classification с 2 признаками (хотя бы 100 объектов, но желательно больше), обучите на нём метод опорных векторов. Визуализируйте разделяющую прямую, все объекты и выделите опорные вектора (атрибут support\\_vectors\\_). В этот раз вместо LinearSVC воспользуйтесь SVC с линейным ядром (kernel='linear'), так как только в нём есть информация об опорных векторах.\n",
    "\n",
    "**Замечания:**\n",
    "* Графики должны быть оформлены правильно, в соответствии с теми требованиями, которые были в первой лабороторной. Так же опорные вектора следует рисовать не другим цветом, а другой **меткой** (например, крестик), иначе теряется принадлежность к классу. Точки из разных классов рисуйте **разными цветами** (или разными фигурами). Если необходимо, можно вводить альфа-канал (степень прозрачности) для улучшения восприятия. Можно (и очень рекомендуется) рисовать не только разделяющую прямую, но из \"разделяющую полосу\" вокруг прямой.\n",
    "* **Обязательно пишите легенду,** поясняющую что изображено на полотне."
   ]
  },
  {
   "cell_type": "code",
   "execution_count": null,
   "metadata": {
    "colab": {
     "base_uri": "https://localhost:8080/",
     "height": 518
    },
    "id": "xXVBzE2Cb-CT",
    "outputId": "8b595618-1ad9-4b99-90eb-7f1c397a639a"
   },
   "outputs": [
    {
     "data": {
      "image/png": "[encoded data removed]",
      "text/plain": [
       "<Figure size 720x576 with 1 Axes>"
      ]
     },
     "metadata": {
      "tags": []
     },
     "output_type": "display_data"
    }
   ],
   "source": [
    "svc = SVC(kernel='linear', C=100)\n",
    "X, y = make_classification(\n",
    "    n_samples=500, n_features=2, n_informative=2, n_redundant=0,\n",
    "    random_state=90, n_clusters_per_class=1, class_sep=0.8)\n",
    "mask = (X[:, 0] >= -1.5) & (X[:, 0] < 0) & (X[:, 1] >= -2) & (X[:, 1] < 2)\n",
    "X = X[mask, :]\n",
    "y = y[mask]\n",
    "data = X\n",
    "\n",
    "classes = y\n",
    "classes_names = ['класс ' + str(x) for x in classes]\n",
    "y = X[:, 1]\n",
    "X = X[:, 0]\n",
    "\n",
    "svc.fit(data, classes)\n",
    "\n",
    "fig = plt.figure(figsize=(10, 8))\n",
    "sns.scatterplot(X, y, hue=classes_names)\n",
    "\n",
    "ax = plt.gca()\n",
    "xlim = ax.get_xlim()\n",
    "ylim = ax.get_ylim()\n",
    "\n",
    "xx = np.linspace(xlim[0], xlim[1], 30)\n",
    "yy = np.linspace(ylim[0], ylim[1], 30)\n",
    "YY, XX = np.meshgrid(yy, xx)\n",
    "xy = np.vstack([XX.ravel(), YY.ravel()]).T\n",
    "Z = svc.decision_function(xy).reshape(XX.shape)\n",
    "\n",
    "ax.legend()\n",
    "cs = ax.contour(XX, YY, Z, colors='k', levels=[-1, 0, 1], alpha=0.5,\n",
    "           linestyles=['--', '-', '--'], )\n",
    "ax.scatter(svc.support_vectors_[:, 0], svc.support_vectors_[:, 1], s=100,\n",
    "           linewidth=1, facecolors='none', edgecolors='k', label='опорный вектор')\n",
    "\n",
    "plt.clabel(cs, inline=1, fontsize=10)\n",
    "plt.xlabel('Признак 1')\n",
    "plt.ylabel('Признак 2')\n",
    "plt.title('Linear SVC в задаче классификации')\n",
    "\n",
    "labels = ['разделяющая полоса', 'разделяющая прямая']\n",
    "for i in range(len(labels)):\n",
    "    cs.collections[i].set_label(labels[i])\n",
    "\n",
    "plt.legend(loc='upper left')\n",
    "plt.show()"
   ]
  },
  {
   "cell_type": "markdown",
   "metadata": {
    "id": "rXZxJQYNUuac"
   },
   "source": [
    "__Задание 2.__ Калибровка вероятностей.\n",
    "\n",
    "__(1.5 балла)__\n",
    "\n",
    "Перейдём к оценке качества выдаваемых алгоритмами вероятностей. Начнём с калибровочных кривых. \n",
    "\n",
    "Допустим, алгоритм возвращает некоторые числа от нуля до единицы. Хорошо ли они оценивают вероятность? Для этого разобьем отрезок $[0, 1]$ на несколько маленьких отрезков одинаковой длины. Рассмотрим $i$-й отрезок с границами $[a_i, b_i]$ и предсказания $p_1, p_2, \\dots, p_k$, которые попали в него. Пусть им соответствуют истинные ответы $y_1, y_2, \\dots, y_k$. Если алгоритм выдает корректные вероятности, то среди этих истинных ответов должно быть примерно $(a_i + b_i) / 2$ единиц. Иными словами, если нарисовать кривую, у которой по оси X отложены центры отрезков, а по оси Y — доли единичных ответов этих в отрезках, то она должна оказаться диагональной. Ниже приведена функция, которая должна рисовать такие кривые. В ней допущено две ошибки — найдите и исправьте их."
   ]
  },
  {
   "cell_type": "code",
   "execution_count": 63,
   "metadata": {
    "id": "wRLQ7JlvUuac"
   },
   "outputs": [],
   "source": [
    "def plot_calibration_curve(y_test, preds):\n",
    "    bin_middle_points = []\n",
    "    bin_real_ratios = []\n",
    "    n_bins = 20\n",
    "    for i in range(n_bins):\n",
    "        l = 1.0 / n_bins * i\n",
    "        r = 1.0 / n_bins * (i + 1)\n",
    "        bin_middle_points.append((l + r) / 2)\n",
    "        mask = (preds >= l) & (preds <= r)\n",
    "        bin_real_ratios.append(np.sum(y_test[mask]) / np.sum(mask))\n",
    "    plt.plot([bin_middle_points[0], bin_middle_points[-1]],\n",
    "             [bin_real_ratios[0], bin_real_ratios[-1]], 'c--')\n",
    "    plt.plot(bin_middle_points, bin_real_ratios)\n",
    "\n",
    "def calibration_curve(y_test, preds):\n",
    "    bin_middle_points = []\n",
    "    bin_real_ratios = []\n",
    "    n_bins = 20\n",
    "    for i in range(n_bins):\n",
    "        l = 1.0 / n_bins * i\n",
    "        r = 1.0 / n_bins * (i + 1)\n",
    "        bin_middle_points.append((l + r) / 2)\n",
    "        mask = (preds >= l) & (preds <= r)\n",
    "        bin_real_ratios.append(np.sum(y_test[mask]) / np.sum(mask))\n",
    "    return bin_middle_points, bin_real_ratios"
   ]
  },
  {
   "cell_type": "markdown",
   "metadata": {
    "id": "sM-roL4CUuai"
   },
   "source": [
    "Постройте калибровочные кривые для логистической регрессии и метода опорных векторов. Изучите распределение ответов классификаторов (постройте гистограммы с помощью plt.hist). Чем они различаются? Чем вы можете объяснить это?\n",
    "\n",
    "Заметим, что метод опорных векторов не умеет predict_proba, но имеет метод decision_function."
   ]
  },
  {
   "cell_type": "code",
   "execution_count": 64,
   "metadata": {
    "id": "NBMJlGGzUuaj"
   },
   "outputs": [],
   "source": [
    "X, y = make_classification(\n",
    "    n_samples=10000, n_features=20, n_informative=10, n_redundant=10,\n",
    "    random_state=55) #55\n",
    "\n",
    "X_train, X_test, y_train, y_test = train_test_split(\n",
    "    X, y, test_size=0.3, random_state=42)\n",
    "\n",
    "logreg = LogisticRegression(n_jobs=-1)\n",
    "svc = SVC(kernel='linear', cache_size=1000, random_state=10)\n",
    "logreg.fit(X_train, y_train)\n",
    "svc.fit(X_train, y_train)\n",
    "\n",
    "predl = logreg.predict_proba(X_test)[:, 1]\n",
    "preds = expit(svc.decision_function(X_test))"
   ]
  },
  {
   "cell_type": "code",
   "execution_count": 65,
   "metadata": {
    "colab": {
     "base_uri": "https://localhost:8080/",
     "height": 301
    },
    "id": "vIevgqputYLG",
    "outputId": "1a62e8cd-a27e-400a-bbb3-c2918838835f"
   },
   "outputs": [
    {
     "data": {
      "image/png": "[encoded data removed]",
      "text/plain": [
       "<Figure size 432x288 with 1 Axes>"
      ]
     },
     "metadata": {
      "needs_background": "light",
      "tags": []
     },
     "output_type": "display_data"
    }
   ],
   "source": [
    "plot_calibration_curve(y_test, preds)\n",
    "plt.title('Калибровочная кривая для SVC')\n",
    "plt.xlabel('Среднее вероятностей за 1 класс')\n",
    "plt.ylabel('Доля 1 класса')\n",
    "plt.show()"
   ]
  },
  {
   "cell_type": "code",
   "execution_count": 66,
   "metadata": {
    "colab": {
     "base_uri": "https://localhost:8080/",
     "height": 301
    },
    "id": "z8oewDVexdP0",
    "outputId": "decb84e3-cb3e-4735-a997-e135e01ffee3"
   },
   "outputs": [
    {
     "data": {
      "image/png": "[encoded data removed]",
      "text/plain": [
       "<Figure size 432x288 with 1 Axes>"
      ]
     },
     "metadata": {
      "needs_background": "light",
      "tags": []
     },
     "output_type": "display_data"
    }
   ],
   "source": [
    "plot_calibration_curve(y_test, predl)\n",
    "plt.title('Калибровочная кривая для Logreg')\n",
    "plt.xlabel('Среднее вероятностей за 1 класс')\n",
    "plt.ylabel('Доля 1 класса')\n",
    "plt.show()"
   ]
  },
  {
   "cell_type": "code",
   "execution_count": null,
   "metadata": {
    "colab": {
     "base_uri": "https://localhost:8080/",
     "height": 301
    },
    "id": "wcncoxxhaxcw",
    "outputId": "4be0354d-58df-4886-cef2-83b55051e9f1"
   },
   "outputs": [
    {
     "data": {
      "image/png": "[encoded data removed]",
      "text/plain": [
       "<Figure size 432x288 with 1 Axes>"
      ]
     },
     "metadata": {
      "tags": []
     },
     "output_type": "display_data"
    }
   ],
   "source": [
    "plt.hist(preds, bins=30)\n",
    "plt.title('Распределение ответов SVC')\n",
    "plt.xlabel('Ответы классификатора')\n",
    "plt.ylabel('Кол-во ответов')\n",
    "plt.show()"
   ]
  },
  {
   "cell_type": "code",
   "execution_count": null,
   "metadata": {
    "colab": {
     "base_uri": "https://localhost:8080/",
     "height": 301
    },
    "id": "H-s7GzJWcCFg",
    "outputId": "c52f8895-0e40-4b01-eccf-e05bc5554bdc"
   },
   "outputs": [
    {
     "data": {
      "image/png": "[encoded data removed]",
      "text/plain": [
       "<Figure size 432x288 with 1 Axes>"
      ]
     },
     "metadata": {
      "tags": []
     },
     "output_type": "display_data"
    }
   ],
   "source": [
    "plt.hist(predl, bins=30)\n",
    "plt.title('Распределение ответов Logreg')\n",
    "plt.xlabel('Ответы классификатора')\n",
    "plt.ylabel('Кол-во ответов')\n",
    "plt.show()"
   ]
  },
  {
   "cell_type": "markdown",
   "metadata": {
    "id": "EG1dqlUQyVf0"
   },
   "source": [
    "Распределения ответов отличаются значениями на концах и серединой. Это может быть обусловленно тем, что SVM ориентируестя на опорные вектора, близкие к границе."
   ]
  },
  {
   "cell_type": "markdown",
   "metadata": {
    "id": "uNZ7qewLUuam"
   },
   "source": [
    "Воспользуйтесь CalibratedClassifierCV из sklearn для калибровки вероятностей метода опорных векторов на обучении и постройте с его помощью предсказания для тестовой выборки. Нарисуйте для них калибровочную кривую. Улучшилась ли она?"
   ]
  },
  {
   "cell_type": "code",
   "execution_count": null,
   "metadata": {
    "colab": {
     "base_uri": "https://localhost:8080/",
     "height": 301
    },
    "id": "tPbuLCdIkTSV",
    "outputId": "7232eeaa-4681-47ab-9c62-897387a66c09"
   },
   "outputs": [
    {
     "data": {
      "image/png": "[encoded data removed]",
      "text/plain": [
       "<Figure size 432x288 with 1 Axes>"
      ]
     },
     "metadata": {
      "tags": []
     },
     "output_type": "display_data"
    }
   ],
   "source": [
    "clsvc = CalibratedClassifierCV(SVC(kernel='linear', cache_size=1000, random_state=10))\n",
    "clsvc.fit(X_train, y_train)\n",
    "predcs = clsvc.predict_proba(X_test)[:, 1]\n",
    "\n",
    "plot_calibration_curve(y_test, predcs)\n",
    "plt.title('Калибровочная кривая для CalibratedClassifierCV(SVC)')\n",
    "plt.xlabel('Среднее вероятностей за 1 класс')\n",
    "plt.ylabel('Доля 1 класса')\n",
    "plt.show()"
   ]
  },
  {
   "cell_type": "code",
   "execution_count": 69,
   "metadata": {
    "colab": {
     "base_uri": "https://localhost:8080/",
     "height": 301
    },
    "id": "jAV4WhcirytU",
    "outputId": "cc527316-3db6-44b1-b034-a3f2452f8f56"
   },
   "outputs": [
    {
     "data": {
      "image/png": "[encoded data removed]",
      "text/plain": [
       "<Figure size 432x288 with 1 Axes>"
      ]
     },
     "metadata": {
      "needs_background": "light",
      "tags": []
     },
     "output_type": "display_data"
    }
   ],
   "source": [
    "clsvc = CalibratedClassifierCV(LogisticRegression(n_jobs=-1))\n",
    "clsvc.fit(X_train, y_train)\n",
    "predcs = clsvc.predict_proba(X_test)[:, 1]\n",
    "\n",
    "plot_calibration_curve(y_test, predcs)\n",
    "plt.title('Калибровочная кривая для CalibratedClassifierCV(SVC)')\n",
    "plt.xlabel('Среднее вероятностей за 1 класс')\n",
    "plt.ylabel('Доля 1 класса')\n",
    "plt.show()"
   ]
  },
  {
   "cell_type": "markdown",
   "metadata": {
    "id": "zCdFXIUlk0pl"
   },
   "source": [
    "Для svс она улучшилась, для logreg нет."
   ]
  },
  {
   "cell_type": "markdown",
   "metadata": {
    "id": "Yqu1ypoPUuap"
   },
   "source": [
    "__Бонусное задание (1 балл).__ Реализуйте свою функцию для калибровки вероятностей. Опишите ваш подход и продемонстрируйте результаты."
   ]
  },
  {
   "cell_type": "markdown",
   "metadata": {
    "id": "aZ_O9qQaUuas"
   },
   "source": [
    "## Часть 3. Логистическая регрессия."
   ]
  },
  {
   "cell_type": "markdown",
   "metadata": {
    "id": "y6hqjIcqUuas"
   },
   "source": [
    "__Задание 3.__ Обучение логистической регрессии на реальных данных и оценка качества классификации.\n",
    "\n",
    "**(0.5 балл)**"
   ]
  },
  {
   "cell_type": "markdown",
   "metadata": {
    "ExecuteTime": {
     "end_time": "2018-10-11T20:41:54.913436Z",
     "start_time": "2018-10-11T20:41:54.907515Z"
    },
    "id": "S-NzdHkxUuas"
   },
   "source": [
    "__Подготовка данных.__\n",
    "\n",
    "Загрузим данные с конкурса  [Kaggle Porto Seguro’s Safe Driver Prediction](https://www.kaggle.com/c/porto-seguro-safe-driver-prediction) (вам нужна только обучающая выборка). Задача состоит в определении водителей, которые в ближайший год воспользуются своей автомобильной страховкой (бинарная классификация). Но для нас важна будет не сама задача, а только её данные. При этом под нужды задания мы немного модифицируем датасет."
   ]
  },
  {
   "cell_type": "code",
   "execution_count": null,
   "metadata": {
    "ExecuteTime": {
     "end_time": "2018-10-12T07:36:04.765536Z",
     "start_time": "2018-10-12T07:35:57.814973Z"
    },
    "id": "wk4K_mOSUuat"
   },
   "outputs": [],
   "source": [
    "data = pd.read_csv(path + 'train.csv', index_col=0)\n",
    "target = data.target.values\n",
    "data = data.drop('target', axis=1)"
   ]
  },
  {
   "cell_type": "markdown",
   "metadata": {
    "id": "A08kL3h1Uuaw"
   },
   "source": [
    "Пересемплируем выборку так, чтобы положительных и отрицательных объектов в выборке было одинаковое число. Разделим на обучающую и тестовую выборки.\n"
   ]
  },
  {
   "cell_type": "code",
   "execution_count": null,
   "metadata": {
    "ExecuteTime": {
     "end_time": "2018-10-12T07:36:05.368407Z",
     "start_time": "2018-10-12T07:36:04.770388Z"
    },
    "id": "eQM9fUZjUuax"
   },
   "outputs": [],
   "source": [
    "# some resampling\n",
    "np.random.seed(910)\n",
    "mask_plus = np.random.choice(np.where(target == 1)[0], 100000, replace=True)\n",
    "mask_zero = np.random.choice(np.where(target == 0)[0], 100000, replace=True)\n",
    "\n",
    "data = pd.concat((data.iloc[mask_plus], data.iloc[mask_zero]))\n",
    "target = np.hstack((target[mask_plus], target[mask_zero]))\n",
    "\n",
    "X_train, X_test, y_train, y_test = train_test_split(data, target, test_size=0.5)"
   ]
  },
  {
   "cell_type": "markdown",
   "metadata": {
    "id": "zHdIjvLcUuaz"
   },
   "source": [
    "Обучите логистическую регрессию с удобными для вас параметрами. Сделайте предсказание на тестовой части выборки."
   ]
  },
  {
   "cell_type": "code",
   "execution_count": null,
   "metadata": {
    "id": "YKCzfqAFUuaz"
   },
   "outputs": [],
   "source": [
    "logreg = LogisticRegression(n_jobs=-1, random_state=10)\n",
    "logreg.fit(X_train, y_train)\n",
    "predl = logreg.predict_proba(X_test)[:, 1]"
   ]
  },
  {
   "cell_type": "markdown",
   "metadata": {
    "id": "6HdgvAVnUua1"
   },
   "source": [
    "Постройку ROC-кривую и Precision-Recall-кривую, посчитайте ROC-AUC и PR-AUC. Какие наблюдения и выводы по ним можно сделать? (В свободной форме)"
   ]
  },
  {
   "cell_type": "code",
   "execution_count": null,
   "metadata": {
    "colab": {
     "base_uri": "https://localhost:8080/",
     "height": 301
    },
    "id": "oxI6B1JkUua2",
    "outputId": "235c90bf-bdee-4ef3-c2fa-50cb6bf58a14"
   },
   "outputs": [
    {
     "data": {
      "image/png": "[encoded data removed]",
      "text/plain": [
       "<Figure size 432x288 with 1 Axes>"
      ]
     },
     "metadata": {
      "tags": []
     },
     "output_type": "display_data"
    }
   ],
   "source": [
    "disp = plot_precision_recall_curve(logreg, X_test, y_test)\n",
    "disp.ax_.set_title('PR curve')\n",
    "plt.show()"
   ]
  },
  {
   "cell_type": "code",
   "execution_count": null,
   "metadata": {
    "colab": {
     "base_uri": "https://localhost:8080/",
     "height": 301
    },
    "id": "yLVGnF0oonw5",
    "outputId": "c4bb7ae2-4e7d-429d-f8b2-0946fe0da52f"
   },
   "outputs": [
    {
     "data": {
      "image/png": "[encoded data removed]",
      "text/plain": [
       "<Figure size 432x288 with 1 Axes>"
      ]
     },
     "metadata": {
      "tags": []
     },
     "output_type": "display_data"
    }
   ],
   "source": [
    "rocp = roc_curve(y_test, predl)\n",
    "fig, ax = plt.subplots()\n",
    "p1 = ax.plot(rocp[0], rocp[1])\n",
    "ax.set_title('ROC curve')\n",
    "ax.set_ylabel('TPR')\n",
    "ax.set_xlabel('FPR')\n",
    "plt.show()"
   ]
  },
  {
   "cell_type": "code",
   "execution_count": null,
   "metadata": {
    "colab": {
     "base_uri": "https://localhost:8080/"
    },
    "id": "_mT4LXqfozR0",
    "outputId": "4dc2758e-5b07-48b3-e2ab-435554d45047"
   },
   "outputs": [
    {
     "name": "stdout",
     "output_type": "stream",
     "text": [
      "ROC-AUC: 0.62\n",
      "PR-AUC: 0.61\n"
     ]
    }
   ],
   "source": [
    "roc_sc = roc_auc_score(y_test, predl)\n",
    "pr_sc = auc(disp.recall, disp.precision)\n",
    "\n",
    "print('ROC-AUC: {0}\\nPR-AUC: {1}'.format(np.around(roc_sc, 2), np.around(pr_sc, 2)))"
   ]
  },
  {
   "cell_type": "markdown",
   "metadata": {
    "id": "QyHTXPvhUua5"
   },
   "source": [
    "**Ответ:** PR кривая: лего заметить, что наклон прямой -0.25 -> если разбить на бины Recall с длиной бина 4, то в нём будут 5 истинных нулей и 4 истинных единицы. Причём они будет чередоваться начиная с единиц. Т.е. если отранжировать уверенность классификатора по убыванию, то в начале будут идти концентрация истинных 1, потом пойдёт чередование единиц и нулей по приведенной выше схеме.  \n",
    "Recall - это кол-во положительных ROC кривая бизка к диагонали -> метод не далёк от рандомного предсказания ответов. "
   ]
  },
  {
   "cell_type": "markdown",
   "metadata": {
    "id": "2FOZw-LEUua6"
   },
   "source": [
    "__Задание 4.__ Изучение влияния регуляризатора на процесс обучения\n",
    "\n",
    "__(1 балл)__\n",
    "\n",
    "Проверьте на практике, как влияет регуляризатор на процесс обучения (убывание функции потерь на обучающей и отложенной выборках). Чтобы считать функцию потерь на отложенной выборке после каждой итерации, можно воспользоваться параметром `warm_start` у `sklearn.linear_model.LogisticRegression` либо методом `partial_fit` `sklearn.linear_model.SGDClassifier` (параметр `loss` тогда должен быть равен `log`).\n",
    "\n",
    "Замечание:\n",
    "* Для каждого $\\alpha$ своя функция на графике; функции можно отображать на одном полотне **обязательно с легендой;** если $\\alpha$ слишком много и на одном полотне они выглядят грязно, то можно строить на нескольких, однако в этом случае рекомендуется приводить масштаб и деления (min, max значения) на оси $y$ к одним  и тем же значениям --- так визуально будет очень просто сравнить графики и сделать выводы :)\n",
    "* $\\alpha$ желательно перебирать по **логарифмической шкале** (примерно как в первом задании), однако можно использовать информацию о том, что при некоторых значениях $\\alpha$ модель не обучается хорошо и не исследовать их. Тут обязательно перебрать хотя бы 3 разных (степени в лог. шкале) $\\alpha$, больше -- приветствуется."
   ]
  },
  {
   "cell_type": "code",
   "execution_count": null,
   "metadata": {
    "id": "oLrDImaSUua7"
   },
   "outputs": [],
   "source": [
    "n_epochs = 1000\n",
    "alphas = np.logspace(-5, 0, 10)\n",
    "loss_log_m = np.zeros((len(alphas), 2, n_epochs))\n",
    "ind = 0\n",
    "for alpha in alphas:\n",
    "    sgd = SGDClassifier(loss = 'log', alpha=alpha, n_jobs=-1)\n",
    "    for epoch in range(n_epochs):\n",
    "        sgd.partial_fit(X_train, y_train, np.unique(y_train))\n",
    "        loss_log_m[ind, 0, epoch] = log_loss(y_train, sgd.predict_proba(X_train))\n",
    "        loss_log_m[ind, 1, epoch] = log_loss(y_test, sgd.predict_proba(X_test))\n",
    "    ind += 1"
   ]
  },
  {
   "cell_type": "code",
   "execution_count": null,
   "metadata": {
    "colab": {
     "base_uri": "https://localhost:8080/",
     "height": 518
    },
    "id": "ff_eiZ-uk9Pm",
    "outputId": "61ad6865-f318-4d93-db47-fb00d766540f"
   },
   "outputs": [
    {
     "data": {
      "image/png": "[encoded data removed]",
      "text/plain": [
       "<Figure size 720x576 with 1 Axes>"
      ]
     },
     "metadata": {
      "tags": []
     },
     "output_type": "display_data"
    }
   ],
   "source": [
    "plt.figure(figsize=(10, 8))\n",
    "for i in range(len(alphas)):\n",
    "    plt.plot(range(1, n_epohs + 1), pd.DataFrame(loss_log_m[i, 0, :]).rolling(10).mean().values, label='alpha = ' + str(np.around(alphas[i], 5)))\n",
    "    #plt.plot(range(1, n_epohs + 1), pd.DataFrame(loss_log_m[i, 1, :]).rolling(10).mean().values)\n",
    "plt.legend(loc='upper right')\n",
    "plt.title('Зависимость logloss от номера эпохи')\n",
    "plt.xlabel('Номер эпохи')\n",
    "plt.ylabel('Log loss')\n",
    "plt.show()"
   ]
  },
  {
   "cell_type": "markdown",
   "metadata": {
    "id": "yWkP8kwaUo26"
   },
   "source": [
    "Лосс на валидационной выборке не совпал с лоссом на обучающей, только при alpha, близких к 1. Поэтому на графике только loss на X_train.  \n",
    "Я усреднил лосс с помощью окон размера 10. Alpha близкие к 1, показали лучше результаты. Возможно, из-за того, что маленькая alpha позволяют весам быть достаточно большими -> $\\sigma(-<w, x>y)$ либо  ~ 0, либо ~ 1; т.е. или перескакиваем \"хороший\" минимум, или застреваем в локальном минимуме. В случае малых весов $\\sigma(...)$ ~ $1/2$, что даёт более сбалансированную стратегию."
   ]
  },
  {
   "cell_type": "markdown",
   "metadata": {
    "id": "E7xb5EcVUubB"
   },
   "source": [
    "## Часть 4. Работа с категориальными переменными"
   ]
  },
  {
   "cell_type": "markdown",
   "metadata": {
    "id": "mxVWjs1EUubC"
   },
   "source": [
    "В этой части мы научимся обрабатывать категориальные переменные, так как закодировать их в виде чисел недостаточно (это задаёт некоторый порядок, которого на категориальных переменных может и не быть). Существует два основных способа обработки категориальных значений:\n",
    "- One-hot-кодирование\n",
    "- Счётчики (CTR, mean-target кодирование, ...) — каждый категориальный признак заменяется на среднее значение целевой переменной по всем объектам, имеющим одинаковое значение в этом признаке.\n",
    "\n",
    "Начнём с one-hot-кодирования. Допустим наш категориальный признак $f_j(x)$ принимает значения из множества $C=\\{c_1, \\dots, c_m\\}$. Заменим его на $m$ бинарных признаков $b_1(x), \\dots, b_m(x)$, каждый из которых является индикатором одного из возможных категориальных значений:\n",
    "$$\n",
    "b_i(x) = [f_j(x) = c_i]\n",
    "$$\n",
    "\n",
    "В этой части работаем с датасетом из предыдущей части."
   ]
  },
  {
   "cell_type": "markdown",
   "metadata": {
    "id": "5NB4nrxdUubD"
   },
   "source": [
    "__Задание 5.__ Посчитайте качество (в этом задании будем работать c ROC-AUC) на исходных признаках при применении логистической регрессии.\n",
    "\n",
    "__(0 баллов)__"
   ]
  },
  {
   "cell_type": "code",
   "execution_count": null,
   "metadata": {
    "colab": {
     "base_uri": "https://localhost:8080/"
    },
    "id": "iySDiTKDUubE",
    "outputId": "aa630142-9fee-493c-e022-668d91f7674c"
   },
   "outputs": [
    {
     "name": "stdout",
     "output_type": "stream",
     "text": [
      "ROC-AUC: 0.6239\n"
     ]
    }
   ],
   "source": [
    "logreg = LogisticRegression(n_jobs=-1, random_state=10)\n",
    "logreg.fit(X_train, y_train)\n",
    "predl = logreg.predict_proba(X_test)[:, 1]\n",
    "roc_sc = roc_auc_score(y_test, predl)\n",
    "print('ROC-AUC: {0}'.format(np.around(roc_sc, 4)))"
   ]
  },
  {
   "cell_type": "markdown",
   "metadata": {
    "id": "ta43qx8sUubI"
   },
   "source": [
    "__Задание 6.__ Закодируйте все категориальные признаки с помощью one-hot-кодирования. Обучите логистическую регрессию и посмотрите, как изменилось качество модели (с тем, что было до кодирования). Измерьте время, потребовавшееся на обучение модели.\n",
    "\n",
    "__(0.5 балла)__"
   ]
  },
  {
   "cell_type": "code",
   "execution_count": null,
   "metadata": {
    "id": "oTr43AIqJulG"
   },
   "outputs": [],
   "source": [
    "def one_h_enc(data, columns):\n",
    "    aug_data = deepcopy(data)\n",
    "    for column in columns:\n",
    "        unuiq = pd.unique(data[column])\n",
    "        for val in unuiq:\n",
    "            aug_data[column + '_' + str(val)] = (aug_data[column] == val).astype(int).values\n",
    "    aug_data.drop(columns=columns, inplace=True)\n",
    "    return aug_data\n",
    "\n",
    "cat_f = data.columns[data.nunique().index.str.contains('cat')].values\n",
    "Xa_train = one_h_enc(X_train, cat_f)\n",
    "Xa_test = one_h_enc(X_test, cat_f)\n",
    "\n",
    "logreg = LogisticRegression(n_jobs=-1, random_state=10)"
   ]
  },
  {
   "cell_type": "code",
   "execution_count": null,
   "metadata": {
    "colab": {
     "base_uri": "https://localhost:8080/"
    },
    "id": "cXzTFCI1pL_t",
    "outputId": "690e4d32-693e-4bf0-b025-d1cbcf98d031"
   },
   "outputs": [
    {
     "name": "stdout",
     "output_type": "stream",
     "text": [
      "1 loop, best of 3: 46.3 s per loop\n"
     ]
    }
   ],
   "source": [
    "%timeit logreg.fit(Xa_train, y_train)"
   ]
  },
  {
   "cell_type": "code",
   "execution_count": null,
   "metadata": {
    "colab": {
     "base_uri": "https://localhost:8080/"
    },
    "id": "YnfkkD5YpJJ6",
    "outputId": "fd3c1e56-990c-4187-a632-c9a231dacb4d"
   },
   "outputs": [
    {
     "name": "stdout",
     "output_type": "stream",
     "text": [
      "ROC-AUC: 0.6155\n"
     ]
    }
   ],
   "source": [
    "predl = logreg.predict_proba(Xa_test)[:, 1]\n",
    "roc_sc = roc_auc_score(y_test, predl)\n",
    "print('ROC-AUC: {0}'.format(np.around(roc_sc, 4)))"
   ]
  },
  {
   "cell_type": "markdown",
   "metadata": {
    "id": "6gnwbe71UubL"
   },
   "source": [
    "Как можно было заменить, one-hot-кодирование может сильно увеличивать количество признаков в датасете, что сказывается на памяти, особенно, если некоторый признак имеет большое количество значений. Эту проблему решает другой способ кодирование категориальных признаков — счётчики. Основная идея в том, что нам важны не сами категории, а значения целевой переменной, которые имеют объекты этой категории. Каждый категориальный признак мы заменим средним значением целевой переменной по всем объектам этой же категории:\n",
    "$$\n",
    "g_j(x, X) = \\frac{\\sum_{i=1}^{l} [f_j(x) = f_j(x_i)][y_i = +1]}{\\sum_{i=1}^{l} [f_j(x) = f_j(x_i)]}\n",
    "$$"
   ]
  },
  {
   "cell_type": "markdown",
   "metadata": {
    "id": "4Iv7IR6zUubL"
   },
   "source": [
    "Отметим, что такие признаки сами по себе являются классификаторами и, обучаясь на них, мы допускаем \"утечку\" целевой переменной в признаки. Это ведёт к переобучению, поэтому считать такие признаки необходимо таким образом, чтобы при вычислении для конкретного объекта его целевая метка не использовалась. Это можно делать следующими способами:\n",
    "1. Вычислять значение счётчика по всем объектам расположенным выше в датасете (например, если у нас выборка отсортирована по времени).\n",
    "2. Вычислять по фолдам, то есть делить выборку на некоторое количество частей и подсчитывать значение признаков по всем фолдам кроме текущего (как делается в кросс-валидации).\n",
    "3. Внесение некоторого шума в посчитанные признаки. \n",
    "\n",
    "__(Бонусная часть)__ Закодируйте категориальные переменные с помощью счётчиков (ровно так, как описано выше без каких-либо хитростей). Реализуйте корректное вычисление счётчиков самым простым способом — добавление шума к значениям (необходимо соблюсти баланс между избавление от переобучения и полезностью признаков). Снова обучите логистическую регрессию, оцените качество. Сделайте выводы. Не забудьте замерить время.\n",
    "\n",
    "__(+0.5 балл)__"
   ]
  },
  {
   "cell_type": "code",
   "execution_count": null,
   "metadata": {
    "id": "6Iq7hJ20UubM"
   },
   "outputs": [],
   "source": [
    "tdata = pd.concat([X_train.reset_index(drop=True), pd.DataFrame(y_train, columns=['target'])], axis=1)\n",
    "mX_train = deepcopy(X_train)\n",
    "mX_test = deepcopy(X_test)\n",
    "m_y = y_train.mean()\n",
    "\n",
    "for col in cat_f:\n",
    "    gr = tdata.groupby(col).agg(['mean'])\n",
    "    mean = gr[('target',  'mean')]\n",
    "    mX_train[col + '_m'] = mX_train[col].map(mean).fillna(m_y)\n",
    "    mX_test[col + '_m'] = mX_test[col].map(mean).fillna(m_y)\n",
    "\n",
    "    div_train = (mX_train[col + '_m'].quantile(0.95) - mX_train[col + '_m'].quantile(0.05))/2\n",
    "    div_test = (mX_test[col + '_m'].quantile(0.95) - mX_test[col + '_m'].quantile(0.05))/2\n",
    "    mX_train[col + '_m'] += np.random.normal(0, div_train, mX_train[col + '_m'].shape[0])\n",
    "    mX_test[col + '_m'] += np.random.normal(0, div_test, mX_test[col + '_m'].shape[0])\n",
    "\n",
    "    # mX_train[col + '_m'] *= (1 + 0.5 * np.random.randn(mX_train[col + '_m'].shape[0]))\n",
    "    # mX_test[col + '_m'] *= (1 + 0.5 * np.random.randn(mX_test[col + '_m'].shape[0]))\n",
    "    \n",
    "    mX_train[col + '_m'][mX_train[col + '_m'] < 0] = 0\n",
    "    mX_test[col + '_m'][mX_test[col + '_m'] < 0] = 0\n",
    "    mX_train[col + '_m'][mX_train[col + '_m'] > 1] = 1\n",
    "    mX_test[col + '_m'][mX_test[col + '_m'] > 1] = 1\n"
   ]
  },
  {
   "cell_type": "code",
   "execution_count": null,
   "metadata": {
    "colab": {
     "base_uri": "https://localhost:8080/"
    },
    "id": "qyUpzWXFxx24",
    "outputId": "545fc4e6-eae4-4f60-f12f-aa83a4237016"
   },
   "outputs": [
    {
     "name": "stdout",
     "output_type": "stream",
     "text": [
      "1 loop, best of 3: 13.1 s per loop\n"
     ]
    }
   ],
   "source": [
    "logregm = LogisticRegression(n_jobs=-1, random_state=10)\n",
    "%timeit logregm.fit(mX_train, y_train)"
   ]
  },
  {
   "cell_type": "code",
   "execution_count": null,
   "metadata": {
    "colab": {
     "base_uri": "https://localhost:8080/"
    },
    "id": "etoZWjVUTHKh",
    "outputId": "723b30b4-7655-41d3-d513-b6a06b233c49"
   },
   "outputs": [
    {
     "name": "stdout",
     "output_type": "stream",
     "text": [
      "ROC-AUC: 0.6245\n"
     ]
    }
   ],
   "source": [
    "predm = logregm.predict_proba(mX_test)[:, 1]\n",
    "roc_scm = roc_auc_score(y_test, predm)\n",
    "print('ROC-AUC: {0}'.format(np.around(roc_scm, 4)))"
   ]
  },
  {
   "cell_type": "markdown",
   "metadata": {
    "id": "0Y7hUuAHUubO"
   },
   "source": [
    "**Ответ**: Качество выросло. Я добавлял шум, исходя из интерквантильного размаха. Обучается в 4x раза быстрее, чем one-hot-encoding. Качество, по идее, в one-hot должно быть выше, т.к. добавляя размерность мы упрощаем задачу для линейных моделей."
   ]
  },
  {
   "cell_type": "markdown",
   "metadata": {
    "id": "QKCXjBn-UubP"
   },
   "source": [
    "__(Бонусная часть)__ Посчитайте корректные счётчики, основываясь на объектах расположеных выше в датасете (не забудьте добавить и шум). \n",
    "\n",
    "__(+0.5 балла)__"
   ]
  },
  {
   "cell_type": "code",
   "execution_count": null,
   "metadata": {
    "id": "uRBqD8RXUubQ"
   },
   "outputs": [],
   "source": [
    "tdata = pd.concat([X_train.reset_index(drop=True), pd.DataFrame(y_train, columns=['target'])], axis=1)\n",
    "mX_train = deepcopy(X_train)\n",
    "mX_test = deepcopy(X_test)\n",
    "m_y = y_train.mean()\n",
    "\n",
    "for col in cat_f:\n",
    "    last_counters = dict()\n",
    "    for val in pd.unique(mX_train[col]):\n",
    "        last_counters[(val)] = 0\n",
    "    mX_train[col + '_m'] = m_y\n",
    "    mX_test[col + '_m'] = m_y\n",
    "    \n",
    "    for n_sample in range(1, len(mX_train)):\n",
    "        gr = tdata.iloc[:n_sample, :].groupby(col).agg(['mean'])\n",
    "        mean = gr[('target',  'mean')]\n",
    "        pre_val = mX_train[col + '_m'].iloc[n_sample] \n",
    "        if pre_val not in mean.index:\n",
    "            value = m_y\n",
    "        else:\n",
    "            value = mean[mX_train[col + '_m'].iloc[n_sample]]\n",
    "        mX_train[col + '_m'].iloc[n_sample] = value\n",
    "        last_counters[(pre_val)] = value\n",
    "    \n",
    "    last_counters_s = pd.Series(data=last_counters.values(), index=[cat_val[0] for cat_val in last_counters.index()])\n",
    "    mX_test[col + '_m'].iloc[n_sample] = mX_test[col].map(last_counters_s).fillna(m_y)\n",
    "\n",
    "    div_train = (mX_train[col + '_m'].quantile(0.95) - mX_train[col + '_m'].quantile(0.05))/2\n",
    "    div_test = (mX_test[col + '_m'].quantile(0.95) - mX_test[col + '_m'].quantile(0.05))/2\n",
    "    mX_train[col + '_m'] += np.random.normal(0, div_train, mX_train[col + '_m'].shape[0])\n",
    "    mX_test[col + '_m'] += np.random.normal(0, div_test, mX_test[col + '_m'].shape[0])\n",
    "\n",
    "    # mX_train[col + '_m'] *= (1 + 0.5 * np.random.randn(mX_train[col + '_m'].shape[0]))\n",
    "    # mX_test[col + '_m'] *= (1 + 0.5 * np.random.randn(mX_test[col + '_m'].shape[0]))\n",
    "    \n",
    "    mX_train[col + '_m'][mX_train[col + '_m'] < 0] = 0\n",
    "    mX_test[col + '_m'][mX_test[col + '_m'] < 0] = 0\n",
    "    mX_train[col + '_m'][mX_train[col + '_m'] > 1] = 1\n",
    "    mX_test[col + '_m'][mX_test[col + '_m'] > 1] = 1\n"
   ]
  },
  {
   "cell_type": "code",
   "execution_count": null,
   "metadata": {
    "colab": {
     "base_uri": "https://localhost:8080/"
    },
    "id": "e2Z3b8tGerE0",
    "outputId": "545fc4e6-eae4-4f60-f12f-aa83a4237016"
   },
   "outputs": [
    {
     "name": "stdout",
     "output_type": "stream",
     "text": [
      "1 loop, best of 3: 13.1 s per loop\n"
     ]
    }
   ],
   "source": [
    "logregm = LogisticRegression(n_jobs=-1, random_state=10)\n",
    "%timeit logregm.fit(mX_train, y_train)"
   ]
  },
  {
   "cell_type": "code",
   "execution_count": null,
   "metadata": {
    "colab": {
     "base_uri": "https://localhost:8080/"
    },
    "id": "Hb7Nl3ygerE5",
    "outputId": "723b30b4-7655-41d3-d513-b6a06b233c49"
   },
   "outputs": [
    {
     "name": "stdout",
     "output_type": "stream",
     "text": [
      "ROC-AUC: 0.6245\n"
     ]
    }
   ],
   "source": [
    "predm = logregm.predict_proba(mX_test)[:, 1]\n",
    "roc_scm = roc_auc_score(y_test, predm)\n",
    "print('ROC-AUC: {0}'.format(np.around(roc_scm, 4)))"
   ]
  },
  {
   "cell_type": "markdown",
   "metadata": {
    "id": "cm7Uxz2xUubU"
   },
   "source": [
    "А теперь ответьте на следующий вопрос: что будет, если некоторая категория встречается в выборке всего несколько раз? По этой причине производится сглаживание счётчиков. Например, на практике хорошие результаты показывает использование сглаживания средним по всей выборке:\n",
    "$$\n",
    "g_j(x, X) = \\frac{\\sum_{i=1}^{\\ell} [f_j(x) = f_j(x_i)][y_i = +1] + C \\times global\\_mean}{\\sum_{i=1}^{\\ell} [f_j(x) = f_j(x_i)] + C}\n",
    "$$\n",
    "где $global\\_mean$ — среднее значение целевой переменной по всей выборке, $C$ — параметр, определяющий степень сглаживания (например, можно использовать 10 или подобрать для каждого признака свой). Основная идея в том, что мы \"разбавляем\" среднее значение по некоторой категории глобальным средним значении. И тем меньше, чем большее количество объектов этой категории встречается в выборке. \n",
    "\n",
    "Однако для сглаживания вместо среднего значения целевой переменной можно использовать любое другое значение от 0 до 1 (этот параметр иногда называют $prior$). Можно сделать несколько признаков с разными значениями параметра. На практике в задачах бинарной классификации полезными бывают даже отрицательные значения!\n",
    "\n",
    "__Задание 7.__ Реализуйте счетчики со сглаживанием, как описано выше. Обучите логистическую регрессию, оцените качество.\n",
    "\n",
    "__(0.5 балл)__"
   ]
  },
  {
   "cell_type": "code",
   "execution_count": null,
   "metadata": {
    "id": "d8RAy8YFUubU"
   },
   "outputs": [],
   "source": [
    "tdata = pd.concat([X_train.reset_index(drop=True), pd.DataFrame(y_train, columns=['target'])], axis=1)\n",
    "mX_train = deepcopy(X_train)\n",
    "mX_test = deepcopy(X_test)\n",
    "m_y = y_train.mean()\n",
    "c = 10\n",
    "\n",
    "for col in cat_f:\n",
    "    gr = tdata.groupby(col).agg(['mean', 'count'])\n",
    "    mean = gr[('target',  'mean')]\n",
    "    count = gr[('target',  'count')]\n",
    "    prior = np.random.uniform()\n",
    "    c = np.random.uniform(high=10)\n",
    "    #prior = m_y\n",
    "    map_values = (mean * count + c * prior) / (count + c)\n",
    "    mX_train[col + '_m'] = mX_train[col].map(mean).fillna(m_y)\n",
    "    mX_test[col + '_m'] = mX_test[col].map(mean).fillna(m_y)\n",
    "\n",
    "    div_train = (mX_train[col + '_m'].quantile(0.95) - mX_train[col + '_m'].quantile(0.05))/2\n",
    "    div_test = (mX_test[col + '_m'].quantile(0.95) - mX_test[col + '_m'].quantile(0.05))/2\n",
    "    mX_train[col + '_m'] += np.random.normal(0, div_train, mX_train[col + '_m'].shape[0])\n",
    "    mX_test[col + '_m'] += np.random.normal(0, div_test, mX_test[col + '_m'].shape[0])\n",
    "\n",
    "    # mX_train[col + '_m'] *= (1 + 0.5 * np.random.randn(mX_train[col + '_m'].shape[0]))\n",
    "    # mX_test[col + '_m'] *= (1 + 0.5 * np.random.randn(mX_test[col + '_m'].shape[0]))\n",
    "    \n",
    "    mX_train[col + '_m'][mX_train[col + '_m'] < 0] = 0\n",
    "    mX_test[col + '_m'][mX_test[col + '_m'] < 0] = 0\n",
    "    mX_train[col + '_m'][mX_train[col + '_m'] > 1] = 1\n",
    "    mX_test[col + '_m'][mX_test[col + '_m'] > 1] = 1\n"
   ]
  },
  {
   "cell_type": "code",
   "execution_count": null,
   "metadata": {
    "colab": {
     "base_uri": "https://localhost:8080/"
    },
    "id": "hbdMEW3pglGh",
    "outputId": "2fddc7ae-48f2-4949-c1bf-945981c15bca"
   },
   "outputs": [
    {
     "name": "stdout",
     "output_type": "stream",
     "text": [
      "ROC-AUC: 0.6244\n"
     ]
    }
   ],
   "source": [
    "logregm = LogisticRegression(n_jobs=-1, random_state=10)\n",
    "logregm.fit(mX_train, y_train)\n",
    "predm = logregm.predict_proba(mX_test)[:, 1]\n",
    "roc_scm = roc_auc_score(y_test, predm)\n",
    "print('ROC-AUC: {0}'.format(np.around(roc_scm, 4)))"
   ]
  },
  {
   "cell_type": "markdown",
   "metadata": {
    "id": "gC5eVgGwkDn0"
   },
   "source": [
    "Качество сравнимо с предыдущим методом"
   ]
  },
  {
   "cell_type": "markdown",
   "metadata": {
    "id": "szK9xAIVUubW"
   },
   "source": [
    "__Замечание.__ Усложнение методов вычисления счётчиков не делают результаты модели гарантированно лучше. Особенно с учётом того, что логистическая регрессия не такая сложная модель, чтобы переобучаться. Поэтому вы необязательно должны были получать на каждом шаге всё лучшие и лучшие результаты (но необходимые результаты у вас должны были получиться).\n",
    "\n",
    "Как вы должны были заметить, счётчики являются хорошей альтернативой one-hot-кодированию. Напишите, какие плюсы и минусы использования счётчиков по сравнению с one-hot-кодированием, вы заметили.\n",
    "\n",
    "**Ответ**:\n",
    "_Плюсы_:\n",
    "* быстрее вычисляются\n",
    "* существенно меньше размерность пространства\n",
    "* на нашем датасете лучше качество при хороших параметрах подбора  \n",
    "  _Минусы_:\n",
    "* усреденив значения 2-ух объектов, можем получить совпадающее значение с 3-им объектом, у которого категориальное значение может не совпадать ни с 1-ым, ни со 2-ым. Т.е. нет понятия \"независимости\"\n",
    "* есть условный порядок категориальных значений\n",
    "* переобучение "
   ]
  },
  {
   "cell_type": "markdown",
   "metadata": {
    "id": "-WaV30h3UubX"
   },
   "source": [
    "## Отбор признаков"
   ]
  },
  {
   "cell_type": "markdown",
   "metadata": {
    "id": "OmNLYT_7UubX"
   },
   "source": [
    "Важной частью процесса построения модели является отбор признаков. На практике многие признаки оказывают малое влияние на модель (при этом их расчёт занимает время) или даже негативно сказываются на качестве модели. Попробуем несколько подходов отбора признаков, оценим, как они влияют на качество модели и сколько времени занимают.\n",
    "\n",
    "Обратимся к тому же датасету про обращение клиентов по страховым случаям. Обойдёмся без сэмплирования объектов."
   ]
  },
  {
   "cell_type": "code",
   "execution_count": 20,
   "metadata": {
    "id": "PVUQxvDJ0Dfr"
   },
   "outputs": [],
   "source": [
    "data = pd.read_csv(path + 'train.csv', index_col=0)\n",
    "target = data.target.values\n",
    "data = data.drop('target', axis=1)\n",
    "X_train, X_test, y_train, y_test = train_test_split(data, target, test_size=0.2, random_state=124)"
   ]
  },
  {
   "cell_type": "markdown",
   "metadata": {
    "id": "C0LZ5fIOUuba"
   },
   "source": [
    "Как вы помните, в данных много категориальных признаков. Давайте закодируем их с помощью one-hot кодирования. Исходные колонки с категориальными признаками можно удалить. Сколько признаков мы получили?"
   ]
  },
  {
   "cell_type": "code",
   "execution_count": 3,
   "metadata": {
    "colab": {
     "base_uri": "https://localhost:8080/"
    },
    "id": "hc-Sncp7v0yG",
    "outputId": "c596770a-174c-4347-ab32-32f5dca34da9"
   },
   "outputs": [
    {
     "name": "stdout",
     "output_type": "stream",
     "text": [
      "Кол-во признаков =  227\n"
     ]
    }
   ],
   "source": [
    "def one_h_enc(data, columns):\n",
    "    aug_data = deepcopy(data)\n",
    "    for column in columns:\n",
    "        unuiq = pd.unique(data[column])\n",
    "        for val in unuiq:\n",
    "            aug_data[column + '_' + str(val)] = (aug_data[column] == val).astype(int).values\n",
    "    aug_data.drop(columns=columns, inplace=True)\n",
    "    return aug_data\n",
    "\n",
    "cat_f = data.columns[data.nunique().index.str.contains('cat')].values\n",
    "Xa_train = one_h_enc(X_train, cat_f)\n",
    "Xa_test = one_h_enc(X_test, cat_f)\n",
    "print('Кол-во признаков = ', Xa_train.shape[1])"
   ]
  },
  {
   "cell_type": "markdown",
   "metadata": {
    "id": "rgTHUWcNUubq"
   },
   "source": [
    "В качестве основной модели будем использовать логистическую регрессию, а целевой метрики — ROC-AUC. Обучите модель и посчитайте качество на тестовой выборке. Давайте запомним полученное значение."
   ]
  },
  {
   "cell_type": "code",
   "execution_count": null,
   "metadata": {
    "colab": {
     "base_uri": "https://localhost:8080/"
    },
    "id": "UCUy5l_yxTm3",
    "outputId": "bb7a2345-80dd-4f55-e58c-7734369adb6f"
   },
   "outputs": [
    {
     "name": "stdout",
     "output_type": "stream",
     "text": [
      "ROC-AUC: 0.5924\n"
     ]
    }
   ],
   "source": [
    "logreg = LogisticRegression(n_jobs=-1, random_state=10)\n",
    "logreg.fit(Xa_train, y_train)\n",
    "predl = logreg.predict_proba(Xa_test)[:, 1]\n",
    "roc_sc = roc_auc_score(y_test, predl)\n",
    "print('ROC-AUC: {0}'.format(np.around(roc_sc, 4)))"
   ]
  },
  {
   "cell_type": "markdown",
   "metadata": {
    "id": "6Zc3RuxeUubv"
   },
   "source": [
    "### Встроенные методы"
   ]
  },
  {
   "cell_type": "markdown",
   "metadata": {
    "id": "NX28alm4Uubv"
   },
   "source": [
    "Допустим, мы хотим оставить только 200 лучших признаков. Попробуем сделать это несколькими способами.\n",
    "\n",
    "Начнём с отборам признаков с помощью линейной модели. Как известно, веса линейной модели означают вклад каждого признака в предсказание модели, а значит, модуль этого вклада можно интерпретировать как важность признаков. Такой метод отбора называются встроенным или embedded methods, так как он заложен в особенности модели.\n",
    "\n",
    "__Задание 8.__ Оставьте 200 признаков с наибольшим модулем соответсвующего параметра линейной модели. Обучите модели заново и оцените её качество. Замерьте скорость такого отбора признаков (время обучения нашего метода отбора).\n",
    "\n",
    "Изменилось ли качество? Как?\n",
    "\n",
    "__(0.5 балла)__"
   ]
  },
  {
   "cell_type": "code",
   "execution_count": 4,
   "metadata": {
    "colab": {
     "base_uri": "https://localhost:8080/"
    },
    "id": "a2o6hW-lVMbj",
    "outputId": "fb435080-5705-4cb2-a00b-cb1961b1508f"
   },
   "outputs": [
    {
     "name": "stdout",
     "output_type": "stream",
     "text": [
      "ROC-AUC: 0.5063\n",
      "Время отбора: 1.1811 c.\n"
     ]
    }
   ],
   "source": [
    "start = timer()\n",
    "lasso = Lasso(random_state=10)\n",
    "lasso.fit(Xa_train, y_train)\n",
    "best_col = np.where(np.isin(np.arange(227), np.argpartition(np.abs(lasso.coef_), np.arange(227 - 200))[np.arange(227 - 200)]) == False)[0]\n",
    "end = timer()\n",
    "\n",
    "logreg = LogisticRegression(n_jobs=-1, random_state=10)\n",
    "logreg.fit(Xa_train.iloc[:, best_col], y_train)\n",
    "predl = logreg.predict_proba(Xa_test.iloc[:, best_col])[:, 1]\n",
    "roc_sc = roc_auc_score(y_test, predl)\n",
    "print('ROC-AUC: {0}\\nВремя отбора: {1} c.'.format(np.around(roc_sc, 4),\n",
    "                                                  np.around(end - start, 4)))"
   ]
  },
  {
   "cell_type": "code",
   "execution_count": null,
   "metadata": {
    "colab": {
     "base_uri": "https://localhost:8080/"
    },
    "id": "zfXu261fUubw",
    "outputId": "3f6559ab-0a7e-40ad-da0f-e21b31eccbe7"
   },
   "outputs": [
    {
     "name": "stdout",
     "output_type": "stream",
     "text": [
      "ROC-AUC: 0.5981\n",
      "Время отбора: 2.0816 c.\n"
     ]
    }
   ],
   "source": [
    "start = timer()\n",
    "ridge = Ridge(random_state=10)\n",
    "ridge.fit(Xa_train, y_train)\n",
    "best_col = np.where(np.isin(np.arange(227), np.argpartition(np.abs(ridge.coef_), np.arange(227 - 200))[np.arange(227 - 200)]) == False)[0]\n",
    "end = timer()\n",
    "\n",
    "logreg = LogisticRegression(n_jobs=-1, random_state=10)\n",
    "logreg.fit(Xa_train.iloc[:, best_col], y_train)\n",
    "predl = logreg.predict_proba(Xa_test.iloc[:, best_col])[:, 1]\n",
    "roc_sc = roc_auc_score(y_test, predl)\n",
    "print('ROC-AUC: {0}\\nВремя отбора: {1} c.'.format(np.around(roc_sc, 4),\n",
    "                                                  np.around(end - start, 4)))"
   ]
  },
  {
   "cell_type": "markdown",
   "metadata": {
    "id": "tITczyu73e0Q"
   },
   "source": [
    "Качество выросло"
   ]
  },
  {
   "cell_type": "markdown",
   "metadata": {
    "id": "PV1v29goUub4"
   },
   "source": [
    "А теперь давайте подумаем, что мы не учли. Мы предположили, что признаки вносят вклад равномерно, но не учли их масштаба. Если мы умножим один из признаков в 100 раз, то без учёта регуляризации его вес уменьшится в эти же 100 раз. А мы на основе этого отбираем признаки! Давайте сначала отнормируем признаки одним из способов, а только потом будем удалять признаки. \n",
    "\n",
    "Кстати, в таком случае надо пересчитать качество на всех признаках (сделайте это ниже). Если вы сделали нормирование признаков в самом начале, то попробуйте отобрать признаки на неотмасштабированных данных.\n",
    "\n",
    "Что получилось?"
   ]
  },
  {
   "cell_type": "code",
   "execution_count": 92,
   "metadata": {
    "colab": {
     "base_uri": "https://localhost:8080/"
    },
    "id": "Qh8tej7vUub5",
    "outputId": "58979664-756f-4c5b-dc47-75e4f2590653"
   },
   "outputs": [
    {
     "name": "stdout",
     "output_type": "stream",
     "text": [
      "Без селекции\\С селекцией\n",
      "ROC-AUC: 0.5906\\0.5943\n",
      "Время отбора: 0\\191.6215 c.\n"
     ]
    }
   ],
   "source": [
    "rel_f = X_train.columns.values[np.isin(X_train.columns.values, cat_f) == False]\n",
    "Xa_train = deepcopy(X_train[rel_f])\n",
    "Xa_test = deepcopy(X_test[rel_f])\n",
    "\n",
    "Xa_train=(Xa_train-Xa_train.mean())/Xa_train.std()\n",
    "Xa_test=(Xa_test-Xa_test.mean())/Xa_test.std()\n",
    "\n",
    "Xa_train = pd.concat((Xa_train.reset_index(drop=True), one_h_enc(X_train[cat_f], cat_f).reset_index(drop=True)), axis=1)\n",
    "Xa_test = pd.concat((Xa_test.reset_index(drop=True), one_h_enc(X_test[cat_f], cat_f).reset_index(drop=True)), axis=1)\n",
    "\n",
    "scrs = []\n",
    "start = timer()\n",
    "lasso = Lasso(random_state=10, alpha=0.001)\n",
    "lasso.fit(Xa_train, y_train)\n",
    "best_col = np.where(np.isin(np.arange(227), np.argpartition(np.abs(lasso.coef_), np.arange(227 - 200))[np.arange(227 - 200)]) == False)[0]\n",
    "end = timer()\n",
    "\n",
    "logreg = LogisticRegression(n_jobs=-1, random_state=10)\n",
    "logreg.fit(Xa_train, y_train)\n",
    "predl = logreg.predict_proba(Xa_test)[:, 1]\n",
    "roc_sc = roc_auc_score(y_test, predl)\n",
    "scrs.append(roc_sc)\n",
    "\n",
    "logreg = LogisticRegression(n_jobs=-1, random_state=10)\n",
    "logreg.fit(Xa_train.iloc[:, best_col], y_train)\n",
    "predl = logreg.predict_proba(Xa_test.iloc[:, best_col])[:, 1]\n",
    "roc_sc = roc_auc_score(y_test, predl)\n",
    "scrs.append(roc_sc)\n",
    "print('Без селекции\\С селекцией\\nROC-AUC: {0}\\{2}\\nВремя отбора: 0\\{1} c.'.format(np.around(scrs[0], 4),\n",
    "                                                  np.around(end - start, 4), np.around(scrs[1], 4)))"
   ]
  },
  {
   "cell_type": "markdown",
   "metadata": {
    "id": "5FJCDdLL2lcO"
   },
   "source": [
    "Получили лучше качество"
   ]
  },
  {
   "cell_type": "markdown",
   "metadata": {
    "id": "KAp9jtEyUub_"
   },
   "source": [
    "### Методы фильтрации"
   ]
  },
  {
   "cell_type": "markdown",
   "metadata": {
    "id": "IrPcacRZUub_"
   },
   "source": [
    "Давайте отбирать признаки умнее, а именно через подсчёт некоторой функции для каждого признака. На основании значений этой функции будем оставлять наиболее важные признаки. Методы этого семейства называют фильтрующими или  filter methods. \n",
    "\n",
    "В качестве такой функции будем считать t-статистику:\n",
    "\n",
    "$$t(x) = \\frac{|\\mu_+ - \\mu_-|}{\\sqrt{\\frac{n_+ \\sigma^2_+ + n_- \\sigma^2_-}{n_+ + n_-}}},$$\n",
    "\n",
    "где $\\mu_{+/-}$, $\\sigma_{+/-}$, $n_{+/-}$ соответственно это --- среднее; среднеквадратичное отклонение; количество объектов каждого из классов.\n",
    "\n",
    "__Задание 9.__ Оставьте 200 признаков с наибольшим значением и замерьте качество. Не забудьте замерить скорость отбора признаков (время обучения нашего метода отбора) в этом случаев.\n",
    "\n",
    "__(0.5 балла)__"
   ]
  },
  {
   "cell_type": "code",
   "execution_count": null,
   "metadata": {
    "colab": {
     "base_uri": "https://localhost:8080/"
    },
    "id": "gfdoSLCtUucA",
    "outputId": "d8bd5549-c45c-41e8-9f4e-fdbd50e69f05"
   },
   "outputs": [
    {
     "name": "stdout",
     "output_type": "stream",
     "text": [
      "ROC-AUC: 0.5848\n",
      "Время отбора: 6.1211 c.\n"
     ]
    }
   ],
   "source": [
    "Xa_train = one_h_enc(X_train, cat_f)\n",
    "Xa_test = one_h_enc(X_test, cat_f)\n",
    "n0 = (y_train == 0).sum()\n",
    "n1 = (y_train == 1).sum()\n",
    "\n",
    "start = timer()\n",
    "tdata = pd.concat([Xa_train.reset_index(drop=True), pd.DataFrame(y_train, columns=['target'])], axis=1)\n",
    "grp = tdata.groupby('target').agg(['mean', 'std'])\n",
    "means = grp.xs('mean', axis=1, level=1, drop_level=False)\n",
    "sigmas = grp.xs('std', axis=1, level=1, drop_level=False)\n",
    "diff = (means.iloc[0] - means.iloc[1]).abs().droplevel(1)\n",
    "denom = np.sqrt((n1 * sigmas.iloc[1] + n0 * sigmas.iloc[0]) / (n0 + n1)).droplevel(1)\n",
    "t_stats = diff / denom\n",
    "best_col = np.where(np.isin(np.arange(227), np.argpartition(t_stats.values, np.arange(227 - 200))[np.arange(227 - 200)]) == False)[0]\n",
    "end = timer()\n",
    "\n",
    "logreg = LogisticRegression(n_jobs=-1, random_state=10)\n",
    "logreg.fit(Xa_train.iloc[:, best_col], y_train)\n",
    "predl = logreg.predict_proba(Xa_test.iloc[:, best_col])[:, 1]\n",
    "roc_sc = roc_auc_score(y_test, predl)\n",
    "print('ROC-AUC: {0}\\nВремя отбора: {1} c.'.format(np.around(roc_sc, 4),\n",
    "                                                  np.around(end - start, 4)))"
   ]
  },
  {
   "cell_type": "markdown",
   "metadata": {
    "id": "nLTIIVEvUucJ"
   },
   "source": [
    "### Методы-обёртки"
   ]
  },
  {
   "cell_type": "markdown",
   "metadata": {
    "id": "Ew_eiNxWUucJ"
   },
   "source": [
    "__Задание 10.__ \n",
    "\n",
    "__(1 балл)__\n",
    "\n",
    "Заключительный из рассматриваемых нами методов работает следующим образом: мы исключаем по очереди один из признаков и смотрим, как это влияет на качество. Удаляем признаки таким жадным способом, пока не достигнем некоторого критерия (количество признаков или ухудшением качества).\n",
    "\n",
    "Заметим, что нельзя оценивать качество по тестовой выборке, иначе мы можем переобучиться, как, например, при настройке гиперпараметров. Разделите выборку на 2 части, на одной из них обучайте модель без одного из признаков,  на второй части оценивайте качество. Исходную тестовую выборку стоит использовать только на финальной оценке качества.\n",
    "\n",
    "Сделайте одну итерацию и прикиньте, сколько времени займёт такой отбор признаков. Кажется, что чересчур. Давайте возьмём маленький сэмпл данных (например, в 10 тысяч объектов), что сильно уменьшит время итерации. Теперь это долго, но уже приемлимо. \n",
    "\n",
    "Если это всё ещё долго для вашего комьютера, можете попробовать брать не по одному признаку, а сразу по пять (и удалять сразу тоже по 5). Для этого перед каждой итерацией удаления делите заново все признаки на группы по 5 штук.\n",
    "\n",
    "Снова оставьте только 200 признаков и оцените качество на тестовой выборке. Сколько времени занял такой отбор признаков?"
   ]
  },
  {
   "cell_type": "code",
   "execution_count": 21,
   "metadata": {
    "colab": {
     "base_uri": "https://localhost:8080/"
    },
    "id": "QV2cpK_HUucJ",
    "outputId": "d9d0f3d5-9ca0-4e46-8a51-eed41a42de33"
   },
   "outputs": [
    {
     "name": "stdout",
     "output_type": "stream",
     "text": [
      "ROC-AUC: 0.6349\n",
      "Время отбора: 5.8 ч.\n"
     ]
    }
   ],
   "source": [
    "from operator import itemgetter \n",
    "Xa_train = one_h_enc(X_train, cat_f)\n",
    "Xa_test = one_h_enc(X_test, cat_f)\n",
    "indx = np.random.choice(np.arange(Xa_train.shape[0]), 14000, replace=False)\n",
    "\n",
    "Xl_train, Xl_test, yl_train, yl_test = train_test_split(Xa_train.iloc[indx, :],\n",
    "                                                        y_train[indx],\n",
    "                                                        test_size=0.4,\n",
    "                                                        random_state=241)\n",
    "\n",
    "drop_cols = []\n",
    "cur_cols = list(range(len(Xl_train.columns.values)))\n",
    "start = timer()\n",
    "while len(cur_cols) != 200:\n",
    "    sc = np.empty((len(cur_cols)))\n",
    "    ind = 0\n",
    "    for train_ind, _ in KFold(n_splits=len(cur_cols)).split(cur_cols):\n",
    "        logreg = LogisticRegression(n_jobs=-1, random_state=10)\n",
    "        logreg.fit(Xl_train.iloc[:, list(itemgetter(*train_ind)(cur_cols))], yl_train)\n",
    "        predl = logreg.predict_proba(Xl_test.iloc[:, list(itemgetter(*train_ind)(cur_cols))])[:, 1]\n",
    "        sc[ind] = roc_auc_score(yl_test, predl)  \n",
    "        ind += 1\n",
    "    \n",
    "    cur_cols.remove(cur_cols[np.argmax(sc)])\n",
    "end = timer()\n",
    "\n",
    "logreg = LogisticRegression(n_jobs=-1, random_state=10)\n",
    "logreg.fit(Xl_train.iloc[:, list(itemgetter(*train_ind)(cur_cols))], yl_train)\n",
    "predl = logreg.predict_proba(Xl_test.iloc[:, list(itemgetter(*train_ind)(cur_cols))])[:, 1]\n",
    "roc_sc = roc_auc_score(yl_test, predl)\n",
    "print('ROC-AUC: {0}\\nВремя отбора: {1} ч.'.format(np.around(roc_sc, 4),\n",
    "                                                  np.around((end - start) / 3600, 1)))"
   ]
  },
  {
   "cell_type": "markdown",
   "metadata": {
    "id": "scQiYRUOUucM"
   },
   "source": [
    "Давайте подведём итоги по отбору признаков. Назовите преимущества и недостатки каждого из методов. Какой метод привёл к наилучшему качеству?\n",
    "\n",
    "**Ответ:**  \n",
    "Встроенные методы:\n",
    "* Плюсы\n",
    " * быстрые\n",
    " * интерпретируемые\n",
    " * аддитивные\n",
    "* Минусы\n",
    " * не учитывают нелинейную связь\n",
    " * при наличии коррелированных признаков могут зануляться признаки, коррелированные к сильным и наоборот\n",
    " * нужны действительные признаки\n",
    "\n",
    "Методы фильтрации:\n",
    "* Плюсы\n",
    " * быстрые\n",
    " * хорошо работают когда число признаков превышает количество примеров в train set\n",
    "* Минусы\n",
    " * рассматривают каждый признак независимо  \n",
    "\n",
    "Методы-обёртки:\n",
    "* Плюсы\n",
    " * напрямую оптимизируем качество\n",
    " * можем хитро подбирать множества, например, как в SHAP\n",
    "* Минусы\n",
    " * долгие (надо retrain модели делать или маскировать признаки, но это уже не то, что мы хотели)\n",
    " * не факт, что оптимум \n",
    "  \n",
    "Последний метод привёл к лучшему качеству. "
   ]
  },
  {
   "cell_type": "markdown",
   "metadata": {
    "id": "2p7sIeLyUucN"
   },
   "source": [
    "## Настройка порога для бинаризации вероятностей"
   ]
  },
  {
   "cell_type": "markdown",
   "metadata": {
    "id": "UI3zvbsrUucO"
   },
   "source": [
    "В этой части мы будем проделывать стандартные операции для подготовки модели к её реальному использованию — подбора порога для бинаризации вероятностей с учётом потребностей бизнеса или продукта. Хороший алгоритм с точки зрения ROC-AUC это, конечно, хорошо, но ведь в реальности нам надо принимать решение бинарно, например, выдавать ли кредит человеку. \n",
    "\n",
    "Воспользуемся той же самой задачей, что и в предыдущем разделе — определение обращение клиента в страховую в ближайшее время. Положительные объекты в нашей выборки как раз обратившиеся в страховую клиенты. \n",
    "\n",
    "Не вдаваясь в подробности бизнеса страховых, можно понять, что обращение клиента по страховому случаю для нас как страховой невыгодно, ведь мы теряем на этом деньги. Клиенты, которые не обращаются в страховую и ездят аккуратно, приносят нам деньги.\n",
    "\n",
    "Пусть на каждом клиенте, который обратился в нашу страховую, мы теряем 100000, а на клиенте, который не обратился в страховую, мы зарабатываем 5000. \n",
    "\n",
    "Будем строить алгоритм, который прогнозирует обращение по страховому случаю, чтобы некоторым потенциальным клиентам отказывать в обслуживании, если мы уверены, что на них мы потеряем деньги."
   ]
  },
  {
   "cell_type": "code",
   "execution_count": null,
   "metadata": {
    "ExecuteTime": {
     "end_time": "2018-10-12T07:36:04.765536Z",
     "start_time": "2018-10-12T07:35:57.814973Z"
    },
    "id": "8Xl6usCOUucP"
   },
   "outputs": [],
   "source": [
    "data = pd.read_csv(path + 'train.csv', index_col=0)\n",
    "target = data.target.values\n",
    "data = data.drop('target', axis=1)\n",
    "X_train, X_test, y_train, y_test = train_test_split(data, target, test_size=0.2, random_state=124)"
   ]
  },
  {
   "cell_type": "markdown",
   "metadata": {
    "id": "1YujqAUDUucT"
   },
   "source": [
    "В этот раз мы не будем сэмплировать данные и будем использовать их \"как есть\".\n",
    "\n",
    "Посчитайте долю положительных примеров в выборке? Скажите, почему она такая?"
   ]
  },
  {
   "cell_type": "code",
   "execution_count": null,
   "metadata": {
    "colab": {
     "base_uri": "https://localhost:8080/"
    },
    "id": "osqpTYTTUucT",
    "outputId": "fa4724a7-5016-4fa8-d3b4-fa45841951ab"
   },
   "outputs": [
    {
     "name": "stdout",
     "output_type": "stream",
     "text": [
      "Доля 1 класса: 0.04\n"
     ]
    }
   ],
   "source": [
    "print('Доля 1 класса:', np.around(y_train.sum() / y_train.shape[0], 2))"
   ]
  },
  {
   "cell_type": "markdown",
   "metadata": {
    "id": "uMwhqHJQUucW"
   },
   "source": [
    "Как вы помните, в данных много категориальных признаков. Давайте закодируем их с помощью one-hot кодирования. Исходные колонки с категориальными признаками можно удалить."
   ]
  },
  {
   "cell_type": "code",
   "execution_count": null,
   "metadata": {
    "id": "yjBs6BK9UucX"
   },
   "outputs": [],
   "source": [
    "def one_h_enc(data, columns):\n",
    "    aug_data = deepcopy(data)\n",
    "    for column in columns:\n",
    "        unuiq = pd.unique(data[column])\n",
    "        for val in unuiq:\n",
    "            aug_data[column + '_' + str(val)] = (aug_data[column] == val).astype(int).values\n",
    "    aug_data.drop(columns=columns, inplace=True)\n",
    "    return aug_data\n",
    "\n",
    "Xa_train = one_h_enc(X_train, cat_f)\n",
    "Xa_test = one_h_enc(X_test, cat_f)"
   ]
  },
  {
   "cell_type": "markdown",
   "metadata": {
    "id": "eg5NgHnjUucZ"
   },
   "source": [
    "В качестве нашей основной модели будем использовать логистическую регрессию, которая возвращает вероятность положительного класса. Обучите модель, сделайте предсказания на тестовой выборке."
   ]
  },
  {
   "cell_type": "code",
   "execution_count": null,
   "metadata": {
    "id": "_pe49OduUucZ"
   },
   "outputs": [],
   "source": [
    "logreg = LogisticRegression(n_jobs=-1, random_state=10)\n",
    "logreg.fit(Xa_train, y_train)\n",
    "predl = logreg.predict_proba(Xa_test)[:, 1]"
   ]
  },
  {
   "cell_type": "markdown",
   "metadata": {
    "id": "7wigzl3OUucb"
   },
   "source": [
    "Посчитайте ROC-AUC. Что вы можете про него сказать? Как вы считаете, почему получилось так?"
   ]
  },
  {
   "cell_type": "code",
   "execution_count": null,
   "metadata": {
    "colab": {
     "base_uri": "https://localhost:8080/"
    },
    "id": "bltE-vBfUucb",
    "outputId": "956dfcde-de03-40fc-a2a0-c8c1515043aa"
   },
   "outputs": [
    {
     "name": "stdout",
     "output_type": "stream",
     "text": [
      "ROC-AUC: 0.59\n",
      "\n"
     ]
    }
   ],
   "source": [
    "roc_sc = roc_auc_score(y_test, predl)\n",
    "print('ROC-AUC: {0}\\n'.format(np.around(roc_sc, 2)))"
   ]
  },
  {
   "cell_type": "markdown",
   "metadata": {
    "id": "DUhGUIT9Uxwv"
   },
   "source": [
    "AUC-ROC может быть завышен, поскольку измеряет долю неверно принятых объектов относительно общего числа отрицательных."
   ]
  },
  {
   "cell_type": "markdown",
   "metadata": {
    "id": "Hf7ikAi6Uuce"
   },
   "source": [
    "Постройте precision-recall кривую на тестовой выборке. Что вы можете по ней сказать?"
   ]
  },
  {
   "cell_type": "code",
   "execution_count": null,
   "metadata": {
    "colab": {
     "base_uri": "https://localhost:8080/",
     "height": 301
    },
    "id": "7TnjUDz6Uuce",
    "outputId": "ce4553f7-92f8-4fdd-fecf-dec165adc4db"
   },
   "outputs": [
    {
     "data": {
      "image/png": "[encoded data removed]",
      "text/plain": [
       "<Figure size 432x288 with 1 Axes>"
      ]
     },
     "metadata": {
      "tags": []
     },
     "output_type": "display_data"
    }
   ],
   "source": [
    "disp = plot_precision_recall_curve(logreg, Xa_test, y_test)\n",
    "disp.ax_.set_title('PR curve')\n",
    "plt.show()"
   ]
  },
  {
   "cell_type": "markdown",
   "metadata": {
    "id": "eviUMlb0U7Zm"
   },
   "source": [
    "Т.к. доля 1 маленькая, то мы будем много раз \"спускаться вниз\", и кол-во \"подъёмов\" будет маленьким. \"Подъёмы\" в начале по оси Recall обозначают, что классификатор достаточно хорошо отделяет 1 от 0 с такими порогами. "
   ]
  },
  {
   "cell_type": "markdown",
   "metadata": {
    "id": "J34k2-PFUucg"
   },
   "source": [
    "У нас есть алгоритм, который определяет вероятность обращения клиента по страховому случаю, но мы хотим использовать этот алгоритм, чтобы отказывать клиентам в обслуживании в страховой. Для этого нам нужны бинарные предсказания алгоритма. Давайте искать этот порог для получения бинарных предсказаний.\n",
    "\n",
    "__Задание 11.__\n",
    "\n",
    "__(0.5 балла)__\n",
    "\n",
    "Предположим, что нам надо подобрать порог такой, чтобы среди наших положителных предсказаний 95\\% действительно обратились бы по страховому случаю. Подберите соответствующий порог, оцените на нём precision, recall. Скажите, какой части потенциальных клиентов мы откажем?"
   ]
  },
  {
   "cell_type": "markdown",
   "metadata": {
    "id": "0NnP-Ey2FQDd"
   },
   "source": [
    "Т.е. ищем порог, где presicion >= 0.95"
   ]
  },
  {
   "cell_type": "code",
   "execution_count": null,
   "metadata": {
    "colab": {
     "base_uri": "https://localhost:8080/"
    },
    "id": "szhdfBQbct-w",
    "outputId": "1533a5ea-5eaf-4e4a-face-cfc95318091f"
   },
   "outputs": [
    {
     "data": {
      "text/plain": [
       "array([False, False, False, ..., False,  True,  True])"
      ]
     },
     "execution_count": 135,
     "metadata": {
      "tags": []
     },
     "output_type": "execute_result"
    }
   ],
   "source": [
    "prc = precision_recall_curve(y_test, predl)\n",
    "prc[0] >= 0.95"
   ]
  },
  {
   "cell_type": "code",
   "execution_count": null,
   "metadata": {
    "colab": {
     "base_uri": "https://localhost:8080/"
    },
    "id": "8x49ryGiUucg",
    "outputId": "6a445768-c39b-41e5-b535-bd6fb254c12f"
   },
   "outputs": [
    {
     "name": "stdout",
     "output_type": "stream",
     "text": [
      "Presicion: 1.0\n",
      "Recall: 0.0002\n",
      "Threshhold: 0.25\n"
     ]
    }
   ],
   "source": [
    "print('Presicion: {0}\\nRecall: {1}\\nThreshhold: {2}'.format(prc[0][-2], np.round(prc[1][-2], 4), np.round(prc[2][-2], 2)))"
   ]
  },
  {
   "cell_type": "code",
   "execution_count": null,
   "metadata": {
    "colab": {
     "base_uri": "https://localhost:8080/"
    },
    "id": "LSzivPnwXDcG",
    "outputId": "b4a73078-c052-4863-9fbd-8f7306b972e4"
   },
   "outputs": [
    {
     "name": "stdout",
     "output_type": "stream",
     "text": [
      "Откажем такой части: 1.6800651865292375e-05\n"
     ]
    }
   ],
   "source": [
    "print('Откажем такой части:', (predl >= prc[2][-2]).sum() / predl.shape[0])"
   ]
  },
  {
   "cell_type": "markdown",
   "metadata": {
    "id": "eRcP8BwKUuci"
   },
   "source": [
    "Иногда сложно решить, какие значения precision и recall нужны в нашей задаче. Однако иногда можно оценить экономический эффект от нашего алгоритма. Мы знаем, во сколько нам обходится клиент, который обратился в страховую, и сколько нам приносит клиент, который не обратился. \n",
    "\n",
    "При фиксированном пороге мы знаем, кому мы бы отказали в обслуживании. Среди них есть те, кто обратился бы в страховую и нам пришлось бы потратить деньги, и те, кто не обратился бы, то есть принёс бы нам деньги. Мы можем посчитать разницу между нашими доходами и расходами от этой группы людей и надеяться, что она будет положительной. \n",
    "\n",
    "__Задание 12.__ Найдите такой порог, при котором наш баланс (разница между доходами и расходами на группе клиентов, которым мы отказали) неотрицательный. \n",
    "\n",
    "__(1 балл)__"
   ]
  },
  {
   "cell_type": "markdown",
   "metadata": {
    "id": "JaF0wlzHbPQq"
   },
   "source": [
    "Это задание я сделал вместе со следующим, т.к. из последующего вытекает это"
   ]
  },
  {
   "cell_type": "markdown",
   "metadata": {
    "id": "RvRZ3FvsUucm"
   },
   "source": [
    "А на каком значение порога это разнциа максимальна? Скольким клиентам мы отказали в обслуживании?"
   ]
  },
  {
   "cell_type": "code",
   "execution_count": null,
   "metadata": {
    "colab": {
     "base_uri": "https://localhost:8080/"
    },
    "id": "8_hBI6lRUucj",
    "outputId": "91c09e27-7091-4b88-f53d-d2feccc46904"
   },
   "outputs": [
    {
     "name": "stdout",
     "output_type": "stream",
     "text": [
      "Max income: 168200000.0\n",
      "Threshold: 1.0\n",
      "Отказали: 0.0 части\n"
     ]
    }
   ],
   "source": [
    "srt = np.array(sorted(zip(predl, y_test), key=lambda x: x[0]))\n",
    "incomes = np.empty((srt.shape[0]))\n",
    "ind = 0\n",
    "for border in srt[:, 0]:\n",
    "    mask = srt[:, 1][srt[:, 0] < border]\n",
    "    incomes[ind] = -(mask == 1).sum() * 100000 + (mask == 0).sum() * 5000\n",
    "    ind += 1\n",
    "\n",
    "print('Max income: {0}\\nThreshold: {2}\\nОтказали: {1} части'.format(incomes.max(),\n",
    "                                                                    (predl >= srt[np.argmax(incomes), 1]).sum() / predl.shape[0],\n",
    "                                                                    srt[np.argmax(incomes), 1]))"
   ]
  },
  {
   "cell_type": "markdown",
   "metadata": {
    "id": "PHyHL_yMUucq"
   },
   "source": [
    "## Часть 5 (бонус). Vowpal Wabbit"
   ]
  },
  {
   "cell_type": "markdown",
   "metadata": {
    "id": "HK_KsTOMUucq"
   },
   "source": [
    "В этой части мы научимся использовать библиотеку [vowpal wabbit](https://github.com/JohnLangford/vowpal_wabbit). У неё есть несколько особенностей:\n",
    "- можно обучать только линейные модели, но за счёт большого количества опций и возможностей по усложнению, можно построить и довольно сложные вещи\n",
    "- можно обучаться на выборках, которые не помещаются в оперативную память\n",
    "- можно обрабатывать большое количество признаков (например, мешки слов текстов) и \"на ходу\" строить на них комбинации (не переделывать датасет)\n",
    "- другие особенности, как например, активное обучение и возможность распараллеленного обучения.\n",
    "\n",
    "Основные особенности при использовании следующие:\n",
    "- Свой формат данных: \"label |A feature1:value1 |B feature2:value2\", позволяющий, во-первых, указывать не все признаки (не нужно хранить много нулей в разреженных данных), а во-вторых, группировать и иметь возможность отключать или взаимодействовать (\"отключать\", добавлять квадратичные признаки и т.д.) сразу со всей группой признаков. По этой причине вам понадобится реализовать конвертер датасета и загрузку своих предсказаний, чтобы посчитать качество предсказаний.\n",
    "- Запуск обучения из командной строки (однако можно запускать эти же команды из ноутбука).\n",
    "\n",
    "В этот раз мы будем использовать данные с конкурса [Kaggle Avazu Click-Through Rate Prediction](https://www.kaggle.com/c/avazu-ctr-prediction) по предсказанию кликов (бинарная классификация). В обучающей выборке 40kk строк, так что у вас не должно быть желания загружать их в оперативную память. Предлагается взять первые 30kk строк в качестве обучающей выборке и оставшуюся часть для тестирования.\n",
    "\n",
    "<font color=\"red\"> !!ВНИМАНИЕ!! ХАЛЯВНЫЕ БАЛЛЫ!! ЗАДАНИЕ НА 0.5 БАЛЛА НЕСЛОЖНОЕ И ОЧЕНЬ ПОЛЕЗНОЕ!!</font>\n",
    "\n",
    "__Задание 13.__ Работа с vowpal wabbit. \n",
    "\n",
    "- Скачайте данные, разделите их на обучающую и тестовую выборки.\n",
    "- Подготовьте функции для конвертирования датасета в формат vowpal wabbit и для загрузки предсказаний в ноутбук для подсчёта функционала.\n",
    "- Сделайте простейшее решение на vowpal wabbit. Оцените качество.\n",
    "- Изучите возможности и параметры vowpal wabbit. Поэксперементируйте. \n",
    "- Расскажите, что интересного вы узнали (какие-нибудь особенности, режимы работы, фишки, параметры).\n",
    "- Удалось ли вам улучшить качество базовой модели? Насколько? Что ещё можно было бы попробовать?\n",
    "\n",
    "В этом задании предусмотрены баллы по двум критериям:\n",
    "- Мы видим, что вы **\"поигрались\" с vw**, а именно: запуск vw, обучение модели и предсказание ответов на нашем датасете (2-3 попытки обучения с разными параметрами, если не достигли 0.738), изменение значения/включения/выключения 2-3 параметров обучения с описанием того, что они делают. Несколько занимательных фактов и возможностей vowpal-wabbit __(0.5 балла)__.\n",
    "- Достижение ROC-AUC на отложенной выборки более 0.738 __(1 балл)__"
   ]
  },
  {
   "cell_type": "code",
   "execution_count": null,
   "metadata": {
    "colab": {
     "base_uri": "https://localhost:8080/"
    },
    "id": "k6uBQVEbTTRa",
    "outputId": "7d13441c-5006-4529-b02e-15ac3fc4cb67"
   },
   "outputs": [
    {
     "name": "stdout",
     "output_type": "stream",
     "text": [
      "Mounted at /content/drive\n"
     ]
    }
   ],
   "source": [
    "from google.colab import drive\n",
    "drive.mount('/content/drive')"
   ]
  },
  {
   "cell_type": "code",
   "execution_count": null,
   "metadata": {
    "id": "4fF1RWnuHjh8"
   },
   "outputs": [],
   "source": [
    "import csv\n",
    "import sys\n",
    "import random\n",
    "from operator import itemgetter \n",
    "from sklearn.metrics import log_loss\n",
    "\n",
    "%cd /content/drive/My Drive/Colab Notebooks/mmp/mmro_report/hw3/vowpal_rab/\n",
    "%cd vowpal_wabbit/\n",
    "!make install \n",
    "%cd ..\n",
    "\n",
    "path = '/content/drive/My Drive/Colab Notebooks/mmp/mmro_report/hw3/vowpal_rab'\n",
    "input_file = '/content/drive/My Drive/Colab Notebooks/mmp/mmro_report/hw3/vowpal_rab/train.csv'\n",
    "output_file1 = '/content/drive/My Drive/Colab Notebooks/mmp/mmro_report/hw3/vowpal_rab/train075.csv'\n",
    "output_file2 = '/content/drive/My Drive/Colab Notebooks/mmp/mmro_report/hw3/vowpal_rab/train025.csv'"
   ]
  },
  {
   "cell_type": "code",
   "execution_count": null,
   "metadata": {
    "id": "MyCGnBqczvWj"
   },
   "outputs": [],
   "source": [
    "i = open(input_file)\n",
    "o1 = open(output_file1, 'w')\n",
    "o2 = open(output_file2, 'w')\n",
    "\n",
    "counter = 0\n",
    "\n",
    "for line in i:\n",
    "\tr = random.random()\n",
    "\tif r > 0.75:\n",
    "\t\to2.write(line)\n",
    "\telse:\n",
    "\t\to1.write(line)\n",
    "\n",
    "i.close()\n",
    "o1.close()\n",
    "o2.close()"
   ]
  },
  {
   "cell_type": "code",
   "execution_count": 221,
   "metadata": {
    "id": "fWaQprk7fYAR"
   },
   "outputs": [],
   "source": [
    "def csvtovw_line_ohe(line, rind):\n",
    "    global label_enc\n",
    "    global max_col\n",
    "    global rel_cols\n",
    "    global cat_f\n",
    "    answer = []\n",
    "    splits = line.split(',')\n",
    "    if splits[1] == '0':\n",
    "        splits[1] = '-1'\n",
    "    answer.append(splits[1] + ' ' + str(rind) + '|r')\n",
    "    ind2 = 0\n",
    "    for ind in cat_f:\n",
    "        if splits[ind] not in label_enc[ind2].keys():\n",
    "            label_enc[ind2][splits[ind]] = max_col\n",
    "            max_col += 1\n",
    "        splits[ind] = str(label_enc[ind2][splits[ind]] + 1) + ':1'\n",
    "        ind2 += 1\n",
    "    \n",
    "    answer = answer \\\n",
    "            + list(map(lambda x: str(x[0]) + ':' + str(x[1]), zip(range(2, len(rel_cols) + 2), itemgetter(*rel_cols)(splits)))) \\\n",
    "            + ['|c'] \\\n",
    "            + list(itemgetter(*cat_f)(splits))\n",
    "    answer = ' '.join(answer) + '\\n'\n",
    "    return answer\n",
    "\n",
    "def csvtovw_line2_le(line, rind):\n",
    "    global label_enc\n",
    "    global rel_cols\n",
    "    global cat_f\n",
    "    answer = []\n",
    "    splits = line.split(',')\n",
    "    if splits[1] == '0':\n",
    "        splits[1] = '-1'\n",
    "    answer.append(splits[1] + ' ' + str(rind) + '|r')\n",
    "    ind2 = 0\n",
    "    for ind in cat_f:\n",
    "        if splits[ind] not in label_enc[ind2].keys():\n",
    "            label_enc[ind2][splits[ind]] = len(label_enc[ind2]) + 1\n",
    "        splits[ind] = str(label_enc[ind2][splits[ind]])\n",
    "        ind2 += 1\n",
    "    \n",
    "    answer = answer \\\n",
    "            + list(map(lambda x: str(x[0]) + ':' + str(x[1]), zip(range(2, len(rel_cols) + 2), itemgetter(*rel_cols)(splits)))) \\\n",
    "            + ['|c'] \\\n",
    "            + list(map(lambda x: str(x[0]) + ':' + str(x[1]), zip(range(len(rel_cols) + 2, len(rel_cols) + len(cat_f) + 2), itemgetter(*cat_f)(splits))))\n",
    "    answer = ' '.join(answer) + '\\n'\n",
    "    return answer"
   ]
  },
  {
   "cell_type": "code",
   "execution_count": 227,
   "metadata": {
    "colab": {
     "base_uri": "https://localhost:8080/"
    },
    "id": "KhVS8g5N8VXx",
    "outputId": "e9a3b416-3742-4cf6-832a-226bfbb8b274"
   },
   "outputs": [
    {
     "name": "stdout",
     "output_type": "stream",
     "text": [
      "CPU times: user 10min 40s, sys: 15.7 s, total: 10min 55s\n",
      "Wall time: 11min 51s\n"
     ]
    }
   ],
   "source": [
    "%%time\n",
    "i1 = open('/content/drive/My Drive/Colab Notebooks/mmp/mmro_report/hw3/vowpal_rab/train025.csv')\n",
    "i2 = open('/content/drive/My Drive/Colab Notebooks/mmp/mmro_report/hw3/vowpal_rab/train075.csv')\n",
    "j1 = open('/content/drive/My Drive/Colab Notebooks/mmp/mmro_report/hw3/vowpal_rab/train025_dig.vw', 'w')\n",
    "j2 = open('/content/drive/My Drive/Colab Notebooks/mmp/mmro_report/hw3/vowpal_rab/train075_dig.vw', 'w')\n",
    "n_columns = 24\n",
    "cat_f = [3, 6, 7, 9, 10, 13, 14, 15, 16, 17, 18, 19, 20, 21, 22, 23]\n",
    "drop_f = [0, 5, 8, 11, 12]\n",
    "rel_cols = [n for n in range(n_columns) if n not in cat_f and n not in drop_f and n != 1]\n",
    "all_columns = [_ for _ in range(n_columns)]\n",
    "label_enc = [dict() for i in range(len(cat_f))]\n",
    "max_col = n_columns - len(cat_f) - len(drop_f)\n",
    "i2.readline()\n",
    "\n",
    "ind = 0\n",
    "for line in i1:\n",
    "    j1.write(csvtovw_line_ohe(line, ind))\n",
    "    ind += 1\n",
    "ind = 0\n",
    "for line in i2:\n",
    "    j2.write(csvtovw_line_ohe(line, ind))\n",
    "    ind += 1\n",
    "\n",
    "i1.close()\n",
    "i2.close()\n",
    "j1.close()\n",
    "j2.close()"
   ]
  },
  {
   "cell_type": "markdown",
   "metadata": {
    "id": "-oQxcCJOd90e"
   },
   "source": [
    "Параметры, которые я включал/выключал/перебирал значения:\n",
    "* lr - learning rate\n",
    "* c - хэширование данных (ускоряет обучение и тестирование)\n",
    "* hypersearch - их утилита для перебора гиперпараметров (как они пишут, быстрее, чем brute перебор в особенности при использовании -q)\n",
    "* q - всевозможные пары признаков из namespace'ов или набора конкретных признаков (в конечном clf брал все попарные категориальные признаки)\n",
    "* passes - кол-во эпох\n",
    "* holdout_off - не оставляем часть изначального датасета (1/10 по default'у) для валидации на каждой 10 эпохе (по default'у)\n",
    "* l1, l2 - соотвествующие коэффициенты регуляризации   "
   ]
  },
  {
   "cell_type": "markdown",
   "metadata": {
    "id": "MC-x8f7YcFET"
   },
   "source": [
    "Подбираем learning rate c decay_learning_rate 0.8 (на деле: лучший по hypersearch, получился нелучшим на test) "
   ]
  },
  {
   "cell_type": "code",
   "execution_count": 9,
   "metadata": {
    "colab": {
     "base_uri": "https://localhost:8080/"
    },
    "id": "LHj3fY5JtsWQ",
    "outputId": "c3dcb718-6564-472b-b97d-8c6d455eedca"
   },
   "outputs": [
    {
     "name": "stdout",
     "output_type": "stream",
     "text": [
      "vw-hypersearch: -L: using log-space search\n",
      "trying 0.0296575966921924 ............................ 0.411158 (best)\n",
      "trying 0.00337181738081717 ............................ 0.414853\n",
      "trying 0.113691524495807 ............................ 0.409989 (best)\n",
      "trying 0.260860225278148 ............................ 0.408586 (best)\n",
      "trying 0.435833114744041 ............................ 0.407202 (best)\n",
      "trying 0.598532365837662 ............................ 0.406083 (best)\n",
      "trying 0.728169669043847 ............................ 0.405281 (best)\n",
      "trying 0.82196827371784 ............................ 0.404747 (best)\n",
      "trying 0.885885370916164 ............................ 0.404401 (best)\n",
      "trying 0.927849472068579 ............................ 0.404182 (best)\n",
      "trying 0.954772727241134 ............................ 0.404044 (best)\n",
      "trying 0.971801399009006 ............................ 0.403958 (best)\n",
      "trying 0.982477210070662 ............................ 0.403905 (best)\n",
      "trying 0.989133782491618 ............................ 0.403872 (best)\n",
      "trying 0.993270301208206 ............................ 0.403851 (best)\n",
      "trying 0.995835455150973 ............................ 0.403838 (best)\n",
      "trying 0.997424118683966 ............................ 0.40383 (best)\n",
      "trying 0.998407233690029 ............................ 0.403826 (best)\n",
      "trying 0.999015316623429 ............................ 0.403823 (best)\n",
      "trying 0.999391317707264 ............................ 0.403821 (best)\n",
      "trying 0.999623769911572 ............................ 0.40382 (best)\n",
      "trying 0.999767460307263 ............................ 0.403819 (best)\n",
      "trying 0.999856276182817 ............................ 0.403818 (best)\n",
      "trying 0.999911171357654 ............................ 0.403818 (best)\n",
      "loss(0.999911) == loss(0.999856): 0.403818\n",
      "trying 0.999883723393507 ............................ 0.403818 (best)\n",
      "0.999884\t0.403818\n"
     ]
    }
   ],
   "source": [
    "!perl vowpal_wabbit/utl/vw-hypersearch  -L 1e-4  1 vw -d train075_dig.vw -c --loss_function logistic --link logistic -f clf --passes 5 -q cc --holdout_off -l % --l1 1e-7 --l2 1e-7 -b 25 --decay_learning_rate 0.8"
   ]
  },
  {
   "cell_type": "markdown",
   "metadata": {
    "id": "4E-W-t6vctuB"
   },
   "source": [
    "Подбираем learning rate c decay_learning_rate 1 (на деле: лучший по hypersearch, получился нелучшим на test) "
   ]
  },
  {
   "cell_type": "code",
   "execution_count": 10,
   "metadata": {
    "colab": {
     "base_uri": "https://localhost:8080/"
    },
    "id": "QCWtS8jFGS8M",
    "outputId": "9a32379f-8168-402d-bb8e-8020f4ee2341"
   },
   "outputs": [
    {
     "name": "stdout",
     "output_type": "stream",
     "text": [
      "vw-hypersearch: -L: using log-space search\n",
      "trying 0.0296575966921924 ............................ 0.410859 (best)\n",
      "trying 0.00337181738081717 ............................ 0.414494\n",
      "trying 0.113691524495807 ............................ 0.409176 (best)\n",
      "trying 0.260860225278148 ............................ 0.407109 (best)\n",
      "trying 0.435833114744041 ............................ 0.405111 (best)\n",
      "trying 0.598532365837662 ............................ 0.403558 (best)\n",
      "trying 0.728169669043847 ............................ 0.402482 (best)\n",
      "trying 0.82196827371784 ...........................^C\n"
     ]
    }
   ],
   "source": [
    "!perl vowpal_wabbit/utl/vw-hypersearch  -L 1e-4  1 vw -d train075_dig.vw -c --loss_function logistic --link logistic -f clf --passes 5 -q cc --holdout_off -l % --l1 1e-7 --l2 1e-7 -b 25"
   ]
  },
  {
   "cell_type": "markdown",
   "metadata": {
    "id": "1kx4esTCcvqy"
   },
   "source": [
    "Подбираем passes (на деле: лучший по hypersearch, получился <b>лучшим</b> на test) "
   ]
  },
  {
   "cell_type": "code",
   "execution_count": null,
   "metadata": {
    "colab": {
     "base_uri": "https://localhost:8080/"
    },
    "id": "8IJvGXepzizl",
    "outputId": "ffef923e-4761-4cf3-cc58-5d2ffe090f00"
   },
   "outputs": [
    {
     "name": "stdout",
     "output_type": "stream",
     "text": [
      "trying 13 ............................. 0.404313 (best)\n",
      "trying 9 ............................. 0.402806 (best)\n",
      "trying 7 ............................ 0.401829 (best)\n",
      "trying 5 ............................ 0.400584 (best)\n",
      "trying 4 ..........................."
     ]
    }
   ],
   "source": [
    "!perl vowpal_wabbit/utl/vw-hypersearch 3 20 vw -d train075_dig.vw -c --loss_function logistic --link logistic -f clf --passes % -q cc --holdout_off -l 1 --l1 1e-7 --l2 1e-7 -b 25"
   ]
  },
  {
   "cell_type": "markdown",
   "metadata": {
    "id": "swLWjym0dIEU"
   },
   "source": [
    "Подбираем l2 (на деле: параметр очень маленький, так что его равенство 0 почти равносильно) "
   ]
  },
  {
   "cell_type": "code",
   "execution_count": 21,
   "metadata": {
    "colab": {
     "base_uri": "https://localhost:8080/"
    },
    "id": "ifGbTBvv0s80",
    "outputId": "2a1c78dd-2b86-4640-a538-f34c9a30ce6d"
   },
   "outputs": [
    {
     "name": "stdout",
     "output_type": "stream",
     "text": [
      "vw-hypersearch: -L: using log-space search\n",
      "trying 1.0825347684256e-05 ............................ 0.408123 (best)\n",
      "trying 9.23757859024117e-09 ............................ 0.390743 (best)\n",
      "trying 1.17188152485027e-10 ............................ 0.390367 (best)\n",
      "trying 7.88268984052926e-12 ............................ 0.390363 (best)\n",
      "trying 1.48665182641714e-12 ............................ 0.390363 (best)\n",
      "loss(1.48665e-12) == loss(7.88269e-12): 0.390363\n",
      "trying 3.42327551454782e-12 ...........................^C\n"
     ]
    }
   ],
   "source": [
    "!perl vowpal_wabbit/utl/vw-hypersearch -L 1e-13 1 vw -d train075_dig.vw -c --loss_function logistic --link logistic -f clf --passes 5 -q cc --holdout_off --l2 % "
   ]
  },
  {
   "cell_type": "markdown",
   "metadata": {
    "id": "RfBn8-7fda_I"
   },
   "source": [
    "Лучшие параметры"
   ]
  },
  {
   "cell_type": "code",
   "execution_count": 24,
   "metadata": {
    "colab": {
     "base_uri": "https://localhost:8080/"
    },
    "id": "WyJgBWGz49cH",
    "outputId": "7ce024b4-aeb0-4e83-befe-933bd29387b4"
   },
   "outputs": [
    {
     "name": "stdout",
     "output_type": "stream",
     "text": [
      "creating quadratic features for pairs: cc \n",
      "final_regressor = clf\n",
      "Num weight bits = 18\n",
      "learning rate = 0.5\n",
      "initial_t = 0\n",
      "power_t = 0.5\n",
      "decay_learning_rate = 1\n",
      "using cache_file = train075_dig.vw.cache\n",
      "ignoring text input in favor of cache input\n",
      "num sources = 1\n",
      "Enabled reductions: gd, scorer\n",
      "average  since         example        example  current  current  current\n",
      "loss     last          counter         weight    label  predict features\n",
      "0.693147 0.693147            1            1.0  -1.0000   0.5000      154\n",
      "0.453566 0.213985            2            2.0  -1.0000   0.1926      154\n",
      "0.290942 0.128318            4            4.0  -1.0000   0.1767      155\n",
      "0.232791 0.174640            8            8.0  -1.0000   0.0315      154\n",
      "0.447731 0.662672           16           16.0  -1.0000   0.2230      155\n",
      "0.583358 0.718985           32           32.0   1.0000   0.5855      154\n",
      "0.682730 0.782101           64           64.0   1.0000   0.0638      154\n",
      "0.596953 0.511177          128          128.0   1.0000   0.3188      154\n",
      "0.533290 0.469627          256          256.0  -1.0000   0.2761      154\n",
      "0.450387 0.367485          512          512.0  -1.0000   0.0522      155\n",
      "0.486180 0.521973         1024         1024.0  -1.0000   0.1628      154\n",
      "0.469512 0.452844         2048         2048.0  -1.0000   0.0135      155\n",
      "0.475427 0.481342         4096         4096.0  -1.0000   0.1060      154\n",
      "0.457863 0.440299         8192         8192.0  -1.0000   0.3048      154\n",
      "0.448098 0.438333        16384        16384.0  -1.0000   0.0027      154\n",
      "0.440505 0.432913        32768        32768.0  -1.0000   0.0114      154\n",
      "0.428579 0.416653        65536        65536.0  -1.0000   0.2240      154\n",
      "0.421826 0.415074       131072       131072.0  -1.0000   0.3116      154\n",
      "0.405137 0.388448       262144       262144.0   1.0000   0.0478      154\n",
      "0.396898 0.388659       524288       524288.0  -1.0000   0.0534      155\n",
      "0.382523 0.368148      1048576      1048576.0  -1.0000   0.1161      154\n",
      "0.395814 0.409104      2097152      2097152.0  -1.0000   0.3075      154\n",
      "0.401609 0.407405      4194304      4194304.0  -1.0000   0.0863      154\n",
      "0.393036 0.384462      8388608      8388608.0   1.0000   0.1959      154\n",
      "0.402298 0.411561     16777216     16777216.0  -1.0000   0.0423      155\n",
      "0.394375 0.386451     33554432     33554432.0  -1.0000   0.2814      155\n",
      "0.391027 0.387680     67108864     67108864.0  -1.0000   0.0555      155\n",
      "0.390909 0.390791    134217728    134217728.0  -1.0000   0.4229      154\n",
      "\n",
      "finished run\n",
      "number of examples per pass = 30319460\n",
      "passes used = 5\n",
      "weighted example sum = 151597300.000000\n",
      "weighted label sum = -100130350.000000\n",
      "average loss = 0.390363\n",
      "best constant = -1.587408\n",
      "best constant's loss = 0.455488\n",
      "total feature number = 23388417940\n"
     ]
    }
   ],
   "source": [
    "!vw -d train075_dig.vw -c --loss_function logistic --link logistic -f clf --passes 5 -q cc --holdout_off"
   ]
  },
  {
   "cell_type": "code",
   "execution_count": 25,
   "metadata": {
    "colab": {
     "base_uri": "https://localhost:8080/"
    },
    "id": "clZfXkost5FF",
    "outputId": "b033894b-c294-497d-cd57-da09519d3b9e"
   },
   "outputs": [
    {
     "name": "stdout",
     "output_type": "stream",
     "text": [
      "creating quadratic features for pairs: cc \n",
      "only testing\n",
      "predictions = p_out\n",
      "Num weight bits = 18\n",
      "learning rate = 0.5\n",
      "initial_t = 0\n",
      "power_t = 0.5\n",
      "using cache_file = train025_dig.vw.cache\n",
      "ignoring text input in favor of cache input\n",
      "num sources = 1\n",
      "Enabled reductions: gd, scorer\n",
      "average  since         example        example  current  current  current\n",
      "loss     last          counter         weight    label  predict features\n",
      "0.778867 0.778867            1            1.0  -1.0000   0.1321      154\n",
      "0.532952 0.287037            2            2.0  -1.0000   0.1772      154\n",
      "1.710931 2.888909            4            4.0   1.0000   0.2566      154\n",
      "1.624517 1.538102            8            8.0  -1.0000   0.1192      154\n",
      "1.557076 1.489636           16           16.0  -1.0000   0.0818      154\n",
      "1.728925 1.900774           32           32.0  -1.0000   0.0221      155\n",
      "3.039648 4.350370           64           64.0  -1.0000   0.0910      155\n",
      "2.955357 2.871066          128          128.0  -1.0000   0.1923      154\n",
      "2.647440 2.339524          256          256.0  -1.0000   0.0258      154\n",
      "2.694877 2.742314          512          512.0  -1.0000   0.1398      154\n",
      "2.820487 2.946098         1024         1024.0  -1.0000   0.3445      154\n",
      "2.810213 2.799938         2048         2048.0  -1.0000   0.0676      155\n",
      "2.788415 2.766618         4096         4096.0  -1.0000   0.1251      154\n",
      "2.787444 2.786474         8192         8192.0  -1.0000   0.2345      154\n",
      "2.777633 2.767821        16384        16384.0  -1.0000   0.0441      155\n",
      "2.829968 2.882304        32768        32768.0  -1.0000   0.0106      154\n",
      "3.005243 3.180518        65536        65536.0  -1.0000   0.0146      154\n",
      "3.527805 4.050366       131072       131072.0  -1.0000   0.0089      154\n",
      "3.849708 4.171612       262144       262144.0  -1.0000   0.2680      155\n",
      "3.869193 3.888678       524288       524288.0  -1.0000   0.0387      155\n",
      "3.531577 3.193960      1048576      1048576.0   1.0000   0.0952      154\n",
      "3.856273 4.180969      2097152      2097152.0  -1.0000   0.0509      155\n",
      "3.555176 3.254079      4194304      4194304.0   1.0000   0.1503      154\n",
      "3.602600 3.650024      8388608      8388608.0   1.0000   0.0776      154\n",
      "\n",
      "finished run\n",
      "number of examples = 10109507\n",
      "weighted example sum = 10109507.000000\n",
      "weighted label sum = -6672765.000000\n",
      "average loss = 3.569920\n",
      "best constant = -0.660048\n",
      "best constant's loss = 0.564336\n",
      "total feature number = 1559696707\n"
     ]
    }
   ],
   "source": [
    "!vw -t -i clf -p p_out -d train025_dig.vw -c\n",
    "with open('p_out') as pred_file:\n",
    "    preds = [float(label.split(' ')[0]) for label in pred_file.readlines()]\n",
    "with open('train025_dig.vw') as test:\n",
    "    test = [float(line.split(' ')[0]) for line in test.readlines()]"
   ]
  },
  {
   "cell_type": "code",
   "execution_count": 26,
   "metadata": {
    "colab": {
     "base_uri": "https://localhost:8080/"
    },
    "id": "upZIIVSHdh9x",
    "outputId": "89c78098-3cab-4a49-b35e-37f67a23198b"
   },
   "outputs": [
    {
     "name": "stdout",
     "output_type": "stream",
     "text": [
      "AUC-ROC: 0.7522280167540752\n"
     ]
    }
   ],
   "source": [
    "print('AUC-ROC: {0}'.format(roc_auc_score(test, preds)))"
   ]
  },
  {
   "cell_type": "markdown",
   "metadata": {
    "id": "lgtC5GnbwmY7"
   },
   "source": [
    "Занимательные факты и возможности vowpal-wabbit:\n",
    "* Vowpal Wabbit классификация в случае большого числа классов может обучаться за логарифмическое время\n",
    "* можем определять Namespace и брать попарные признаки из 2 namespace (удобно), автоматически удаляются клоны получившихся признаков(с точностью до перестановки)\n",
    "* можем тренировать sigmoidal feedforward net\n",
    "* vw по дефолту не хэширует вещественные признаки, но, используя --hash all, хэшируются все. Это помогает распараллеливания вычислений "
   ]
  },
  {
   "cell_type": "markdown",
   "metadata": {
    "id": "9Rq5xnQExZgz"
   },
   "source": [
    "______________________________________________________________________________  \n",
    "\n",
    "https://github.com/mmp-mmro-team/mmp_mmro_fall_2020/blob/master/seminars/sem03-sklearn-linreg.ipynb  \n",
    "https://scikit-learn.org/stable/auto_examples/model_selection/plot_precision_recall.html  \n",
    "https://scikit-learn.org/stable/auto_examples/model_selection/plot_roc.html  \n",
    "https://scikit-learn.org/stable/auto_examples/svm/plot_separating_hyperplane.html"
   ]
  }
 ],
 "metadata": {
  "colab": {
   "collapsed_sections": [],
   "name": "homework-practice-3-kuznetsovmikhail.ipynb",
   "provenance": [],
   "toc_visible": true
  },
  "kernelspec": {
   "display_name": "Python 2",
   "language": "python",
   "name": "python2"
  },
  "language_info": {
   "codemirror_mode": {
    "name": "ipython",
    "version": 2
   },
   "file_extension": ".py",
   "mimetype": "text/x-python",
   "name": "python",
   "nbconvert_exporter": "python",
   "pygments_lexer": "ipython2",
   "version": "2.7.6"
  },
  "toc": {
   "base_numbering": 1,
   "nav_menu": {},
   "number_sections": true,
   "sideBar": true,
   "skip_h1_title": true,
   "title_cell": "Table of Contents",
   "title_sidebar": "Contents",
   "toc_cell": false,
   "toc_position": {},
   "toc_section_display": true,
   "toc_window_display": false
  },
  "varInspector": {
   "cols": {
    "lenName": 16,
    "lenType": 16,
    "lenVar": 40
   },
   "kernels_config": {
    "python": {
     "delete_cmd_postfix": "",
     "delete_cmd_prefix": "del ",
     "library": "var_list.py",
     "varRefreshCmd": "print(var_dic_list())"
    },
    "r": {
     "delete_cmd_postfix": ") ",
     "delete_cmd_prefix": "rm(",
     "library": "var_list.r",
     "varRefreshCmd": "cat(var_dic_list()) "
    }
   },
   "types_to_exclude": [
    "module",
    "function",
    "builtin_function_or_method",
    "instance",
    "_Feature"
   ],
   "window_display": false
  }
 },
 "nbformat": 4,
 "nbformat_minor": 1
}
